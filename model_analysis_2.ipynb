{
 "cells": [
  {
   "cell_type": "code",
   "execution_count": null,
   "metadata": {
    "colab": {
     "base_uri": "https://localhost:8080/"
    },
    "id": "kbvHeZXFMrv9",
    "outputId": "6ea1dee7-b83e-4bd3-e978-67e44b431d16"
   },
   "outputs": [],
   "source": [
    "#!pip install histocartography"
   ]
  },
  {
   "cell_type": "code",
   "execution_count": null,
   "metadata": {
    "id": "FUZs8_gwMbkq"
   },
   "outputs": [],
   "source": [
    "import dgl\n",
    "import numpy as np\n",
    "import pandas as pd\n",
    "import torch\n",
    "import copy\n",
    "import cgm_model\n",
    "import importlib\n",
    "importlib.reload(cgm_model)\n",
    "import cgm_model"
   ]
  },
  {
   "cell_type": "code",
   "execution_count": null,
   "metadata": {
    "colab": {
     "base_uri": "https://localhost:8080/"
    },
    "id": "-hkUHGOqM9tb",
    "outputId": "a0d08d17-f8f8-46e1-b2fa-313fc2d9ebd4"
   },
   "outputs": [],
   "source": [
    "# from google.colab import drive\n",
    "# drive.mount('/content/drive')"
   ]
  },
  {
   "cell_type": "code",
   "execution_count": null,
   "metadata": {
    "id": "LxI_imkAMbks"
   },
   "outputs": [],
   "source": [
    "# DATA_PATH = '/content/drive/Shareddrives/BIOINF 593 Course Project/'\n",
    "DATA_PATH = './data/'\n",
    "pt_data = pd.read_excel(DATA_PATH+'CRC_TMAs_patient_annotations.xlsx')\n",
    "cell_data = pd.read_csv(DATA_PATH+'CRC_master.csv')"
   ]
  },
  {
   "cell_type": "code",
   "execution_count": null,
   "metadata": {
    "id": "zgobsR9zMbk0"
   },
   "outputs": [],
   "source": [
    "gnn_params = {'readout_op': 'concat',\n",
    " 'layer_type': 'gin_layer',\n",
    " 'agg_type': 'mean',\n",
    " 'output_dim': 16,\n",
    " 'num_layers': 2,\n",
    " 'readout_type': 'mean',\n",
    " 'batch_norm': True,\n",
    " 'act': 'relu'}\n",
    "classification_params = {'hidden_dim': 16, 'num_layers': 2}"
   ]
  },
  {
   "cell_type": "code",
   "execution_count": null,
   "metadata": {
    "colab": {
     "base_uri": "https://localhost:8080/"
    },
    "id": "GZURKTK0Mbk0",
    "outputId": "22c2b500-4f04-409a-d918-0a11bfdd1a59",
    "tags": []
   },
   "outputs": [],
   "source": [
    "data, labs, ids = cgm_model.data_to_dgl_graph(pt_data, cell_data, mode='connectivity', normalize=True)"
   ]
  },
  {
   "cell_type": "code",
   "execution_count": null,
   "metadata": {
    "colab": {
     "base_uri": "https://localhost:8080/"
    },
    "id": "50PiSJtmMbk1",
    "outputId": "a61111d8-b12b-43e5-e857-8d692bacbfab"
   },
   "outputs": [],
   "source": [
    "num_models = 10\n",
    "cgm_reps = []\n",
    "for _ in range(num_models):\n",
    "    model = cgm_model.CGModel(gnn_params=gnn_params, classification_params=classification_params, node_dim=74, num_epochs=50)\n",
    "    model.train(data)\n",
    "    cgm_reps.append(copy.deepcopy(model))"
   ]
  },
  {
   "cell_type": "code",
   "execution_count": null,
   "metadata": {
    "id": "mTH-QJK6Mbk1"
   },
   "outputs": [],
   "source": [
    "res = cgm_model.get_model_score_dict(cgm_reps, data, labs)"
   ]
  },
  {
   "cell_type": "code",
   "execution_count": null,
   "metadata": {
    "id": "CuoU8NxSMbk1",
    "outputId": "621582e0-0db7-4972-cefe-aac5347def11"
   },
   "outputs": [],
   "source": [
    "len(res)"
   ]
  },
  {
   "cell_type": "code",
   "execution_count": null,
   "metadata": {
    "id": "L9lSKsw7Mbk2"
   },
   "outputs": [],
   "source": [
    "import pickle"
   ]
  },
  {
   "cell_type": "code",
   "execution_count": null,
   "metadata": {
    "id": "xK0r-5xOMbk2"
   },
   "outputs": [],
   "source": [
    "with open(\"importance_scores_group_prediction.pkl\", 'wb') as f:\n",
    "    pickle.dump(res, f)"
   ]
  },
  {
   "cell_type": "code",
   "execution_count": null,
   "metadata": {
    "id": "KiYqovNwMbk2"
   },
   "outputs": [],
   "source": [
    "scl = res[0]"
   ]
  },
  {
   "cell_type": "code",
   "execution_count": null,
   "metadata": {
    "id": "rHQV8W8_Mbk3",
    "outputId": "72a7b22f-a3a9-4326-f727-48c78f851fc4"
   },
   "outputs": [],
   "source": [
    "import matplotlib.pyplot as plt\n",
    "for ct in scl.cell_type.unique():\n",
    "    plt.hist(scl[scl['cell_type'] == ct].score_campp)\n",
    "    plt.title(ct)\n",
    "    plt.show()"
   ]
  },
  {
   "cell_type": "code",
   "execution_count": null,
   "metadata": {
    "id": "2t6jopdqMbk3"
   },
   "outputs": [],
   "source": []
  }
 ],
 "metadata": {
  "accelerator": "GPU",
  "colab": {
   "name": "model_analysis_2.ipynb",
   "provenance": []
  },
  "interpreter": {
   "hash": "f32023d3187841795697d47a9066836f1d96daf3799e179b4995fcdf98db168e"
  },
  "kernelspec": {
   "display_name": "Python 3 (ipykernel)",
   "language": "python",
   "name": "python3"
  },
  "language_info": {
   "codemirror_mode": {
    "name": "ipython",
    "version": 3
   },
   "file_extension": ".py",
   "mimetype": "text/x-python",
   "name": "python",
   "nbconvert_exporter": "python",
   "pygments_lexer": "ipython3",
   "version": "3.7.12"
  }
 },
 "nbformat": 4,
 "nbformat_minor": 4
}
