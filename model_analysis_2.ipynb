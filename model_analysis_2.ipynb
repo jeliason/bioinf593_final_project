{
 "cells": [
  {
   "cell_type": "code",
   "execution_count": null,
   "metadata": {
    "colab": {
     "base_uri": "https://localhost:8080/"
    },
    "id": "kbvHeZXFMrv9",
    "outputId": "6ea1dee7-b83e-4bd3-e978-67e44b431d16"
   },
   "outputs": [],
   "source": [
    "#!pip install histocartography"
   ]
  },
  {
   "cell_type": "code",
   "execution_count": 26,
   "metadata": {
    "id": "FUZs8_gwMbkq"
   },
   "outputs": [],
   "source": [
    "import dgl\n",
    "import numpy as np\n",
    "import pandas as pd\n",
    "import torch\n",
    "import copy\n",
    "import pickle\n",
    "import cgm_model\n",
    "import utils\n",
    "import importlib\n",
    "importlib.reload(cgm_model)\n",
    "importlib.reload(utils)\n",
    "import cgm_model\n",
    "import utils"
   ]
  },
  {
   "cell_type": "code",
   "execution_count": null,
   "metadata": {
    "colab": {
     "base_uri": "https://localhost:8080/"
    },
    "id": "-hkUHGOqM9tb",
    "outputId": "a0d08d17-f8f8-46e1-b2fa-313fc2d9ebd4"
   },
   "outputs": [],
   "source": [
    "# from google.colab import drive\n",
    "# drive.mount('/content/drive')"
   ]
  },
  {
   "cell_type": "code",
   "execution_count": 2,
   "metadata": {
    "id": "LxI_imkAMbks"
   },
   "outputs": [
    {
     "name": "stderr",
     "output_type": "stream",
     "text": [
      "/home/joeleliason/anaconda3/envs/hactnet/lib/python3.7/site-packages/ipykernel_launcher.py:3: FutureWarning: Your version of xlrd is 1.2.0. In xlrd >= 2.0, only the xls format is supported. As a result, the openpyxl engine will be used if it is installed and the engine argument is not specified. Install openpyxl instead.\n",
      "  This is separate from the ipykernel package so we can avoid doing imports until\n"
     ]
    }
   ],
   "source": [
    "# DATA_PATH = '/content/drive/Shareddrives/BIOINF 593 Course Project/'\n",
    "DATA_PATH = './data/'\n",
    "pt_data = pd.read_excel(DATA_PATH+'CRC_TMAs_patient_annotations.xlsx')\n",
    "cell_data = pd.read_csv(DATA_PATH+'CRC_master.csv')"
   ]
  },
  {
   "cell_type": "code",
   "execution_count": 6,
   "metadata": {
    "id": "zgobsR9zMbk0"
   },
   "outputs": [],
   "source": [
    "gnn_params = {'readout_op': 'concat',\n",
    " 'layer_type': 'gin_layer',\n",
    " 'agg_type': 'mean',\n",
    " 'output_dim': 16,\n",
    " 'num_layers': 2,\n",
    " 'readout_type': 'mean',\n",
    " 'batch_norm': True,\n",
    " 'act': 'relu'}\n",
    "classification_params = {'hidden_dim': 16, 'num_layers': 2}"
   ]
  },
  {
   "cell_type": "code",
   "execution_count": 7,
   "metadata": {
    "colab": {
     "base_uri": "https://localhost:8080/"
    },
    "collapsed": true,
    "id": "GZURKTK0Mbk0",
    "jupyter": {
     "outputs_hidden": true
    },
    "outputId": "22c2b500-4f04-409a-d918-0a11bfdd1a59",
    "tags": []
   },
   "outputs": [
    {
     "name": "stderr",
     "output_type": "stream",
     "text": [
      "/home/joeleliason/Dropbox (University of Michigan)/Projects/bioinf593/bioinf593_final_project/cgm_model.py:32: RuntimeWarning: invalid value encountered in true_divide\n",
      "  features = np.nan_to_num((features-features.mean(axis=0))/features.std(axis=0))\n",
      "/home/joeleliason/Dropbox (University of Michigan)/Projects/bioinf593/bioinf593_final_project/cgm_model.py:32: RuntimeWarning: invalid value encountered in true_divide\n",
      "  features = np.nan_to_num((features-features.mean(axis=0))/features.std(axis=0))\n",
      "/home/joeleliason/Dropbox (University of Michigan)/Projects/bioinf593/bioinf593_final_project/cgm_model.py:32: RuntimeWarning: invalid value encountered in true_divide\n",
      "  features = np.nan_to_num((features-features.mean(axis=0))/features.std(axis=0))\n",
      "/home/joeleliason/Dropbox (University of Michigan)/Projects/bioinf593/bioinf593_final_project/cgm_model.py:32: RuntimeWarning: invalid value encountered in true_divide\n",
      "  features = np.nan_to_num((features-features.mean(axis=0))/features.std(axis=0))\n",
      "/home/joeleliason/Dropbox (University of Michigan)/Projects/bioinf593/bioinf593_final_project/cgm_model.py:32: RuntimeWarning: invalid value encountered in true_divide\n",
      "  features = np.nan_to_num((features-features.mean(axis=0))/features.std(axis=0))\n",
      "/home/joeleliason/Dropbox (University of Michigan)/Projects/bioinf593/bioinf593_final_project/cgm_model.py:32: RuntimeWarning: invalid value encountered in true_divide\n",
      "  features = np.nan_to_num((features-features.mean(axis=0))/features.std(axis=0))\n",
      "/home/joeleliason/Dropbox (University of Michigan)/Projects/bioinf593/bioinf593_final_project/cgm_model.py:32: RuntimeWarning: invalid value encountered in true_divide\n",
      "  features = np.nan_to_num((features-features.mean(axis=0))/features.std(axis=0))\n",
      "/home/joeleliason/Dropbox (University of Michigan)/Projects/bioinf593/bioinf593_final_project/cgm_model.py:32: RuntimeWarning: invalid value encountered in true_divide\n",
      "  features = np.nan_to_num((features-features.mean(axis=0))/features.std(axis=0))\n",
      "/home/joeleliason/Dropbox (University of Michigan)/Projects/bioinf593/bioinf593_final_project/cgm_model.py:32: RuntimeWarning: invalid value encountered in true_divide\n",
      "  features = np.nan_to_num((features-features.mean(axis=0))/features.std(axis=0))\n",
      "/home/joeleliason/Dropbox (University of Michigan)/Projects/bioinf593/bioinf593_final_project/cgm_model.py:32: RuntimeWarning: invalid value encountered in true_divide\n",
      "  features = np.nan_to_num((features-features.mean(axis=0))/features.std(axis=0))\n",
      "/home/joeleliason/Dropbox (University of Michigan)/Projects/bioinf593/bioinf593_final_project/cgm_model.py:32: RuntimeWarning: invalid value encountered in true_divide\n",
      "  features = np.nan_to_num((features-features.mean(axis=0))/features.std(axis=0))\n",
      "/home/joeleliason/Dropbox (University of Michigan)/Projects/bioinf593/bioinf593_final_project/cgm_model.py:32: RuntimeWarning: invalid value encountered in true_divide\n",
      "  features = np.nan_to_num((features-features.mean(axis=0))/features.std(axis=0))\n",
      "/home/joeleliason/Dropbox (University of Michigan)/Projects/bioinf593/bioinf593_final_project/cgm_model.py:32: RuntimeWarning: invalid value encountered in true_divide\n",
      "  features = np.nan_to_num((features-features.mean(axis=0))/features.std(axis=0))\n",
      "/home/joeleliason/Dropbox (University of Michigan)/Projects/bioinf593/bioinf593_final_project/cgm_model.py:32: RuntimeWarning: invalid value encountered in true_divide\n",
      "  features = np.nan_to_num((features-features.mean(axis=0))/features.std(axis=0))\n",
      "/home/joeleliason/Dropbox (University of Michigan)/Projects/bioinf593/bioinf593_final_project/cgm_model.py:32: RuntimeWarning: invalid value encountered in true_divide\n",
      "  features = np.nan_to_num((features-features.mean(axis=0))/features.std(axis=0))\n",
      "/home/joeleliason/Dropbox (University of Michigan)/Projects/bioinf593/bioinf593_final_project/cgm_model.py:32: RuntimeWarning: invalid value encountered in true_divide\n",
      "  features = np.nan_to_num((features-features.mean(axis=0))/features.std(axis=0))\n",
      "/home/joeleliason/Dropbox (University of Michigan)/Projects/bioinf593/bioinf593_final_project/cgm_model.py:32: RuntimeWarning: invalid value encountered in true_divide\n",
      "  features = np.nan_to_num((features-features.mean(axis=0))/features.std(axis=0))\n",
      "/home/joeleliason/Dropbox (University of Michigan)/Projects/bioinf593/bioinf593_final_project/cgm_model.py:32: RuntimeWarning: invalid value encountered in true_divide\n",
      "  features = np.nan_to_num((features-features.mean(axis=0))/features.std(axis=0))\n",
      "/home/joeleliason/Dropbox (University of Michigan)/Projects/bioinf593/bioinf593_final_project/cgm_model.py:32: RuntimeWarning: invalid value encountered in true_divide\n",
      "  features = np.nan_to_num((features-features.mean(axis=0))/features.std(axis=0))\n",
      "/home/joeleliason/Dropbox (University of Michigan)/Projects/bioinf593/bioinf593_final_project/cgm_model.py:32: RuntimeWarning: invalid value encountered in true_divide\n",
      "  features = np.nan_to_num((features-features.mean(axis=0))/features.std(axis=0))\n",
      "/home/joeleliason/Dropbox (University of Michigan)/Projects/bioinf593/bioinf593_final_project/cgm_model.py:32: RuntimeWarning: invalid value encountered in true_divide\n",
      "  features = np.nan_to_num((features-features.mean(axis=0))/features.std(axis=0))\n",
      "/home/joeleliason/Dropbox (University of Michigan)/Projects/bioinf593/bioinf593_final_project/cgm_model.py:32: RuntimeWarning: invalid value encountered in true_divide\n",
      "  features = np.nan_to_num((features-features.mean(axis=0))/features.std(axis=0))\n",
      "/home/joeleliason/Dropbox (University of Michigan)/Projects/bioinf593/bioinf593_final_project/cgm_model.py:32: RuntimeWarning: invalid value encountered in true_divide\n",
      "  features = np.nan_to_num((features-features.mean(axis=0))/features.std(axis=0))\n",
      "/home/joeleliason/Dropbox (University of Michigan)/Projects/bioinf593/bioinf593_final_project/cgm_model.py:32: RuntimeWarning: invalid value encountered in true_divide\n",
      "  features = np.nan_to_num((features-features.mean(axis=0))/features.std(axis=0))\n",
      "/home/joeleliason/Dropbox (University of Michigan)/Projects/bioinf593/bioinf593_final_project/cgm_model.py:32: RuntimeWarning: invalid value encountered in true_divide\n",
      "  features = np.nan_to_num((features-features.mean(axis=0))/features.std(axis=0))\n",
      "/home/joeleliason/Dropbox (University of Michigan)/Projects/bioinf593/bioinf593_final_project/cgm_model.py:32: RuntimeWarning: invalid value encountered in true_divide\n",
      "  features = np.nan_to_num((features-features.mean(axis=0))/features.std(axis=0))\n",
      "/home/joeleliason/Dropbox (University of Michigan)/Projects/bioinf593/bioinf593_final_project/cgm_model.py:32: RuntimeWarning: invalid value encountered in true_divide\n",
      "  features = np.nan_to_num((features-features.mean(axis=0))/features.std(axis=0))\n",
      "/home/joeleliason/Dropbox (University of Michigan)/Projects/bioinf593/bioinf593_final_project/cgm_model.py:32: RuntimeWarning: invalid value encountered in true_divide\n",
      "  features = np.nan_to_num((features-features.mean(axis=0))/features.std(axis=0))\n",
      "/home/joeleliason/Dropbox (University of Michigan)/Projects/bioinf593/bioinf593_final_project/cgm_model.py:32: RuntimeWarning: invalid value encountered in true_divide\n",
      "  features = np.nan_to_num((features-features.mean(axis=0))/features.std(axis=0))\n",
      "/home/joeleliason/Dropbox (University of Michigan)/Projects/bioinf593/bioinf593_final_project/cgm_model.py:32: RuntimeWarning: invalid value encountered in true_divide\n",
      "  features = np.nan_to_num((features-features.mean(axis=0))/features.std(axis=0))\n",
      "/home/joeleliason/Dropbox (University of Michigan)/Projects/bioinf593/bioinf593_final_project/cgm_model.py:32: RuntimeWarning: invalid value encountered in true_divide\n",
      "  features = np.nan_to_num((features-features.mean(axis=0))/features.std(axis=0))\n",
      "/home/joeleliason/Dropbox (University of Michigan)/Projects/bioinf593/bioinf593_final_project/cgm_model.py:32: RuntimeWarning: invalid value encountered in true_divide\n",
      "  features = np.nan_to_num((features-features.mean(axis=0))/features.std(axis=0))\n",
      "/home/joeleliason/Dropbox (University of Michigan)/Projects/bioinf593/bioinf593_final_project/cgm_model.py:32: RuntimeWarning: invalid value encountered in true_divide\n",
      "  features = np.nan_to_num((features-features.mean(axis=0))/features.std(axis=0))\n",
      "/home/joeleliason/Dropbox (University of Michigan)/Projects/bioinf593/bioinf593_final_project/cgm_model.py:32: RuntimeWarning: invalid value encountered in true_divide\n",
      "  features = np.nan_to_num((features-features.mean(axis=0))/features.std(axis=0))\n",
      "/home/joeleliason/Dropbox (University of Michigan)/Projects/bioinf593/bioinf593_final_project/cgm_model.py:32: RuntimeWarning: invalid value encountered in true_divide\n",
      "  features = np.nan_to_num((features-features.mean(axis=0))/features.std(axis=0))\n",
      "/home/joeleliason/Dropbox (University of Michigan)/Projects/bioinf593/bioinf593_final_project/cgm_model.py:32: RuntimeWarning: invalid value encountered in true_divide\n",
      "  features = np.nan_to_num((features-features.mean(axis=0))/features.std(axis=0))\n",
      "/home/joeleliason/Dropbox (University of Michigan)/Projects/bioinf593/bioinf593_final_project/cgm_model.py:32: RuntimeWarning: invalid value encountered in true_divide\n",
      "  features = np.nan_to_num((features-features.mean(axis=0))/features.std(axis=0))\n",
      "/home/joeleliason/Dropbox (University of Michigan)/Projects/bioinf593/bioinf593_final_project/cgm_model.py:32: RuntimeWarning: invalid value encountered in true_divide\n",
      "  features = np.nan_to_num((features-features.mean(axis=0))/features.std(axis=0))\n",
      "/home/joeleliason/Dropbox (University of Michigan)/Projects/bioinf593/bioinf593_final_project/cgm_model.py:32: RuntimeWarning: invalid value encountered in true_divide\n",
      "  features = np.nan_to_num((features-features.mean(axis=0))/features.std(axis=0))\n",
      "/home/joeleliason/Dropbox (University of Michigan)/Projects/bioinf593/bioinf593_final_project/cgm_model.py:32: RuntimeWarning: invalid value encountered in true_divide\n",
      "  features = np.nan_to_num((features-features.mean(axis=0))/features.std(axis=0))\n",
      "/home/joeleliason/Dropbox (University of Michigan)/Projects/bioinf593/bioinf593_final_project/cgm_model.py:32: RuntimeWarning: invalid value encountered in true_divide\n",
      "  features = np.nan_to_num((features-features.mean(axis=0))/features.std(axis=0))\n",
      "/home/joeleliason/Dropbox (University of Michigan)/Projects/bioinf593/bioinf593_final_project/cgm_model.py:32: RuntimeWarning: invalid value encountered in true_divide\n",
      "  features = np.nan_to_num((features-features.mean(axis=0))/features.std(axis=0))\n",
      "/home/joeleliason/Dropbox (University of Michigan)/Projects/bioinf593/bioinf593_final_project/cgm_model.py:32: RuntimeWarning: invalid value encountered in true_divide\n",
      "  features = np.nan_to_num((features-features.mean(axis=0))/features.std(axis=0))\n",
      "/home/joeleliason/Dropbox (University of Michigan)/Projects/bioinf593/bioinf593_final_project/cgm_model.py:32: RuntimeWarning: invalid value encountered in true_divide\n",
      "  features = np.nan_to_num((features-features.mean(axis=0))/features.std(axis=0))\n",
      "/home/joeleliason/Dropbox (University of Michigan)/Projects/bioinf593/bioinf593_final_project/cgm_model.py:32: RuntimeWarning: invalid value encountered in true_divide\n",
      "  features = np.nan_to_num((features-features.mean(axis=0))/features.std(axis=0))\n",
      "/home/joeleliason/Dropbox (University of Michigan)/Projects/bioinf593/bioinf593_final_project/cgm_model.py:32: RuntimeWarning: invalid value encountered in true_divide\n",
      "  features = np.nan_to_num((features-features.mean(axis=0))/features.std(axis=0))\n",
      "/home/joeleliason/Dropbox (University of Michigan)/Projects/bioinf593/bioinf593_final_project/cgm_model.py:32: RuntimeWarning: invalid value encountered in true_divide\n",
      "  features = np.nan_to_num((features-features.mean(axis=0))/features.std(axis=0))\n",
      "/home/joeleliason/Dropbox (University of Michigan)/Projects/bioinf593/bioinf593_final_project/cgm_model.py:32: RuntimeWarning: invalid value encountered in true_divide\n",
      "  features = np.nan_to_num((features-features.mean(axis=0))/features.std(axis=0))\n",
      "/home/joeleliason/Dropbox (University of Michigan)/Projects/bioinf593/bioinf593_final_project/cgm_model.py:32: RuntimeWarning: invalid value encountered in true_divide\n",
      "  features = np.nan_to_num((features-features.mean(axis=0))/features.std(axis=0))\n",
      "/home/joeleliason/Dropbox (University of Michigan)/Projects/bioinf593/bioinf593_final_project/cgm_model.py:32: RuntimeWarning: invalid value encountered in true_divide\n",
      "  features = np.nan_to_num((features-features.mean(axis=0))/features.std(axis=0))\n",
      "/home/joeleliason/Dropbox (University of Michigan)/Projects/bioinf593/bioinf593_final_project/cgm_model.py:32: RuntimeWarning: invalid value encountered in true_divide\n",
      "  features = np.nan_to_num((features-features.mean(axis=0))/features.std(axis=0))\n",
      "/home/joeleliason/Dropbox (University of Michigan)/Projects/bioinf593/bioinf593_final_project/cgm_model.py:32: RuntimeWarning: invalid value encountered in true_divide\n",
      "  features = np.nan_to_num((features-features.mean(axis=0))/features.std(axis=0))\n",
      "/home/joeleliason/Dropbox (University of Michigan)/Projects/bioinf593/bioinf593_final_project/cgm_model.py:32: RuntimeWarning: invalid value encountered in true_divide\n",
      "  features = np.nan_to_num((features-features.mean(axis=0))/features.std(axis=0))\n",
      "/home/joeleliason/Dropbox (University of Michigan)/Projects/bioinf593/bioinf593_final_project/cgm_model.py:32: RuntimeWarning: invalid value encountered in true_divide\n",
      "  features = np.nan_to_num((features-features.mean(axis=0))/features.std(axis=0))\n",
      "/home/joeleliason/Dropbox (University of Michigan)/Projects/bioinf593/bioinf593_final_project/cgm_model.py:32: RuntimeWarning: invalid value encountered in true_divide\n",
      "  features = np.nan_to_num((features-features.mean(axis=0))/features.std(axis=0))\n",
      "/home/joeleliason/Dropbox (University of Michigan)/Projects/bioinf593/bioinf593_final_project/cgm_model.py:32: RuntimeWarning: invalid value encountered in true_divide\n",
      "  features = np.nan_to_num((features-features.mean(axis=0))/features.std(axis=0))\n",
      "/home/joeleliason/Dropbox (University of Michigan)/Projects/bioinf593/bioinf593_final_project/cgm_model.py:32: RuntimeWarning: invalid value encountered in true_divide\n",
      "  features = np.nan_to_num((features-features.mean(axis=0))/features.std(axis=0))\n",
      "/home/joeleliason/Dropbox (University of Michigan)/Projects/bioinf593/bioinf593_final_project/cgm_model.py:32: RuntimeWarning: invalid value encountered in true_divide\n",
      "  features = np.nan_to_num((features-features.mean(axis=0))/features.std(axis=0))\n",
      "/home/joeleliason/Dropbox (University of Michigan)/Projects/bioinf593/bioinf593_final_project/cgm_model.py:32: RuntimeWarning: invalid value encountered in true_divide\n",
      "  features = np.nan_to_num((features-features.mean(axis=0))/features.std(axis=0))\n",
      "/home/joeleliason/Dropbox (University of Michigan)/Projects/bioinf593/bioinf593_final_project/cgm_model.py:32: RuntimeWarning: invalid value encountered in true_divide\n",
      "  features = np.nan_to_num((features-features.mean(axis=0))/features.std(axis=0))\n",
      "/home/joeleliason/Dropbox (University of Michigan)/Projects/bioinf593/bioinf593_final_project/cgm_model.py:32: RuntimeWarning: invalid value encountered in true_divide\n",
      "  features = np.nan_to_num((features-features.mean(axis=0))/features.std(axis=0))\n",
      "/home/joeleliason/Dropbox (University of Michigan)/Projects/bioinf593/bioinf593_final_project/cgm_model.py:32: RuntimeWarning: invalid value encountered in true_divide\n",
      "  features = np.nan_to_num((features-features.mean(axis=0))/features.std(axis=0))\n",
      "/home/joeleliason/Dropbox (University of Michigan)/Projects/bioinf593/bioinf593_final_project/cgm_model.py:32: RuntimeWarning: invalid value encountered in true_divide\n",
      "  features = np.nan_to_num((features-features.mean(axis=0))/features.std(axis=0))\n",
      "/home/joeleliason/Dropbox (University of Michigan)/Projects/bioinf593/bioinf593_final_project/cgm_model.py:32: RuntimeWarning: invalid value encountered in true_divide\n",
      "  features = np.nan_to_num((features-features.mean(axis=0))/features.std(axis=0))\n",
      "/home/joeleliason/Dropbox (University of Michigan)/Projects/bioinf593/bioinf593_final_project/cgm_model.py:32: RuntimeWarning: invalid value encountered in true_divide\n",
      "  features = np.nan_to_num((features-features.mean(axis=0))/features.std(axis=0))\n",
      "/home/joeleliason/Dropbox (University of Michigan)/Projects/bioinf593/bioinf593_final_project/cgm_model.py:32: RuntimeWarning: invalid value encountered in true_divide\n",
      "  features = np.nan_to_num((features-features.mean(axis=0))/features.std(axis=0))\n",
      "/home/joeleliason/Dropbox (University of Michigan)/Projects/bioinf593/bioinf593_final_project/cgm_model.py:32: RuntimeWarning: invalid value encountered in true_divide\n",
      "  features = np.nan_to_num((features-features.mean(axis=0))/features.std(axis=0))\n",
      "/home/joeleliason/Dropbox (University of Michigan)/Projects/bioinf593/bioinf593_final_project/cgm_model.py:32: RuntimeWarning: invalid value encountered in true_divide\n",
      "  features = np.nan_to_num((features-features.mean(axis=0))/features.std(axis=0))\n",
      "/home/joeleliason/Dropbox (University of Michigan)/Projects/bioinf593/bioinf593_final_project/cgm_model.py:32: RuntimeWarning: invalid value encountered in true_divide\n",
      "  features = np.nan_to_num((features-features.mean(axis=0))/features.std(axis=0))\n",
      "/home/joeleliason/Dropbox (University of Michigan)/Projects/bioinf593/bioinf593_final_project/cgm_model.py:32: RuntimeWarning: invalid value encountered in true_divide\n",
      "  features = np.nan_to_num((features-features.mean(axis=0))/features.std(axis=0))\n",
      "/home/joeleliason/Dropbox (University of Michigan)/Projects/bioinf593/bioinf593_final_project/cgm_model.py:32: RuntimeWarning: invalid value encountered in true_divide\n",
      "  features = np.nan_to_num((features-features.mean(axis=0))/features.std(axis=0))\n",
      "/home/joeleliason/Dropbox (University of Michigan)/Projects/bioinf593/bioinf593_final_project/cgm_model.py:32: RuntimeWarning: invalid value encountered in true_divide\n",
      "  features = np.nan_to_num((features-features.mean(axis=0))/features.std(axis=0))\n",
      "/home/joeleliason/Dropbox (University of Michigan)/Projects/bioinf593/bioinf593_final_project/cgm_model.py:32: RuntimeWarning: invalid value encountered in true_divide\n",
      "  features = np.nan_to_num((features-features.mean(axis=0))/features.std(axis=0))\n",
      "/home/joeleliason/Dropbox (University of Michigan)/Projects/bioinf593/bioinf593_final_project/cgm_model.py:32: RuntimeWarning: invalid value encountered in true_divide\n",
      "  features = np.nan_to_num((features-features.mean(axis=0))/features.std(axis=0))\n",
      "/home/joeleliason/Dropbox (University of Michigan)/Projects/bioinf593/bioinf593_final_project/cgm_model.py:32: RuntimeWarning: invalid value encountered in true_divide\n",
      "  features = np.nan_to_num((features-features.mean(axis=0))/features.std(axis=0))\n",
      "/home/joeleliason/Dropbox (University of Michigan)/Projects/bioinf593/bioinf593_final_project/cgm_model.py:32: RuntimeWarning: invalid value encountered in true_divide\n",
      "  features = np.nan_to_num((features-features.mean(axis=0))/features.std(axis=0))\n",
      "/home/joeleliason/Dropbox (University of Michigan)/Projects/bioinf593/bioinf593_final_project/cgm_model.py:32: RuntimeWarning: invalid value encountered in true_divide\n",
      "  features = np.nan_to_num((features-features.mean(axis=0))/features.std(axis=0))\n",
      "/home/joeleliason/Dropbox (University of Michigan)/Projects/bioinf593/bioinf593_final_project/cgm_model.py:32: RuntimeWarning: invalid value encountered in true_divide\n",
      "  features = np.nan_to_num((features-features.mean(axis=0))/features.std(axis=0))\n",
      "/home/joeleliason/Dropbox (University of Michigan)/Projects/bioinf593/bioinf593_final_project/cgm_model.py:32: RuntimeWarning: invalid value encountered in true_divide\n",
      "  features = np.nan_to_num((features-features.mean(axis=0))/features.std(axis=0))\n",
      "/home/joeleliason/Dropbox (University of Michigan)/Projects/bioinf593/bioinf593_final_project/cgm_model.py:32: RuntimeWarning: invalid value encountered in true_divide\n",
      "  features = np.nan_to_num((features-features.mean(axis=0))/features.std(axis=0))\n",
      "/home/joeleliason/Dropbox (University of Michigan)/Projects/bioinf593/bioinf593_final_project/cgm_model.py:32: RuntimeWarning: invalid value encountered in true_divide\n",
      "  features = np.nan_to_num((features-features.mean(axis=0))/features.std(axis=0))\n",
      "/home/joeleliason/Dropbox (University of Michigan)/Projects/bioinf593/bioinf593_final_project/cgm_model.py:32: RuntimeWarning: invalid value encountered in true_divide\n",
      "  features = np.nan_to_num((features-features.mean(axis=0))/features.std(axis=0))\n",
      "/home/joeleliason/Dropbox (University of Michigan)/Projects/bioinf593/bioinf593_final_project/cgm_model.py:32: RuntimeWarning: invalid value encountered in true_divide\n",
      "  features = np.nan_to_num((features-features.mean(axis=0))/features.std(axis=0))\n",
      "/home/joeleliason/Dropbox (University of Michigan)/Projects/bioinf593/bioinf593_final_project/cgm_model.py:32: RuntimeWarning: invalid value encountered in true_divide\n",
      "  features = np.nan_to_num((features-features.mean(axis=0))/features.std(axis=0))\n",
      "/home/joeleliason/Dropbox (University of Michigan)/Projects/bioinf593/bioinf593_final_project/cgm_model.py:32: RuntimeWarning: invalid value encountered in true_divide\n",
      "  features = np.nan_to_num((features-features.mean(axis=0))/features.std(axis=0))\n",
      "/home/joeleliason/Dropbox (University of Michigan)/Projects/bioinf593/bioinf593_final_project/cgm_model.py:32: RuntimeWarning: invalid value encountered in true_divide\n",
      "  features = np.nan_to_num((features-features.mean(axis=0))/features.std(axis=0))\n",
      "/home/joeleliason/Dropbox (University of Michigan)/Projects/bioinf593/bioinf593_final_project/cgm_model.py:32: RuntimeWarning: invalid value encountered in true_divide\n",
      "  features = np.nan_to_num((features-features.mean(axis=0))/features.std(axis=0))\n",
      "/home/joeleliason/Dropbox (University of Michigan)/Projects/bioinf593/bioinf593_final_project/cgm_model.py:32: RuntimeWarning: invalid value encountered in true_divide\n",
      "  features = np.nan_to_num((features-features.mean(axis=0))/features.std(axis=0))\n",
      "/home/joeleliason/Dropbox (University of Michigan)/Projects/bioinf593/bioinf593_final_project/cgm_model.py:32: RuntimeWarning: invalid value encountered in true_divide\n",
      "  features = np.nan_to_num((features-features.mean(axis=0))/features.std(axis=0))\n",
      "/home/joeleliason/Dropbox (University of Michigan)/Projects/bioinf593/bioinf593_final_project/cgm_model.py:32: RuntimeWarning: invalid value encountered in true_divide\n",
      "  features = np.nan_to_num((features-features.mean(axis=0))/features.std(axis=0))\n",
      "/home/joeleliason/Dropbox (University of Michigan)/Projects/bioinf593/bioinf593_final_project/cgm_model.py:32: RuntimeWarning: invalid value encountered in true_divide\n",
      "  features = np.nan_to_num((features-features.mean(axis=0))/features.std(axis=0))\n",
      "/home/joeleliason/Dropbox (University of Michigan)/Projects/bioinf593/bioinf593_final_project/cgm_model.py:32: RuntimeWarning: invalid value encountered in true_divide\n",
      "  features = np.nan_to_num((features-features.mean(axis=0))/features.std(axis=0))\n",
      "/home/joeleliason/Dropbox (University of Michigan)/Projects/bioinf593/bioinf593_final_project/cgm_model.py:32: RuntimeWarning: invalid value encountered in true_divide\n",
      "  features = np.nan_to_num((features-features.mean(axis=0))/features.std(axis=0))\n",
      "/home/joeleliason/Dropbox (University of Michigan)/Projects/bioinf593/bioinf593_final_project/cgm_model.py:32: RuntimeWarning: invalid value encountered in true_divide\n",
      "  features = np.nan_to_num((features-features.mean(axis=0))/features.std(axis=0))\n",
      "/home/joeleliason/Dropbox (University of Michigan)/Projects/bioinf593/bioinf593_final_project/cgm_model.py:32: RuntimeWarning: invalid value encountered in true_divide\n",
      "  features = np.nan_to_num((features-features.mean(axis=0))/features.std(axis=0))\n",
      "/home/joeleliason/Dropbox (University of Michigan)/Projects/bioinf593/bioinf593_final_project/cgm_model.py:32: RuntimeWarning: invalid value encountered in true_divide\n",
      "  features = np.nan_to_num((features-features.mean(axis=0))/features.std(axis=0))\n",
      "/home/joeleliason/Dropbox (University of Michigan)/Projects/bioinf593/bioinf593_final_project/cgm_model.py:32: RuntimeWarning: invalid value encountered in true_divide\n",
      "  features = np.nan_to_num((features-features.mean(axis=0))/features.std(axis=0))\n",
      "/home/joeleliason/Dropbox (University of Michigan)/Projects/bioinf593/bioinf593_final_project/cgm_model.py:32: RuntimeWarning: invalid value encountered in true_divide\n",
      "  features = np.nan_to_num((features-features.mean(axis=0))/features.std(axis=0))\n",
      "/home/joeleliason/Dropbox (University of Michigan)/Projects/bioinf593/bioinf593_final_project/cgm_model.py:32: RuntimeWarning: invalid value encountered in true_divide\n",
      "  features = np.nan_to_num((features-features.mean(axis=0))/features.std(axis=0))\n",
      "/home/joeleliason/Dropbox (University of Michigan)/Projects/bioinf593/bioinf593_final_project/cgm_model.py:32: RuntimeWarning: invalid value encountered in true_divide\n",
      "  features = np.nan_to_num((features-features.mean(axis=0))/features.std(axis=0))\n",
      "/home/joeleliason/Dropbox (University of Michigan)/Projects/bioinf593/bioinf593_final_project/cgm_model.py:32: RuntimeWarning: invalid value encountered in true_divide\n",
      "  features = np.nan_to_num((features-features.mean(axis=0))/features.std(axis=0))\n",
      "/home/joeleliason/Dropbox (University of Michigan)/Projects/bioinf593/bioinf593_final_project/cgm_model.py:32: RuntimeWarning: invalid value encountered in true_divide\n",
      "  features = np.nan_to_num((features-features.mean(axis=0))/features.std(axis=0))\n",
      "/home/joeleliason/Dropbox (University of Michigan)/Projects/bioinf593/bioinf593_final_project/cgm_model.py:32: RuntimeWarning: invalid value encountered in true_divide\n",
      "  features = np.nan_to_num((features-features.mean(axis=0))/features.std(axis=0))\n",
      "/home/joeleliason/Dropbox (University of Michigan)/Projects/bioinf593/bioinf593_final_project/cgm_model.py:32: RuntimeWarning: invalid value encountered in true_divide\n",
      "  features = np.nan_to_num((features-features.mean(axis=0))/features.std(axis=0))\n",
      "/home/joeleliason/Dropbox (University of Michigan)/Projects/bioinf593/bioinf593_final_project/cgm_model.py:32: RuntimeWarning: invalid value encountered in true_divide\n",
      "  features = np.nan_to_num((features-features.mean(axis=0))/features.std(axis=0))\n",
      "/home/joeleliason/Dropbox (University of Michigan)/Projects/bioinf593/bioinf593_final_project/cgm_model.py:32: RuntimeWarning: invalid value encountered in true_divide\n",
      "  features = np.nan_to_num((features-features.mean(axis=0))/features.std(axis=0))\n",
      "/home/joeleliason/Dropbox (University of Michigan)/Projects/bioinf593/bioinf593_final_project/cgm_model.py:32: RuntimeWarning: invalid value encountered in true_divide\n",
      "  features = np.nan_to_num((features-features.mean(axis=0))/features.std(axis=0))\n",
      "/home/joeleliason/Dropbox (University of Michigan)/Projects/bioinf593/bioinf593_final_project/cgm_model.py:32: RuntimeWarning: invalid value encountered in true_divide\n",
      "  features = np.nan_to_num((features-features.mean(axis=0))/features.std(axis=0))\n",
      "/home/joeleliason/Dropbox (University of Michigan)/Projects/bioinf593/bioinf593_final_project/cgm_model.py:32: RuntimeWarning: invalid value encountered in true_divide\n",
      "  features = np.nan_to_num((features-features.mean(axis=0))/features.std(axis=0))\n",
      "/home/joeleliason/Dropbox (University of Michigan)/Projects/bioinf593/bioinf593_final_project/cgm_model.py:32: RuntimeWarning: invalid value encountered in true_divide\n",
      "  features = np.nan_to_num((features-features.mean(axis=0))/features.std(axis=0))\n",
      "/home/joeleliason/Dropbox (University of Michigan)/Projects/bioinf593/bioinf593_final_project/cgm_model.py:32: RuntimeWarning: invalid value encountered in true_divide\n",
      "  features = np.nan_to_num((features-features.mean(axis=0))/features.std(axis=0))\n",
      "/home/joeleliason/Dropbox (University of Michigan)/Projects/bioinf593/bioinf593_final_project/cgm_model.py:32: RuntimeWarning: invalid value encountered in true_divide\n",
      "  features = np.nan_to_num((features-features.mean(axis=0))/features.std(axis=0))\n",
      "/home/joeleliason/Dropbox (University of Michigan)/Projects/bioinf593/bioinf593_final_project/cgm_model.py:32: RuntimeWarning: invalid value encountered in true_divide\n",
      "  features = np.nan_to_num((features-features.mean(axis=0))/features.std(axis=0))\n",
      "/home/joeleliason/Dropbox (University of Michigan)/Projects/bioinf593/bioinf593_final_project/cgm_model.py:32: RuntimeWarning: invalid value encountered in true_divide\n",
      "  features = np.nan_to_num((features-features.mean(axis=0))/features.std(axis=0))\n",
      "/home/joeleliason/Dropbox (University of Michigan)/Projects/bioinf593/bioinf593_final_project/cgm_model.py:32: RuntimeWarning: invalid value encountered in true_divide\n",
      "  features = np.nan_to_num((features-features.mean(axis=0))/features.std(axis=0))\n",
      "/home/joeleliason/Dropbox (University of Michigan)/Projects/bioinf593/bioinf593_final_project/cgm_model.py:32: RuntimeWarning: invalid value encountered in true_divide\n",
      "  features = np.nan_to_num((features-features.mean(axis=0))/features.std(axis=0))\n",
      "/home/joeleliason/Dropbox (University of Michigan)/Projects/bioinf593/bioinf593_final_project/cgm_model.py:32: RuntimeWarning: invalid value encountered in true_divide\n",
      "  features = np.nan_to_num((features-features.mean(axis=0))/features.std(axis=0))\n",
      "/home/joeleliason/Dropbox (University of Michigan)/Projects/bioinf593/bioinf593_final_project/cgm_model.py:32: RuntimeWarning: invalid value encountered in true_divide\n",
      "  features = np.nan_to_num((features-features.mean(axis=0))/features.std(axis=0))\n",
      "/home/joeleliason/Dropbox (University of Michigan)/Projects/bioinf593/bioinf593_final_project/cgm_model.py:32: RuntimeWarning: invalid value encountered in true_divide\n",
      "  features = np.nan_to_num((features-features.mean(axis=0))/features.std(axis=0))\n",
      "/home/joeleliason/Dropbox (University of Michigan)/Projects/bioinf593/bioinf593_final_project/cgm_model.py:32: RuntimeWarning: invalid value encountered in true_divide\n",
      "  features = np.nan_to_num((features-features.mean(axis=0))/features.std(axis=0))\n",
      "/home/joeleliason/Dropbox (University of Michigan)/Projects/bioinf593/bioinf593_final_project/cgm_model.py:32: RuntimeWarning: invalid value encountered in true_divide\n",
      "  features = np.nan_to_num((features-features.mean(axis=0))/features.std(axis=0))\n",
      "/home/joeleliason/Dropbox (University of Michigan)/Projects/bioinf593/bioinf593_final_project/cgm_model.py:32: RuntimeWarning: invalid value encountered in true_divide\n",
      "  features = np.nan_to_num((features-features.mean(axis=0))/features.std(axis=0))\n",
      "/home/joeleliason/Dropbox (University of Michigan)/Projects/bioinf593/bioinf593_final_project/cgm_model.py:32: RuntimeWarning: invalid value encountered in true_divide\n",
      "  features = np.nan_to_num((features-features.mean(axis=0))/features.std(axis=0))\n",
      "/home/joeleliason/Dropbox (University of Michigan)/Projects/bioinf593/bioinf593_final_project/cgm_model.py:32: RuntimeWarning: invalid value encountered in true_divide\n",
      "  features = np.nan_to_num((features-features.mean(axis=0))/features.std(axis=0))\n",
      "/home/joeleliason/Dropbox (University of Michigan)/Projects/bioinf593/bioinf593_final_project/cgm_model.py:32: RuntimeWarning: invalid value encountered in true_divide\n",
      "  features = np.nan_to_num((features-features.mean(axis=0))/features.std(axis=0))\n",
      "/home/joeleliason/Dropbox (University of Michigan)/Projects/bioinf593/bioinf593_final_project/cgm_model.py:32: RuntimeWarning: invalid value encountered in true_divide\n",
      "  features = np.nan_to_num((features-features.mean(axis=0))/features.std(axis=0))\n",
      "/home/joeleliason/Dropbox (University of Michigan)/Projects/bioinf593/bioinf593_final_project/cgm_model.py:32: RuntimeWarning: invalid value encountered in true_divide\n",
      "  features = np.nan_to_num((features-features.mean(axis=0))/features.std(axis=0))\n",
      "/home/joeleliason/Dropbox (University of Michigan)/Projects/bioinf593/bioinf593_final_project/cgm_model.py:32: RuntimeWarning: invalid value encountered in true_divide\n",
      "  features = np.nan_to_num((features-features.mean(axis=0))/features.std(axis=0))\n",
      "/home/joeleliason/Dropbox (University of Michigan)/Projects/bioinf593/bioinf593_final_project/cgm_model.py:32: RuntimeWarning: invalid value encountered in true_divide\n",
      "  features = np.nan_to_num((features-features.mean(axis=0))/features.std(axis=0))\n",
      "/home/joeleliason/Dropbox (University of Michigan)/Projects/bioinf593/bioinf593_final_project/cgm_model.py:32: RuntimeWarning: invalid value encountered in true_divide\n",
      "  features = np.nan_to_num((features-features.mean(axis=0))/features.std(axis=0))\n",
      "/home/joeleliason/Dropbox (University of Michigan)/Projects/bioinf593/bioinf593_final_project/cgm_model.py:32: RuntimeWarning: invalid value encountered in true_divide\n",
      "  features = np.nan_to_num((features-features.mean(axis=0))/features.std(axis=0))\n",
      "/home/joeleliason/Dropbox (University of Michigan)/Projects/bioinf593/bioinf593_final_project/cgm_model.py:32: RuntimeWarning: invalid value encountered in true_divide\n",
      "  features = np.nan_to_num((features-features.mean(axis=0))/features.std(axis=0))\n",
      "/home/joeleliason/Dropbox (University of Michigan)/Projects/bioinf593/bioinf593_final_project/cgm_model.py:32: RuntimeWarning: invalid value encountered in true_divide\n",
      "  features = np.nan_to_num((features-features.mean(axis=0))/features.std(axis=0))\n",
      "/home/joeleliason/Dropbox (University of Michigan)/Projects/bioinf593/bioinf593_final_project/cgm_model.py:32: RuntimeWarning: invalid value encountered in true_divide\n",
      "  features = np.nan_to_num((features-features.mean(axis=0))/features.std(axis=0))\n",
      "/home/joeleliason/Dropbox (University of Michigan)/Projects/bioinf593/bioinf593_final_project/cgm_model.py:32: RuntimeWarning: invalid value encountered in true_divide\n",
      "  features = np.nan_to_num((features-features.mean(axis=0))/features.std(axis=0))\n",
      "/home/joeleliason/Dropbox (University of Michigan)/Projects/bioinf593/bioinf593_final_project/cgm_model.py:32: RuntimeWarning: invalid value encountered in true_divide\n",
      "  features = np.nan_to_num((features-features.mean(axis=0))/features.std(axis=0))\n",
      "/home/joeleliason/Dropbox (University of Michigan)/Projects/bioinf593/bioinf593_final_project/cgm_model.py:32: RuntimeWarning: invalid value encountered in true_divide\n",
      "  features = np.nan_to_num((features-features.mean(axis=0))/features.std(axis=0))\n",
      "/home/joeleliason/Dropbox (University of Michigan)/Projects/bioinf593/bioinf593_final_project/cgm_model.py:32: RuntimeWarning: invalid value encountered in true_divide\n",
      "  features = np.nan_to_num((features-features.mean(axis=0))/features.std(axis=0))\n"
     ]
    }
   ],
   "source": [
    "data, labs, ids = cgm_model.data_to_dgl_graph(pt_data, cell_data, mode='connectivity', normalize=True)"
   ]
  },
  {
   "cell_type": "code",
   "execution_count": null,
   "metadata": {
    "colab": {
     "base_uri": "https://localhost:8080/"
    },
    "id": "50PiSJtmMbk1",
    "outputId": "a61111d8-b12b-43e5-e857-8d692bacbfab"
   },
   "outputs": [],
   "source": [
    "num_models = 10\n",
    "cgm_reps = []\n",
    "for _ in range(num_models):\n",
    "    model = cgm_model.CGModel(gnn_params=gnn_params, classification_params=classification_params, node_dim=74, num_epochs=50)\n",
    "    model.train(data)\n",
    "    cgm_reps.append(copy.deepcopy(model))"
   ]
  },
  {
   "cell_type": "code",
   "execution_count": 25,
   "metadata": {},
   "outputs": [],
   "source": [
    "with open(DATA_PATH+'cgm_reps_group.pkl','rb') as f:\n",
    "    cgm_reps = pickle.load(f)"
   ]
  },
  {
   "cell_type": "code",
   "execution_count": 27,
   "metadata": {
    "id": "mTH-QJK6Mbk1"
   },
   "outputs": [],
   "source": [
    "res = cgm_model.get_model_score_dict(cgm_reps, data, labs)"
   ]
  },
  {
   "cell_type": "code",
   "execution_count": 28,
   "metadata": {
    "id": "CuoU8NxSMbk1",
    "outputId": "621582e0-0db7-4972-cefe-aac5347def11"
   },
   "outputs": [
    {
     "data": {
      "text/plain": [
       "140"
      ]
     },
     "execution_count": 28,
     "metadata": {},
     "output_type": "execute_result"
    }
   ],
   "source": [
    "len(res)"
   ]
  },
  {
   "cell_type": "code",
   "execution_count": 29,
   "metadata": {
    "id": "xK0r-5xOMbk2"
   },
   "outputs": [],
   "source": [
    "with open(DATA_PATH+\"importance_scores_group_prediction.pkl\", 'wb') as f:\n",
    "    pickle.dump(res, f)"
   ]
  },
  {
   "cell_type": "code",
   "execution_count": 30,
   "metadata": {
    "id": "KiYqovNwMbk2"
   },
   "outputs": [],
   "source": [
    "scl = res[0]"
   ]
  },
  {
   "cell_type": "code",
   "execution_count": 32,
   "metadata": {},
   "outputs": [
    {
     "data": {
      "text/html": [
       "<div>\n",
       "<style scoped>\n",
       "    .dataframe tbody tr th:only-of-type {\n",
       "        vertical-align: middle;\n",
       "    }\n",
       "\n",
       "    .dataframe tbody tr th {\n",
       "        vertical-align: top;\n",
       "    }\n",
       "\n",
       "    .dataframe thead th {\n",
       "        text-align: right;\n",
       "    }\n",
       "</style>\n",
       "<table border=\"1\" class=\"dataframe\">\n",
       "  <thead>\n",
       "    <tr style=\"text-align: right;\">\n",
       "      <th></th>\n",
       "      <th>cell_type</th>\n",
       "      <th>X</th>\n",
       "      <th>Y</th>\n",
       "      <th>cell_id</th>\n",
       "      <th>spot_id</th>\n",
       "      <th>campp_0</th>\n",
       "      <th>campp_1</th>\n",
       "      <th>campp_2</th>\n",
       "      <th>campp_3</th>\n",
       "      <th>campp_4</th>\n",
       "      <th>campp_5</th>\n",
       "      <th>campp_6</th>\n",
       "      <th>campp_7</th>\n",
       "      <th>campp_8</th>\n",
       "      <th>campp_9</th>\n",
       "      <th>campp_median</th>\n",
       "      <th>campp_mad</th>\n",
       "    </tr>\n",
       "  </thead>\n",
       "  <tbody>\n",
       "    <tr>\n",
       "      <th>0</th>\n",
       "      <td>granulocytes</td>\n",
       "      <td>77.0</td>\n",
       "      <td>589.0</td>\n",
       "      <td>0</td>\n",
       "      <td>0</td>\n",
       "      <td>0.016950</td>\n",
       "      <td>0.350585</td>\n",
       "      <td>0.000000</td>\n",
       "      <td>0.116528</td>\n",
       "      <td>0.140501</td>\n",
       "      <td>0.017379</td>\n",
       "      <td>0.099837</td>\n",
       "      <td>0.129521</td>\n",
       "      <td>0.024781</td>\n",
       "      <td>0.007914</td>\n",
       "      <td>0.062309</td>\n",
       "      <td>0.076995</td>\n",
       "    </tr>\n",
       "    <tr>\n",
       "      <th>1</th>\n",
       "      <td>granulocytes</td>\n",
       "      <td>106.0</td>\n",
       "      <td>826.0</td>\n",
       "      <td>1</td>\n",
       "      <td>0</td>\n",
       "      <td>0.014687</td>\n",
       "      <td>0.075043</td>\n",
       "      <td>0.240120</td>\n",
       "      <td>0.269666</td>\n",
       "      <td>0.001379</td>\n",
       "      <td>0.047645</td>\n",
       "      <td>0.000000</td>\n",
       "      <td>0.006499</td>\n",
       "      <td>0.023416</td>\n",
       "      <td>0.148588</td>\n",
       "      <td>0.035531</td>\n",
       "      <td>0.082052</td>\n",
       "    </tr>\n",
       "    <tr>\n",
       "      <th>2</th>\n",
       "      <td>granulocytes</td>\n",
       "      <td>107.0</td>\n",
       "      <td>545.0</td>\n",
       "      <td>2</td>\n",
       "      <td>0</td>\n",
       "      <td>0.068091</td>\n",
       "      <td>0.000000</td>\n",
       "      <td>0.000000</td>\n",
       "      <td>0.030736</td>\n",
       "      <td>0.028675</td>\n",
       "      <td>0.017152</td>\n",
       "      <td>0.000000</td>\n",
       "      <td>0.099696</td>\n",
       "      <td>0.010412</td>\n",
       "      <td>0.000000</td>\n",
       "      <td>0.013782</td>\n",
       "      <td>0.025059</td>\n",
       "    </tr>\n",
       "    <tr>\n",
       "      <th>3</th>\n",
       "      <td>granulocytes</td>\n",
       "      <td>98.0</td>\n",
       "      <td>564.0</td>\n",
       "      <td>3</td>\n",
       "      <td>0</td>\n",
       "      <td>0.007142</td>\n",
       "      <td>0.281647</td>\n",
       "      <td>0.000000</td>\n",
       "      <td>0.060714</td>\n",
       "      <td>0.322154</td>\n",
       "      <td>0.054891</td>\n",
       "      <td>0.217566</td>\n",
       "      <td>0.138132</td>\n",
       "      <td>0.020155</td>\n",
       "      <td>0.000000</td>\n",
       "      <td>0.057803</td>\n",
       "      <td>0.103708</td>\n",
       "    </tr>\n",
       "    <tr>\n",
       "      <th>4</th>\n",
       "      <td>granulocytes</td>\n",
       "      <td>217.0</td>\n",
       "      <td>329.0</td>\n",
       "      <td>4</td>\n",
       "      <td>0</td>\n",
       "      <td>0.252162</td>\n",
       "      <td>0.901895</td>\n",
       "      <td>0.414942</td>\n",
       "      <td>0.469559</td>\n",
       "      <td>0.380645</td>\n",
       "      <td>0.344093</td>\n",
       "      <td>0.475564</td>\n",
       "      <td>0.249722</td>\n",
       "      <td>0.201604</td>\n",
       "      <td>0.044381</td>\n",
       "      <td>0.362369</td>\n",
       "      <td>0.155064</td>\n",
       "    </tr>\n",
       "    <tr>\n",
       "      <th>...</th>\n",
       "      <td>...</td>\n",
       "      <td>...</td>\n",
       "      <td>...</td>\n",
       "      <td>...</td>\n",
       "      <td>...</td>\n",
       "      <td>...</td>\n",
       "      <td>...</td>\n",
       "      <td>...</td>\n",
       "      <td>...</td>\n",
       "      <td>...</td>\n",
       "      <td>...</td>\n",
       "      <td>...</td>\n",
       "      <td>...</td>\n",
       "      <td>...</td>\n",
       "      <td>...</td>\n",
       "      <td>...</td>\n",
       "      <td>...</td>\n",
       "    </tr>\n",
       "    <tr>\n",
       "      <th>1159</th>\n",
       "      <td>undefined</td>\n",
       "      <td>1686.0</td>\n",
       "      <td>503.0</td>\n",
       "      <td>240084</td>\n",
       "      <td>0</td>\n",
       "      <td>0.110061</td>\n",
       "      <td>0.000000</td>\n",
       "      <td>0.020442</td>\n",
       "      <td>0.093610</td>\n",
       "      <td>0.008543</td>\n",
       "      <td>0.000000</td>\n",
       "      <td>0.257543</td>\n",
       "      <td>0.010750</td>\n",
       "      <td>0.000000</td>\n",
       "      <td>0.080056</td>\n",
       "      <td>0.015596</td>\n",
       "      <td>0.061774</td>\n",
       "    </tr>\n",
       "    <tr>\n",
       "      <th>1160</th>\n",
       "      <td>undefined</td>\n",
       "      <td>1868.0</td>\n",
       "      <td>553.0</td>\n",
       "      <td>240085</td>\n",
       "      <td>0</td>\n",
       "      <td>0.073889</td>\n",
       "      <td>0.000000</td>\n",
       "      <td>0.000000</td>\n",
       "      <td>0.104903</td>\n",
       "      <td>0.000000</td>\n",
       "      <td>0.042700</td>\n",
       "      <td>0.000000</td>\n",
       "      <td>0.002508</td>\n",
       "      <td>0.000000</td>\n",
       "      <td>0.061639</td>\n",
       "      <td>0.001254</td>\n",
       "      <td>0.033775</td>\n",
       "    </tr>\n",
       "    <tr>\n",
       "      <th>1161</th>\n",
       "      <td>tumor cells / immune cells</td>\n",
       "      <td>1310.0</td>\n",
       "      <td>135.0</td>\n",
       "      <td>246598</td>\n",
       "      <td>0</td>\n",
       "      <td>0.038855</td>\n",
       "      <td>0.000000</td>\n",
       "      <td>0.037085</td>\n",
       "      <td>0.113898</td>\n",
       "      <td>0.026791</td>\n",
       "      <td>0.000000</td>\n",
       "      <td>0.022953</td>\n",
       "      <td>0.051900</td>\n",
       "      <td>0.000000</td>\n",
       "      <td>0.000715</td>\n",
       "      <td>0.024872</td>\n",
       "      <td>0.024972</td>\n",
       "    </tr>\n",
       "    <tr>\n",
       "      <th>1162</th>\n",
       "      <td>immune cells / vasculature</td>\n",
       "      <td>1634.0</td>\n",
       "      <td>1242.0</td>\n",
       "      <td>248395</td>\n",
       "      <td>0</td>\n",
       "      <td>0.000000</td>\n",
       "      <td>0.000000</td>\n",
       "      <td>0.000000</td>\n",
       "      <td>0.081498</td>\n",
       "      <td>0.063708</td>\n",
       "      <td>0.007302</td>\n",
       "      <td>0.000000</td>\n",
       "      <td>0.001153</td>\n",
       "      <td>0.000000</td>\n",
       "      <td>0.070375</td>\n",
       "      <td>0.000576</td>\n",
       "      <td>0.029674</td>\n",
       "    </tr>\n",
       "    <tr>\n",
       "      <th>1163</th>\n",
       "      <td>immune cells</td>\n",
       "      <td>1674.0</td>\n",
       "      <td>1096.0</td>\n",
       "      <td>250548</td>\n",
       "      <td>0</td>\n",
       "      <td>0.000000</td>\n",
       "      <td>0.049405</td>\n",
       "      <td>0.000000</td>\n",
       "      <td>0.066257</td>\n",
       "      <td>0.139179</td>\n",
       "      <td>0.000000</td>\n",
       "      <td>0.000000</td>\n",
       "      <td>0.000000</td>\n",
       "      <td>0.000000</td>\n",
       "      <td>0.003908</td>\n",
       "      <td>0.000000</td>\n",
       "      <td>0.035443</td>\n",
       "    </tr>\n",
       "  </tbody>\n",
       "</table>\n",
       "<p>1164 rows × 17 columns</p>\n",
       "</div>"
      ],
      "text/plain": [
       "                       cell_type       X       Y  cell_id  spot_id   campp_0  \\\n",
       "0                   granulocytes    77.0   589.0        0        0  0.016950   \n",
       "1                   granulocytes   106.0   826.0        1        0  0.014687   \n",
       "2                   granulocytes   107.0   545.0        2        0  0.068091   \n",
       "3                   granulocytes    98.0   564.0        3        0  0.007142   \n",
       "4                   granulocytes   217.0   329.0        4        0  0.252162   \n",
       "...                          ...     ...     ...      ...      ...       ...   \n",
       "1159                   undefined  1686.0   503.0   240084        0  0.110061   \n",
       "1160                   undefined  1868.0   553.0   240085        0  0.073889   \n",
       "1161  tumor cells / immune cells  1310.0   135.0   246598        0  0.038855   \n",
       "1162  immune cells / vasculature  1634.0  1242.0   248395        0  0.000000   \n",
       "1163                immune cells  1674.0  1096.0   250548        0  0.000000   \n",
       "\n",
       "       campp_1   campp_2   campp_3   campp_4   campp_5   campp_6   campp_7  \\\n",
       "0     0.350585  0.000000  0.116528  0.140501  0.017379  0.099837  0.129521   \n",
       "1     0.075043  0.240120  0.269666  0.001379  0.047645  0.000000  0.006499   \n",
       "2     0.000000  0.000000  0.030736  0.028675  0.017152  0.000000  0.099696   \n",
       "3     0.281647  0.000000  0.060714  0.322154  0.054891  0.217566  0.138132   \n",
       "4     0.901895  0.414942  0.469559  0.380645  0.344093  0.475564  0.249722   \n",
       "...        ...       ...       ...       ...       ...       ...       ...   \n",
       "1159  0.000000  0.020442  0.093610  0.008543  0.000000  0.257543  0.010750   \n",
       "1160  0.000000  0.000000  0.104903  0.000000  0.042700  0.000000  0.002508   \n",
       "1161  0.000000  0.037085  0.113898  0.026791  0.000000  0.022953  0.051900   \n",
       "1162  0.000000  0.000000  0.081498  0.063708  0.007302  0.000000  0.001153   \n",
       "1163  0.049405  0.000000  0.066257  0.139179  0.000000  0.000000  0.000000   \n",
       "\n",
       "       campp_8   campp_9  campp_median  campp_mad  \n",
       "0     0.024781  0.007914      0.062309   0.076995  \n",
       "1     0.023416  0.148588      0.035531   0.082052  \n",
       "2     0.010412  0.000000      0.013782   0.025059  \n",
       "3     0.020155  0.000000      0.057803   0.103708  \n",
       "4     0.201604  0.044381      0.362369   0.155064  \n",
       "...        ...       ...           ...        ...  \n",
       "1159  0.000000  0.080056      0.015596   0.061774  \n",
       "1160  0.000000  0.061639      0.001254   0.033775  \n",
       "1161  0.000000  0.000715      0.024872   0.024972  \n",
       "1162  0.000000  0.070375      0.000576   0.029674  \n",
       "1163  0.000000  0.003908      0.000000   0.035443  \n",
       "\n",
       "[1164 rows x 17 columns]"
      ]
     },
     "execution_count": 32,
     "metadata": {},
     "output_type": "execute_result"
    }
   ],
   "source": [
    "scl"
   ]
  },
  {
   "cell_type": "code",
   "execution_count": 31,
   "metadata": {
    "id": "rHQV8W8_Mbk3",
    "outputId": "72a7b22f-a3a9-4326-f727-48c78f851fc4"
   },
   "outputs": [
    {
     "data": {
      "image/png": "[encoded data removed]",
      "text/plain": [
       "<Figure size 432x288 with 1 Axes>"
      ]
     },
     "metadata": {
      "needs_background": "light"
     },
     "output_type": "display_data"
    },
    {
     "data": {
      "image/png": "[encoded data removed]",
      "text/plain": [
       "<Figure size 432x288 with 1 Axes>"
      ]
     },
     "metadata": {
      "needs_background": "light"
     },
     "output_type": "display_data"
    },
    {
     "data": {
      "image/png": "[encoded data removed]",
      "text/plain": [
       "<Figure size 432x288 with 1 Axes>"
      ]
     },
     "metadata": {
      "needs_background": "light"
     },
     "output_type": "display_data"
    },
    {
     "data": {
      "image/png": "[encoded data removed]",
      "text/plain": [
       "<Figure size 432x288 with 1 Axes>"
      ]
     },
     "metadata": {
      "needs_background": "light"
     },
     "output_type": "display_data"
    },
    {
     "data": {
      "image/png": "[encoded data removed]",
      "text/plain": [
       "<Figure size 432x288 with 1 Axes>"
      ]
     },
     "metadata": {
      "needs_background": "light"
     },
     "output_type": "display_data"
    },
    {
     "data": {
      "image/png": "[encoded data removed]",
      "text/plain": [
       "<Figure size 432x288 with 1 Axes>"
      ]
     },
     "metadata": {
      "needs_background": "light"
     },
     "output_type": "display_data"
    },
    {
     "data": {
      "image/png": "[encoded data removed]",
      "text/plain": [
       "<Figure size 432x288 with 1 Axes>"
      ]
     },
     "metadata": {
      "needs_background": "light"
     },
     "output_type": "display_data"
    },
    {
     "data": {
      "image/png": "[encoded data removed]",
      "text/plain": [
       "<Figure size 432x288 with 1 Axes>"
      ]
     },
     "metadata": {
      "needs_background": "light"
     },
     "output_type": "display_data"
    },
    {
     "data": {
      "image/png": "[encoded data removed]",
      "text/plain": [
       "<Figure size 432x288 with 1 Axes>"
      ]
     },
     "metadata": {
      "needs_background": "light"
     },
     "output_type": "display_data"
    },
    {
     "data": {
      "image/png": "[encoded data removed]",
      "text/plain": [
       "<Figure size 432x288 with 1 Axes>"
      ]
     },
     "metadata": {
      "needs_background": "light"
     },
     "output_type": "display_data"
    },
    {
     "data": {
      "image/png": "[encoded data removed]",
      "text/plain": [
       "<Figure size 432x288 with 1 Axes>"
      ]
     },
     "metadata": {
      "needs_background": "light"
     },
     "output_type": "display_data"
    },
    {
     "data": {
      "image/png": "[encoded data removed]",
      "text/plain": [
       "<Figure size 432x288 with 1 Axes>"
      ]
     },
     "metadata": {
      "needs_background": "light"
     },
     "output_type": "display_data"
    },
    {
     "data": {
      "image/png": "[encoded data removed]",
      "text/plain": [
       "<Figure size 432x288 with 1 Axes>"
      ]
     },
     "metadata": {
      "needs_background": "light"
     },
     "output_type": "display_data"
    },
    {
     "data": {
      "image/png": "[encoded data removed]",
      "text/plain": [
       "<Figure size 432x288 with 1 Axes>"
      ]
     },
     "metadata": {
      "needs_background": "light"
     },
     "output_type": "display_data"
    },
    {
     "data": {
      "image/png": "[encoded data removed]",
      "text/plain": [
       "<Figure size 432x288 with 1 Axes>"
      ]
     },
     "metadata": {
      "needs_background": "light"
     },
     "output_type": "display_data"
    },
    {
     "data": {
      "image/png": "[encoded data removed]",
      "text/plain": [
       "<Figure size 432x288 with 1 Axes>"
      ]
     },
     "metadata": {
      "needs_background": "light"
     },
     "output_type": "display_data"
    },
    {
     "data": {
      "image/png": "[encoded data removed]",
      "text/plain": [
       "<Figure size 432x288 with 1 Axes>"
      ]
     },
     "metadata": {
      "needs_background": "light"
     },
     "output_type": "display_data"
    },
    {
     "data": {
      "image/png": "[encoded data removed]",
      "text/plain": [
       "<Figure size 432x288 with 1 Axes>"
      ]
     },
     "metadata": {
      "needs_background": "light"
     },
     "output_type": "display_data"
    },
    {
     "data": {
      "image/png": "[encoded data removed]",
      "text/plain": [
       "<Figure size 432x288 with 1 Axes>"
      ]
     },
     "metadata": {
      "needs_background": "light"
     },
     "output_type": "display_data"
    },
    {
     "data": {
      "image/png": "[encoded data removed]",
      "text/plain": [
       "<Figure size 432x288 with 1 Axes>"
      ]
     },
     "metadata": {
      "needs_background": "light"
     },
     "output_type": "display_data"
    }
   ],
   "source": [
    "import matplotlib.pyplot as plt\n",
    "for ct in scl.cell_type.unique():\n",
    "    plt.hist(scl[scl['cell_type'] == ct].campp_median)\n",
    "    plt.title(ct)\n",
    "    plt.show()"
   ]
  },
  {
   "cell_type": "code",
   "execution_count": null,
   "metadata": {
    "id": "2t6jopdqMbk3"
   },
   "outputs": [],
   "source": []
  }
 ],
 "metadata": {
  "accelerator": "GPU",
  "colab": {
   "name": "model_analysis_2.ipynb",
   "provenance": []
  },
  "interpreter": {
   "hash": "f32023d3187841795697d47a9066836f1d96daf3799e179b4995fcdf98db168e"
  },
  "kernelspec": {
   "display_name": "Python 3 (ipykernel)",
   "language": "python",
   "name": "python3"
  },
  "language_info": {
   "codemirror_mode": {
    "name": "ipython",
    "version": 3
   },
   "file_extension": ".py",
   "mimetype": "text/x-python",
   "name": "python",
   "nbconvert_exporter": "python",
   "pygments_lexer": "ipython3",
   "version": "3.7.12"
  }
 },
 "nbformat": 4,
 "nbformat_minor": 4
}
