{
 "cells": [
  {
   "cell_type": "code",
   "execution_count": 1,
   "id": "8cb92389-8a45-42c2-bce7-ffdb0d73a290",
   "metadata": {},
   "outputs": [],
   "source": [
    "import numpy as np\n",
    "import pandas as pd\n",
    "import matplotlib.pyplot as plt\n",
    "import pickle\n",
    "import seaborn as sns\n",
    "from sklearn.neighbors import NearestNeighbors\n",
    "import collections"
   ]
  },
  {
   "cell_type": "code",
   "execution_count": 2,
   "id": "2b06ace8-668b-4244-85e4-57538c0e6030",
   "metadata": {},
   "outputs": [],
   "source": [
    "DATA_PATH = './data/'\n",
    "with open(DATA_PATH+'importance_scores_group_prediction.pkl','rb') as f:\n",
    "    imp_group = pickle.load(f)"
   ]
  },
  {
   "cell_type": "code",
   "execution_count": 20,
   "id": "7b2b185e-8c2f-472a-be98-fb0a709c239c",
   "metadata": {},
   "outputs": [],
   "source": [
    "DATA_PATH = './data/'\n",
    "with open(DATA_PATH+'importance_scores_stage_prediction.pkl','rb') as f:\n",
    "    imp_stage = pickle.load(f)"
   ]
  },
  {
   "cell_type": "code",
   "execution_count": 4,
   "id": "c806c0c7-5fcc-464c-9baa-582ff88acf0c",
   "metadata": {},
   "outputs": [
    {
     "data": {
      "text/plain": [
       "140"
      ]
     },
     "execution_count": 4,
     "metadata": {},
     "output_type": "execute_result"
    }
   ],
   "source": [
    "len(imp_group)"
   ]
  },
  {
   "cell_type": "code",
   "execution_count": 21,
   "id": "c52c0d00-76ba-4095-9b80-3bf0912b516a",
   "metadata": {},
   "outputs": [],
   "source": [
    "scl = imp_stage[0] # look at dataframe for first graph"
   ]
  },
  {
   "cell_type": "code",
   "execution_count": 22,
   "id": "0928f740-ee39-4519-89de-dbf5a238e33c",
   "metadata": {},
   "outputs": [
    {
     "data": {
      "text/html": [
       "<div>\n",
       "<style scoped>\n",
       "    .dataframe tbody tr th:only-of-type {\n",
       "        vertical-align: middle;\n",
       "    }\n",
       "\n",
       "    .dataframe tbody tr th {\n",
       "        vertical-align: top;\n",
       "    }\n",
       "\n",
       "    .dataframe thead th {\n",
       "        text-align: right;\n",
       "    }\n",
       "</style>\n",
       "<table border=\"1\" class=\"dataframe\">\n",
       "  <thead>\n",
       "    <tr style=\"text-align: right;\">\n",
       "      <th></th>\n",
       "      <th>cell_type</th>\n",
       "      <th>X</th>\n",
       "      <th>Y</th>\n",
       "      <th>cell_id</th>\n",
       "      <th>spot_id</th>\n",
       "      <th>campp_0</th>\n",
       "      <th>campp_1</th>\n",
       "      <th>campp_2</th>\n",
       "      <th>campp_3</th>\n",
       "      <th>campp_4</th>\n",
       "      <th>campp_5</th>\n",
       "      <th>campp_6</th>\n",
       "      <th>campp_7</th>\n",
       "      <th>campp_8</th>\n",
       "      <th>campp_9</th>\n",
       "      <th>campp_median</th>\n",
       "      <th>campp_mad</th>\n",
       "    </tr>\n",
       "  </thead>\n",
       "  <tbody>\n",
       "    <tr>\n",
       "      <th>0</th>\n",
       "      <td>granulocytes</td>\n",
       "      <td>77.0</td>\n",
       "      <td>589.0</td>\n",
       "      <td>0</td>\n",
       "      <td>0</td>\n",
       "      <td>0.000000</td>\n",
       "      <td>0.000000</td>\n",
       "      <td>0.0</td>\n",
       "      <td>0.000000</td>\n",
       "      <td>0.00000</td>\n",
       "      <td>0.086678</td>\n",
       "      <td>0.0</td>\n",
       "      <td>0.000000</td>\n",
       "      <td>0.000000</td>\n",
       "      <td>0.000000</td>\n",
       "      <td>0.000000</td>\n",
       "      <td>0.015602</td>\n",
       "    </tr>\n",
       "    <tr>\n",
       "      <th>1</th>\n",
       "      <td>granulocytes</td>\n",
       "      <td>106.0</td>\n",
       "      <td>826.0</td>\n",
       "      <td>1</td>\n",
       "      <td>0</td>\n",
       "      <td>0.205527</td>\n",
       "      <td>0.076950</td>\n",
       "      <td>0.0</td>\n",
       "      <td>0.000000</td>\n",
       "      <td>0.00000</td>\n",
       "      <td>0.000000</td>\n",
       "      <td>0.0</td>\n",
       "      <td>0.000000</td>\n",
       "      <td>0.004025</td>\n",
       "      <td>0.060734</td>\n",
       "      <td>0.000000</td>\n",
       "      <td>0.047808</td>\n",
       "    </tr>\n",
       "    <tr>\n",
       "      <th>2</th>\n",
       "      <td>granulocytes</td>\n",
       "      <td>107.0</td>\n",
       "      <td>545.0</td>\n",
       "      <td>2</td>\n",
       "      <td>0</td>\n",
       "      <td>0.012644</td>\n",
       "      <td>0.171711</td>\n",
       "      <td>0.0</td>\n",
       "      <td>0.061048</td>\n",
       "      <td>0.00000</td>\n",
       "      <td>0.048164</td>\n",
       "      <td>0.0</td>\n",
       "      <td>0.000000</td>\n",
       "      <td>0.124192</td>\n",
       "      <td>0.095211</td>\n",
       "      <td>0.030404</td>\n",
       "      <td>0.049395</td>\n",
       "    </tr>\n",
       "    <tr>\n",
       "      <th>3</th>\n",
       "      <td>granulocytes</td>\n",
       "      <td>98.0</td>\n",
       "      <td>564.0</td>\n",
       "      <td>3</td>\n",
       "      <td>0</td>\n",
       "      <td>0.000000</td>\n",
       "      <td>0.000000</td>\n",
       "      <td>0.0</td>\n",
       "      <td>0.008977</td>\n",
       "      <td>0.00000</td>\n",
       "      <td>0.079265</td>\n",
       "      <td>0.0</td>\n",
       "      <td>0.000000</td>\n",
       "      <td>0.005902</td>\n",
       "      <td>0.000000</td>\n",
       "      <td>0.000000</td>\n",
       "      <td>0.013970</td>\n",
       "    </tr>\n",
       "    <tr>\n",
       "      <th>4</th>\n",
       "      <td>granulocytes</td>\n",
       "      <td>217.0</td>\n",
       "      <td>329.0</td>\n",
       "      <td>4</td>\n",
       "      <td>0</td>\n",
       "      <td>0.000000</td>\n",
       "      <td>0.000000</td>\n",
       "      <td>0.0</td>\n",
       "      <td>0.000000</td>\n",
       "      <td>0.00000</td>\n",
       "      <td>0.070130</td>\n",
       "      <td>0.0</td>\n",
       "      <td>0.011328</td>\n",
       "      <td>0.000000</td>\n",
       "      <td>0.000000</td>\n",
       "      <td>0.000000</td>\n",
       "      <td>0.013033</td>\n",
       "    </tr>\n",
       "    <tr>\n",
       "      <th>...</th>\n",
       "      <td>...</td>\n",
       "      <td>...</td>\n",
       "      <td>...</td>\n",
       "      <td>...</td>\n",
       "      <td>...</td>\n",
       "      <td>...</td>\n",
       "      <td>...</td>\n",
       "      <td>...</td>\n",
       "      <td>...</td>\n",
       "      <td>...</td>\n",
       "      <td>...</td>\n",
       "      <td>...</td>\n",
       "      <td>...</td>\n",
       "      <td>...</td>\n",
       "      <td>...</td>\n",
       "      <td>...</td>\n",
       "      <td>...</td>\n",
       "    </tr>\n",
       "    <tr>\n",
       "      <th>1159</th>\n",
       "      <td>undefined</td>\n",
       "      <td>1686.0</td>\n",
       "      <td>503.0</td>\n",
       "      <td>240084</td>\n",
       "      <td>0</td>\n",
       "      <td>0.000000</td>\n",
       "      <td>0.000000</td>\n",
       "      <td>0.0</td>\n",
       "      <td>0.013270</td>\n",
       "      <td>0.00000</td>\n",
       "      <td>0.075089</td>\n",
       "      <td>0.0</td>\n",
       "      <td>0.000000</td>\n",
       "      <td>0.022157</td>\n",
       "      <td>0.000000</td>\n",
       "      <td>0.000000</td>\n",
       "      <td>0.015472</td>\n",
       "    </tr>\n",
       "    <tr>\n",
       "      <th>1160</th>\n",
       "      <td>undefined</td>\n",
       "      <td>1868.0</td>\n",
       "      <td>553.0</td>\n",
       "      <td>240085</td>\n",
       "      <td>0</td>\n",
       "      <td>0.000000</td>\n",
       "      <td>0.099012</td>\n",
       "      <td>0.0</td>\n",
       "      <td>0.064703</td>\n",
       "      <td>0.00000</td>\n",
       "      <td>0.012110</td>\n",
       "      <td>0.0</td>\n",
       "      <td>0.000000</td>\n",
       "      <td>0.037635</td>\n",
       "      <td>0.026430</td>\n",
       "      <td>0.006055</td>\n",
       "      <td>0.026365</td>\n",
       "    </tr>\n",
       "    <tr>\n",
       "      <th>1161</th>\n",
       "      <td>tumor cells / immune cells</td>\n",
       "      <td>1310.0</td>\n",
       "      <td>135.0</td>\n",
       "      <td>246598</td>\n",
       "      <td>0</td>\n",
       "      <td>0.000000</td>\n",
       "      <td>0.000000</td>\n",
       "      <td>0.0</td>\n",
       "      <td>0.000000</td>\n",
       "      <td>0.03563</td>\n",
       "      <td>0.089043</td>\n",
       "      <td>0.0</td>\n",
       "      <td>0.000000</td>\n",
       "      <td>0.000000</td>\n",
       "      <td>0.000000</td>\n",
       "      <td>0.000000</td>\n",
       "      <td>0.019948</td>\n",
       "    </tr>\n",
       "    <tr>\n",
       "      <th>1162</th>\n",
       "      <td>immune cells / vasculature</td>\n",
       "      <td>1634.0</td>\n",
       "      <td>1242.0</td>\n",
       "      <td>248395</td>\n",
       "      <td>0</td>\n",
       "      <td>0.063656</td>\n",
       "      <td>0.137270</td>\n",
       "      <td>0.0</td>\n",
       "      <td>0.069655</td>\n",
       "      <td>0.00000</td>\n",
       "      <td>0.000000</td>\n",
       "      <td>0.0</td>\n",
       "      <td>0.000000</td>\n",
       "      <td>0.135740</td>\n",
       "      <td>0.164500</td>\n",
       "      <td>0.031828</td>\n",
       "      <td>0.057082</td>\n",
       "    </tr>\n",
       "    <tr>\n",
       "      <th>1163</th>\n",
       "      <td>immune cells</td>\n",
       "      <td>1674.0</td>\n",
       "      <td>1096.0</td>\n",
       "      <td>250548</td>\n",
       "      <td>0</td>\n",
       "      <td>0.000000</td>\n",
       "      <td>0.000000</td>\n",
       "      <td>0.0</td>\n",
       "      <td>0.000000</td>\n",
       "      <td>0.00000</td>\n",
       "      <td>0.049546</td>\n",
       "      <td>0.0</td>\n",
       "      <td>0.000000</td>\n",
       "      <td>0.000000</td>\n",
       "      <td>0.000000</td>\n",
       "      <td>0.000000</td>\n",
       "      <td>0.008918</td>\n",
       "    </tr>\n",
       "  </tbody>\n",
       "</table>\n",
       "<p>1164 rows × 17 columns</p>\n",
       "</div>"
      ],
      "text/plain": [
       "                       cell_type       X       Y  cell_id  spot_id   campp_0  \\\n",
       "0                   granulocytes    77.0   589.0        0        0  0.000000   \n",
       "1                   granulocytes   106.0   826.0        1        0  0.205527   \n",
       "2                   granulocytes   107.0   545.0        2        0  0.012644   \n",
       "3                   granulocytes    98.0   564.0        3        0  0.000000   \n",
       "4                   granulocytes   217.0   329.0        4        0  0.000000   \n",
       "...                          ...     ...     ...      ...      ...       ...   \n",
       "1159                   undefined  1686.0   503.0   240084        0  0.000000   \n",
       "1160                   undefined  1868.0   553.0   240085        0  0.000000   \n",
       "1161  tumor cells / immune cells  1310.0   135.0   246598        0  0.000000   \n",
       "1162  immune cells / vasculature  1634.0  1242.0   248395        0  0.063656   \n",
       "1163                immune cells  1674.0  1096.0   250548        0  0.000000   \n",
       "\n",
       "       campp_1  campp_2   campp_3  campp_4   campp_5  campp_6   campp_7  \\\n",
       "0     0.000000      0.0  0.000000  0.00000  0.086678      0.0  0.000000   \n",
       "1     0.076950      0.0  0.000000  0.00000  0.000000      0.0  0.000000   \n",
       "2     0.171711      0.0  0.061048  0.00000  0.048164      0.0  0.000000   \n",
       "3     0.000000      0.0  0.008977  0.00000  0.079265      0.0  0.000000   \n",
       "4     0.000000      0.0  0.000000  0.00000  0.070130      0.0  0.011328   \n",
       "...        ...      ...       ...      ...       ...      ...       ...   \n",
       "1159  0.000000      0.0  0.013270  0.00000  0.075089      0.0  0.000000   \n",
       "1160  0.099012      0.0  0.064703  0.00000  0.012110      0.0  0.000000   \n",
       "1161  0.000000      0.0  0.000000  0.03563  0.089043      0.0  0.000000   \n",
       "1162  0.137270      0.0  0.069655  0.00000  0.000000      0.0  0.000000   \n",
       "1163  0.000000      0.0  0.000000  0.00000  0.049546      0.0  0.000000   \n",
       "\n",
       "       campp_8   campp_9  campp_median  campp_mad  \n",
       "0     0.000000  0.000000      0.000000   0.015602  \n",
       "1     0.004025  0.060734      0.000000   0.047808  \n",
       "2     0.124192  0.095211      0.030404   0.049395  \n",
       "3     0.005902  0.000000      0.000000   0.013970  \n",
       "4     0.000000  0.000000      0.000000   0.013033  \n",
       "...        ...       ...           ...        ...  \n",
       "1159  0.022157  0.000000      0.000000   0.015472  \n",
       "1160  0.037635  0.026430      0.006055   0.026365  \n",
       "1161  0.000000  0.000000      0.000000   0.019948  \n",
       "1162  0.135740  0.164500      0.031828   0.057082  \n",
       "1163  0.000000  0.000000      0.000000   0.008918  \n",
       "\n",
       "[1164 rows x 17 columns]"
      ]
     },
     "execution_count": 22,
     "metadata": {},
     "output_type": "execute_result"
    }
   ],
   "source": [
    "scl"
   ]
  },
  {
   "cell_type": "markdown",
   "id": "ba643591-85c2-4120-a77c-ffd92e103f11",
   "metadata": {},
   "source": [
    "### Find kNN of each important cell and use them as neighborhoods"
   ]
  },
  {
   "cell_type": "code",
   "execution_count": 7,
   "id": "11cec4f9-6055-4c74-8ef1-431a4a8bebc5",
   "metadata": {},
   "outputs": [],
   "source": [
    "df = pd.read_csv(DATA_PATH+'CRC_master.csv')"
   ]
  },
  {
   "cell_type": "code",
   "execution_count": 8,
   "id": "aa873607-ce05-4f8b-ba9d-742327021826",
   "metadata": {},
   "outputs": [],
   "source": [
    "cell_type_dict = {}\n",
    "for i,cell_type in enumerate(df.ClusterName.unique()):\n",
    "    cell_type_dict[cell_type] = i"
   ]
  },
  {
   "cell_type": "code",
   "execution_count": 9,
   "id": "24c1cc9f-d4e5-4542-b410-3e46113dae3e",
   "metadata": {},
   "outputs": [],
   "source": [
    "spots = df['spots'].unique()"
   ]
  },
  {
   "cell_type": "code",
   "execution_count": 10,
   "id": "99874eaf-192b-40b5-9847-a88857ddac66",
   "metadata": {},
   "outputs": [
    {
     "name": "stderr",
     "output_type": "stream",
     "text": [
      "/home/joeleliason/anaconda3/envs/hactnet/lib/python3.7/site-packages/ipykernel_launcher.py:1: FutureWarning: Your version of xlrd is 1.2.0. In xlrd >= 2.0, only the xls format is supported. As a result, the openpyxl engine will be used if it is installed and the engine argument is not specified. Install openpyxl instead.\n",
      "  \"\"\"Entry point for launching an IPython kernel.\n"
     ]
    }
   ],
   "source": [
    "pt_data = pd.read_excel(DATA_PATH+'CRC_TMAs_patient_annotations.xlsx')"
   ]
  },
  {
   "cell_type": "code",
   "execution_count": 28,
   "id": "24a0d75c-f438-4ec1-b8f9-933068b0cce8",
   "metadata": {},
   "outputs": [
    {
     "data": {
      "text/plain": [
       "array(['1_A', '1_B', '2_A', '2_B', '3_A', '3_B', '4_A', '4_B', '5_A',\n",
       "       '5_B', '6_A', '6_B', '7_A', '7_B', '8_A', '8_B', '9_A', '9_B',\n",
       "       '10_A', '10_B', '11_A', '11_B', '12_A', '12_B', '13_A', '13_B',\n",
       "       '14_A', '14_B', '15_A', '15_B', '16_A', '16_B', '17_A', '17_B',\n",
       "       '18_A', '18_B', '19_A', '19_B', '20_A', '20_B', '21_A', '21_B',\n",
       "       '22_A', '22_B', '23_A', '23_B', '24_A', '24_B', '25_A', '25_B',\n",
       "       '26_A', '26_B', '27_A', '27_B', '28_A', '28_B', '29_A', '29_B',\n",
       "       '30_A', '30_B', '31_A', '31_B', '32_A', '32_B', '33_A', '33_B',\n",
       "       '34_A', '34_B', '35_A', '35_B', '36_A', '36_B', '37_A', '37_B',\n",
       "       '38_A', '38_B', '39_A', '39_B', '40_A', '40_B', '41_A', '41_B',\n",
       "       '42_A', '42_B', '43_A', '43_B', '44_A', '44_B', '45_A', '45_B',\n",
       "       '46_A', '46_B', '47_A', '47_B', '48_A', '48_B', '49_A', '49_B',\n",
       "       '50_A', '50_B', '51_A', '51_B', '52_A', '52_B', '53_A', '53_B',\n",
       "       '54_A', '54_B', '55_A', '55_B', '56_A', '56_B', '57_A', '57_B',\n",
       "       '58_A', '58_B', '59_A', '59_B', '60_A', '60_B', '61_A', '61_B',\n",
       "       '62_A', '62_B', '63_A', '63_B', '64_A', '64_B', '65_A', '65_B',\n",
       "       '66_A', '66_B', '67_A', '67_B', '68_A', '68_B', '69_A', '69_B',\n",
       "       '70_A', '70_B'], dtype=object)"
      ]
     },
     "execution_count": 28,
     "metadata": {},
     "output_type": "execute_result"
    }
   ],
   "source": [
    "spots"
   ]
  },
  {
   "cell_type": "code",
   "execution_count": 53,
   "id": "df874dce-5328-4fe8-8de8-16336d75a1cf",
   "metadata": {},
   "outputs": [],
   "source": [
    "def get_nbhds(df_list):\n",
    "    spots_nbhds = []\n",
    "    total_nbhds = 0\n",
    "    nn = 10\n",
    "    threshold = 0.3\n",
    "    n_impcells = 50\n",
    "    all_cell_types = df.ClusterName.unique().tolist()\n",
    "    patient_id = 0\n",
    "    for i,scl in enumerate(df_list):\n",
    "        spot_id = scl.spot_id.unique()[0]\n",
    "        # print(spot_id)\n",
    "        spot_id = spots[spot_id]\n",
    "        X = scl.loc[:,'X':'Y'].values\n",
    "        knn = NearestNeighbors(n_neighbors=nn)\n",
    "        knn.fit(X)\n",
    "        important_cells = scl[(scl['campp_median'] >= threshold) & (scl['cell_type'] != 'dirt')]\n",
    "        # important_cells = scl[(scl['cell_type'] != 'dirt')].nlargest(n_impcells\n",
    "        imp_cell_coord = important_cells.loc[:,'X':'Y'].values\n",
    "        num_nbhds = imp_cell_coord.shape[0]\n",
    "        total_nbhds += num_nbhds\n",
    "        if num_nbhds == 0:\n",
    "            # spots_nbhds[spot_id] =[]\n",
    "            continue\n",
    "        knn_important = knn.kneighbors(imp_cell_coord, return_distance=False).tolist()\n",
    "        nbhd_cell_types = []\n",
    "        for cells in knn_important:\n",
    "            nbhd_cell_types.append([cell_type for cell_type in scl.iloc[cells]['cell_type'].values.tolist()])\n",
    "        counts = [collections.Counter(s) for s in nbhd_cell_types]\n",
    "        spots_nbhds_df = pd.DataFrame(0, index=[i for i in range(num_nbhds)], columns=['patient_group','patient_stage','patient_id','spot_id','centroid_X','centroid_Y'] + all_cell_types)\n",
    "        spots_nbhds_df.loc[:,all_cell_types[0]:all_cell_types[-1]] = np.array([[counter[ct] for ct in all_cell_types] for counter in counts])\n",
    "        spots_nbhds_df.loc[:,'spot_id'] = spot_id\n",
    "        if i % 4 == 0:\n",
    "            patient_id += 1\n",
    "        spots_nbhds_df.loc[:,'patient_id'] = patient_id\n",
    "        cp = pt_data.loc[pt_data.loc[:,'Patient'] == patient_id,'Group'].values[0]\n",
    "        assert(cp == 1 or cp == 2)\n",
    "        spots_nbhds_df.loc[:,'patient_group'] = cp\n",
    "        cp = pt_data.loc[pt_data.loc[:,'Patient'] == patient_id,'cp_TNM_Simple'].values[0]\n",
    "        assert(cp == 3 or cp == 4)\n",
    "        spots_nbhds_df.loc[:,'patient_stage'] = cp\n",
    "        spots_nbhds_df.loc[:,'centroid_X':'centroid_Y'] = [scl.iloc[cells].loc[:,'X':'Y'].values.mean(axis=0) for cells in knn_important]\n",
    "        # spots_nbhds[spot_id] = {\n",
    "        #     'nbhd_cell_types': np.array([[counter[ct] for ct in all_cell_types] for counter in counts]),\n",
    "        #     'nbhd_coords': imp_cell_coord\n",
    "        # }\n",
    "        spots_nbhds.append(spots_nbhds_df)\n",
    "    nbhds_df = pd.concat(spots_nbhds,ignore_index=True)\n",
    "    return nbhds_df"
   ]
  },
  {
   "cell_type": "code",
   "execution_count": 54,
   "id": "159bac74-5106-4598-ad4a-46dd03123080",
   "metadata": {},
   "outputs": [],
   "source": [
    "nbhds_df_group = get_nbhds(imp_group)"
   ]
  },
  {
   "cell_type": "code",
   "execution_count": 55,
   "id": "42822dca-ff68-4fc4-801f-39c9ac650b53",
   "metadata": {},
   "outputs": [],
   "source": [
    "nbhds_df_stage = get_nbhds(imp_stage)"
   ]
  },
  {
   "cell_type": "code",
   "execution_count": 49,
   "id": "5617a1e8-8b8b-46e8-ab06-b49fac598b14",
   "metadata": {},
   "outputs": [
    {
     "data": {
      "text/plain": [
       "2    1652\n",
       "1     859\n",
       "Name: patient_group, dtype: int64"
      ]
     },
     "execution_count": 49,
     "metadata": {},
     "output_type": "execute_result"
    }
   ],
   "source": [
    "nbhds_df_group.patient_group.value_counts()"
   ]
  },
  {
   "cell_type": "code",
   "execution_count": 50,
   "id": "9c5f4472-ac52-40d8-b1b0-f492f06b3c07",
   "metadata": {},
   "outputs": [
    {
     "data": {
      "text/html": [
       "<div>\n",
       "<style scoped>\n",
       "    .dataframe tbody tr th:only-of-type {\n",
       "        vertical-align: middle;\n",
       "    }\n",
       "\n",
       "    .dataframe tbody tr th {\n",
       "        vertical-align: top;\n",
       "    }\n",
       "\n",
       "    .dataframe thead th {\n",
       "        text-align: right;\n",
       "    }\n",
       "</style>\n",
       "<table border=\"1\" class=\"dataframe\">\n",
       "  <thead>\n",
       "    <tr style=\"text-align: right;\">\n",
       "      <th></th>\n",
       "      <th>patient_group</th>\n",
       "      <th>patient_stage</th>\n",
       "      <th>patient_id</th>\n",
       "      <th>spot_id</th>\n",
       "      <th>centroid_X</th>\n",
       "      <th>centroid_Y</th>\n",
       "      <th>granulocytes</th>\n",
       "      <th>vasculature</th>\n",
       "      <th>CD4+ T cells CD45RO+</th>\n",
       "      <th>tumor cells</th>\n",
       "      <th>...</th>\n",
       "      <th>immune cells</th>\n",
       "      <th>NK cells</th>\n",
       "      <th>nerves</th>\n",
       "      <th>CD68+ macrophages GzmB+</th>\n",
       "      <th>CD68+ macrophages</th>\n",
       "      <th>lymphatics</th>\n",
       "      <th>CD11b+ monocytes</th>\n",
       "      <th>CD4+ T cells GATA3+</th>\n",
       "      <th>CD163+ macrophages</th>\n",
       "      <th>CD3+ T cells</th>\n",
       "    </tr>\n",
       "  </thead>\n",
       "  <tbody>\n",
       "    <tr>\n",
       "      <th>0</th>\n",
       "      <td>1</td>\n",
       "      <td>3.0</td>\n",
       "      <td>1</td>\n",
       "      <td>1_A</td>\n",
       "      <td>239.100006</td>\n",
       "      <td>317.000000</td>\n",
       "      <td>2</td>\n",
       "      <td>0</td>\n",
       "      <td>0</td>\n",
       "      <td>1</td>\n",
       "      <td>...</td>\n",
       "      <td>0</td>\n",
       "      <td>0</td>\n",
       "      <td>0</td>\n",
       "      <td>0</td>\n",
       "      <td>0</td>\n",
       "      <td>0</td>\n",
       "      <td>0</td>\n",
       "      <td>0</td>\n",
       "      <td>0</td>\n",
       "      <td>0</td>\n",
       "    </tr>\n",
       "    <tr>\n",
       "      <th>1</th>\n",
       "      <td>1</td>\n",
       "      <td>3.0</td>\n",
       "      <td>1</td>\n",
       "      <td>1_A</td>\n",
       "      <td>257.899994</td>\n",
       "      <td>309.200012</td>\n",
       "      <td>2</td>\n",
       "      <td>0</td>\n",
       "      <td>0</td>\n",
       "      <td>1</td>\n",
       "      <td>...</td>\n",
       "      <td>0</td>\n",
       "      <td>0</td>\n",
       "      <td>0</td>\n",
       "      <td>0</td>\n",
       "      <td>0</td>\n",
       "      <td>0</td>\n",
       "      <td>0</td>\n",
       "      <td>0</td>\n",
       "      <td>0</td>\n",
       "      <td>0</td>\n",
       "    </tr>\n",
       "    <tr>\n",
       "      <th>2</th>\n",
       "      <td>1</td>\n",
       "      <td>3.0</td>\n",
       "      <td>1</td>\n",
       "      <td>1_A</td>\n",
       "      <td>478.200012</td>\n",
       "      <td>326.100006</td>\n",
       "      <td>2</td>\n",
       "      <td>0</td>\n",
       "      <td>1</td>\n",
       "      <td>0</td>\n",
       "      <td>...</td>\n",
       "      <td>0</td>\n",
       "      <td>0</td>\n",
       "      <td>0</td>\n",
       "      <td>0</td>\n",
       "      <td>0</td>\n",
       "      <td>0</td>\n",
       "      <td>0</td>\n",
       "      <td>0</td>\n",
       "      <td>0</td>\n",
       "      <td>0</td>\n",
       "    </tr>\n",
       "    <tr>\n",
       "      <th>3</th>\n",
       "      <td>1</td>\n",
       "      <td>3.0</td>\n",
       "      <td>1</td>\n",
       "      <td>1_A</td>\n",
       "      <td>504.299988</td>\n",
       "      <td>1258.300049</td>\n",
       "      <td>3</td>\n",
       "      <td>1</td>\n",
       "      <td>0</td>\n",
       "      <td>0</td>\n",
       "      <td>...</td>\n",
       "      <td>0</td>\n",
       "      <td>0</td>\n",
       "      <td>0</td>\n",
       "      <td>0</td>\n",
       "      <td>0</td>\n",
       "      <td>0</td>\n",
       "      <td>0</td>\n",
       "      <td>0</td>\n",
       "      <td>0</td>\n",
       "      <td>0</td>\n",
       "    </tr>\n",
       "    <tr>\n",
       "      <th>4</th>\n",
       "      <td>1</td>\n",
       "      <td>3.0</td>\n",
       "      <td>1</td>\n",
       "      <td>1_A</td>\n",
       "      <td>528.000000</td>\n",
       "      <td>1300.199951</td>\n",
       "      <td>3</td>\n",
       "      <td>2</td>\n",
       "      <td>0</td>\n",
       "      <td>0</td>\n",
       "      <td>...</td>\n",
       "      <td>0</td>\n",
       "      <td>0</td>\n",
       "      <td>0</td>\n",
       "      <td>0</td>\n",
       "      <td>0</td>\n",
       "      <td>0</td>\n",
       "      <td>0</td>\n",
       "      <td>0</td>\n",
       "      <td>0</td>\n",
       "      <td>0</td>\n",
       "    </tr>\n",
       "    <tr>\n",
       "      <th>...</th>\n",
       "      <td>...</td>\n",
       "      <td>...</td>\n",
       "      <td>...</td>\n",
       "      <td>...</td>\n",
       "      <td>...</td>\n",
       "      <td>...</td>\n",
       "      <td>...</td>\n",
       "      <td>...</td>\n",
       "      <td>...</td>\n",
       "      <td>...</td>\n",
       "      <td>...</td>\n",
       "      <td>...</td>\n",
       "      <td>...</td>\n",
       "      <td>...</td>\n",
       "      <td>...</td>\n",
       "      <td>...</td>\n",
       "      <td>...</td>\n",
       "      <td>...</td>\n",
       "      <td>...</td>\n",
       "      <td>...</td>\n",
       "      <td>...</td>\n",
       "    </tr>\n",
       "    <tr>\n",
       "      <th>2506</th>\n",
       "      <td>1</td>\n",
       "      <td>3.0</td>\n",
       "      <td>35</td>\n",
       "      <td>70_B</td>\n",
       "      <td>362.100006</td>\n",
       "      <td>186.199997</td>\n",
       "      <td>0</td>\n",
       "      <td>1</td>\n",
       "      <td>2</td>\n",
       "      <td>5</td>\n",
       "      <td>...</td>\n",
       "      <td>0</td>\n",
       "      <td>0</td>\n",
       "      <td>0</td>\n",
       "      <td>0</td>\n",
       "      <td>0</td>\n",
       "      <td>0</td>\n",
       "      <td>0</td>\n",
       "      <td>0</td>\n",
       "      <td>0</td>\n",
       "      <td>0</td>\n",
       "    </tr>\n",
       "    <tr>\n",
       "      <th>2507</th>\n",
       "      <td>1</td>\n",
       "      <td>3.0</td>\n",
       "      <td>35</td>\n",
       "      <td>70_B</td>\n",
       "      <td>386.600006</td>\n",
       "      <td>170.300003</td>\n",
       "      <td>0</td>\n",
       "      <td>1</td>\n",
       "      <td>2</td>\n",
       "      <td>7</td>\n",
       "      <td>...</td>\n",
       "      <td>0</td>\n",
       "      <td>0</td>\n",
       "      <td>0</td>\n",
       "      <td>0</td>\n",
       "      <td>0</td>\n",
       "      <td>0</td>\n",
       "      <td>0</td>\n",
       "      <td>0</td>\n",
       "      <td>0</td>\n",
       "      <td>0</td>\n",
       "    </tr>\n",
       "    <tr>\n",
       "      <th>2508</th>\n",
       "      <td>1</td>\n",
       "      <td>3.0</td>\n",
       "      <td>35</td>\n",
       "      <td>70_B</td>\n",
       "      <td>356.000000</td>\n",
       "      <td>157.000000</td>\n",
       "      <td>0</td>\n",
       "      <td>1</td>\n",
       "      <td>2</td>\n",
       "      <td>5</td>\n",
       "      <td>...</td>\n",
       "      <td>0</td>\n",
       "      <td>0</td>\n",
       "      <td>0</td>\n",
       "      <td>0</td>\n",
       "      <td>0</td>\n",
       "      <td>0</td>\n",
       "      <td>0</td>\n",
       "      <td>0</td>\n",
       "      <td>0</td>\n",
       "      <td>0</td>\n",
       "    </tr>\n",
       "    <tr>\n",
       "      <th>2509</th>\n",
       "      <td>1</td>\n",
       "      <td>3.0</td>\n",
       "      <td>35</td>\n",
       "      <td>70_B</td>\n",
       "      <td>395.500000</td>\n",
       "      <td>195.500000</td>\n",
       "      <td>1</td>\n",
       "      <td>1</td>\n",
       "      <td>1</td>\n",
       "      <td>6</td>\n",
       "      <td>...</td>\n",
       "      <td>0</td>\n",
       "      <td>0</td>\n",
       "      <td>0</td>\n",
       "      <td>0</td>\n",
       "      <td>0</td>\n",
       "      <td>0</td>\n",
       "      <td>0</td>\n",
       "      <td>0</td>\n",
       "      <td>0</td>\n",
       "      <td>0</td>\n",
       "    </tr>\n",
       "    <tr>\n",
       "      <th>2510</th>\n",
       "      <td>1</td>\n",
       "      <td>3.0</td>\n",
       "      <td>35</td>\n",
       "      <td>70_B</td>\n",
       "      <td>403.000000</td>\n",
       "      <td>199.899994</td>\n",
       "      <td>1</td>\n",
       "      <td>1</td>\n",
       "      <td>1</td>\n",
       "      <td>5</td>\n",
       "      <td>...</td>\n",
       "      <td>0</td>\n",
       "      <td>0</td>\n",
       "      <td>0</td>\n",
       "      <td>0</td>\n",
       "      <td>0</td>\n",
       "      <td>0</td>\n",
       "      <td>0</td>\n",
       "      <td>0</td>\n",
       "      <td>0</td>\n",
       "      <td>0</td>\n",
       "    </tr>\n",
       "  </tbody>\n",
       "</table>\n",
       "<p>2511 rows × 35 columns</p>\n",
       "</div>"
      ],
      "text/plain": [
       "      patient_group  patient_stage  patient_id spot_id  centroid_X  \\\n",
       "0                 1            3.0           1     1_A  239.100006   \n",
       "1                 1            3.0           1     1_A  257.899994   \n",
       "2                 1            3.0           1     1_A  478.200012   \n",
       "3                 1            3.0           1     1_A  504.299988   \n",
       "4                 1            3.0           1     1_A  528.000000   \n",
       "...             ...            ...         ...     ...         ...   \n",
       "2506              1            3.0          35    70_B  362.100006   \n",
       "2507              1            3.0          35    70_B  386.600006   \n",
       "2508              1            3.0          35    70_B  356.000000   \n",
       "2509              1            3.0          35    70_B  395.500000   \n",
       "2510              1            3.0          35    70_B  403.000000   \n",
       "\n",
       "       centroid_Y  granulocytes  vasculature  CD4+ T cells CD45RO+  \\\n",
       "0      317.000000             2            0                     0   \n",
       "1      309.200012             2            0                     0   \n",
       "2      326.100006             2            0                     1   \n",
       "3     1258.300049             3            1                     0   \n",
       "4     1300.199951             3            2                     0   \n",
       "...           ...           ...          ...                   ...   \n",
       "2506   186.199997             0            1                     2   \n",
       "2507   170.300003             0            1                     2   \n",
       "2508   157.000000             0            1                     2   \n",
       "2509   195.500000             1            1                     1   \n",
       "2510   199.899994             1            1                     1   \n",
       "\n",
       "      tumor cells  ...  immune cells  NK cells  nerves  \\\n",
       "0               1  ...             0         0       0   \n",
       "1               1  ...             0         0       0   \n",
       "2               0  ...             0         0       0   \n",
       "3               0  ...             0         0       0   \n",
       "4               0  ...             0         0       0   \n",
       "...           ...  ...           ...       ...     ...   \n",
       "2506            5  ...             0         0       0   \n",
       "2507            7  ...             0         0       0   \n",
       "2508            5  ...             0         0       0   \n",
       "2509            6  ...             0         0       0   \n",
       "2510            5  ...             0         0       0   \n",
       "\n",
       "      CD68+ macrophages GzmB+  CD68+ macrophages  lymphatics  \\\n",
       "0                           0                  0           0   \n",
       "1                           0                  0           0   \n",
       "2                           0                  0           0   \n",
       "3                           0                  0           0   \n",
       "4                           0                  0           0   \n",
       "...                       ...                ...         ...   \n",
       "2506                        0                  0           0   \n",
       "2507                        0                  0           0   \n",
       "2508                        0                  0           0   \n",
       "2509                        0                  0           0   \n",
       "2510                        0                  0           0   \n",
       "\n",
       "      CD11b+ monocytes  CD4+ T cells GATA3+  CD163+ macrophages  CD3+ T cells  \n",
       "0                    0                    0                   0             0  \n",
       "1                    0                    0                   0             0  \n",
       "2                    0                    0                   0             0  \n",
       "3                    0                    0                   0             0  \n",
       "4                    0                    0                   0             0  \n",
       "...                ...                  ...                 ...           ...  \n",
       "2506                 0                    0                   0             0  \n",
       "2507                 0                    0                   0             0  \n",
       "2508                 0                    0                   0             0  \n",
       "2509                 0                    0                   0             0  \n",
       "2510                 0                    0                   0             0  \n",
       "\n",
       "[2511 rows x 35 columns]"
      ]
     },
     "execution_count": 50,
     "metadata": {},
     "output_type": "execute_result"
    }
   ],
   "source": [
    "nbhds_df_group"
   ]
  },
  {
   "cell_type": "markdown",
   "id": "cec9dba5-f7db-4152-9251-50f4e6d2fb33",
   "metadata": {},
   "source": [
    "Roughly twice as many important neighborhoods for group 2 than in group 1"
   ]
  },
  {
   "cell_type": "code",
   "execution_count": 42,
   "id": "9ca745d4-e413-4bda-8257-fc7f2c642866",
   "metadata": {},
   "outputs": [
    {
     "data": {
      "text/plain": [
       "2    6864\n",
       "1    4774\n",
       "Name: patient_group, dtype: int64"
      ]
     },
     "execution_count": 42,
     "metadata": {},
     "output_type": "execute_result"
    }
   ],
   "source": [
    "nbhds_df_stage.patient_group.value_counts()"
   ]
  },
  {
   "cell_type": "code",
   "execution_count": 43,
   "id": "050c065d-88ca-471e-b7ef-20cf812d0ba8",
   "metadata": {},
   "outputs": [],
   "source": [
    "nbhds_df_group.to_csv(DATA_PATH+'nbhds_df_group.csv',index=False)"
   ]
  },
  {
   "cell_type": "code",
   "execution_count": 44,
   "id": "bd06c97e-07f1-4e6a-8190-901aa2a06b74",
   "metadata": {},
   "outputs": [],
   "source": [
    "nbhds_df_stage.to_csv(DATA_PATH+'nbhds_df_stage.csv',index=False)"
   ]
  },
  {
   "cell_type": "code",
   "execution_count": 51,
   "id": "f250ed66-08b0-439c-8544-1e409c4a95d4",
   "metadata": {},
   "outputs": [],
   "source": [
    "from sklearn.cluster import DBSCAN\n",
    "from sklearn.preprocessing import StandardScaler\n",
    "\n",
    "X = nbhds_df.drop(['patient_id','spot_id','centroid_X','centroid_Y'],axis=1).values\n",
    "\n",
    "X = StandardScaler().fit_transform(X)\n",
    "\n",
    "# Compute DBSCAN\n",
    "db = DBSCAN(eps=2.0, min_samples=10).fit(X)\n",
    "core_samples_mask = np.zeros_like(db.labels_, dtype=bool)\n",
    "core_samples_mask[db.core_sample_indices_] = True\n",
    "labels = db.labels_\n",
    "\n",
    "# Number of clusters in labels, ignoring noise if present.\n",
    "n_clusters_ = len(set(labels)) - (1 if -1 in labels else 0)\n",
    "n_noise_ = list(labels).count(-1)"
   ]
  },
  {
   "cell_type": "code",
   "execution_count": 52,
   "id": "2fee94dd-da8c-4164-beda-156722750c04",
   "metadata": {},
   "outputs": [
    {
     "data": {
      "text/plain": [
       "array([[ 0.74919509, -0.38964127, -0.40416676, ..., -0.04466779,\n",
       "        -0.01996012, -0.03994412],\n",
       "       [ 0.74919509, -0.38964127, -0.40416676, ..., -0.04466779,\n",
       "        -0.01996012, -0.03994412],\n",
       "       [ 0.74919509, -0.38964127,  0.56329056, ..., -0.04466779,\n",
       "        -0.01996012, -0.03994412],\n",
       "       ...,\n",
       "       [-0.45904439,  0.57239338,  1.53074787, ..., -0.04466779,\n",
       "        -0.01996012, -0.03994412],\n",
       "       [ 0.14507535,  0.57239338,  0.56329056, ..., -0.04466779,\n",
       "        -0.01996012, -0.03994412],\n",
       "       [ 0.14507535,  0.57239338,  0.56329056, ..., -0.04466779,\n",
       "        -0.01996012, -0.03994412]])"
      ]
     },
     "execution_count": 52,
     "metadata": {},
     "output_type": "execute_result"
    }
   ],
   "source": [
    "X"
   ]
  },
  {
   "cell_type": "code",
   "execution_count": 53,
   "id": "bc52cbc8-0e76-41e1-a0b5-ecede38cf866",
   "metadata": {},
   "outputs": [
    {
     "data": {
      "text/plain": [
       "array([ 0,  0, -1, ..., -1,  0,  3])"
      ]
     },
     "execution_count": 53,
     "metadata": {},
     "output_type": "execute_result"
    }
   ],
   "source": [
    "labels"
   ]
  },
  {
   "cell_type": "code",
   "execution_count": 54,
   "id": "d1420e2f-947e-46a5-a4dd-5f5d21f58c14",
   "metadata": {},
   "outputs": [
    {
     "data": {
      "text/plain": [
       "8"
      ]
     },
     "execution_count": 54,
     "metadata": {},
     "output_type": "execute_result"
    }
   ],
   "source": [
    "n_clusters_"
   ]
  },
  {
   "cell_type": "code",
   "execution_count": 55,
   "id": "7af64d24-fd71-46a9-a8ea-76f3da25f5d4",
   "metadata": {},
   "outputs": [
    {
     "data": {
      "text/plain": [
       "831"
      ]
     },
     "execution_count": 55,
     "metadata": {},
     "output_type": "execute_result"
    }
   ],
   "source": [
    "n_noise_"
   ]
  },
  {
   "cell_type": "code",
   "execution_count": 56,
   "id": "8518e6ff-cfb4-41b2-9c51-48baebcab168",
   "metadata": {},
   "outputs": [
    {
     "data": {
      "text/plain": [
       "2511"
      ]
     },
     "execution_count": 56,
     "metadata": {},
     "output_type": "execute_result"
    }
   ],
   "source": [
    "len(labels)"
   ]
  },
  {
   "cell_type": "markdown",
   "id": "40a25e0e-cf09-4375-a271-f8339d8c7d75",
   "metadata": {},
   "source": [
    "### HDBSCAN"
   ]
  },
  {
   "cell_type": "code",
   "execution_count": 68,
   "id": "aaa676bb-f3de-45f1-938b-c60ad17d69e7",
   "metadata": {},
   "outputs": [],
   "source": [
    "import hdbscan\n",
    "from sklearn.preprocessing import StandardScaler\n"
   ]
  },
  {
   "cell_type": "code",
   "execution_count": 263,
   "id": "0d42874f-bb31-490e-83d8-1dfb6b523a11",
   "metadata": {},
   "outputs": [],
   "source": [
    "ptgroup_map = {1:20,2:40}\n",
    "patient_group = 1\n",
    "# X = nbhds_df_group[nbhds_df_group['patient_group'] == patient_group].drop(['patient_stage','patient_group','patient_id','spot_id','centroid_X','centroid_Y'],axis=1).values\n",
    "# X = X / 10\n",
    "# X = StandardScaler().fit_transform(X)\n",
    "X = nbhds_df_group.drop(['patient_stage','patient_group','patient_id','spot_id','centroid_X','centroid_Y'],axis=1).values\n"
   ]
  },
  {
   "cell_type": "code",
   "execution_count": 264,
   "id": "d9589343-3c10-4215-a831-07033de807ea",
   "metadata": {},
   "outputs": [
    {
     "data": {
      "text/plain": [
       "HDBSCAN(gen_min_span_tree=True, min_cluster_size=20)"
      ]
     },
     "execution_count": 264,
     "metadata": {},
     "output_type": "execute_result"
    }
   ],
   "source": [
    "clusterer = hdbscan.HDBSCAN(min_cluster_size=20, gen_min_span_tree=True)\n",
    "clusterer.fit(X)"
   ]
  },
  {
   "cell_type": "code",
   "execution_count": 265,
   "id": "6b24fbfd-0b7a-4397-bdf0-0b5976861b2d",
   "metadata": {},
   "outputs": [
    {
     "data": {
      "text/plain": [
       "10"
      ]
     },
     "execution_count": 265,
     "metadata": {},
     "output_type": "execute_result"
    }
   ],
   "source": [
    "max(clusterer.labels_)"
   ]
  },
  {
   "cell_type": "code",
   "execution_count": 266,
   "id": "e14c25ef-8bdc-4ba5-aa64-cce3f0afbae8",
   "metadata": {},
   "outputs": [
    {
     "data": {
      "text/plain": [
       "(array([-1,  0,  1,  2,  3,  4,  5,  6,  7,  8,  9, 10]),\n",
       " array([1606,   28,   57,   58,  150,  152,   38,   26,   77,   25,   38,\n",
       "         256]))"
      ]
     },
     "execution_count": 266,
     "metadata": {},
     "output_type": "execute_result"
    }
   ],
   "source": [
    "np.unique(clusterer.labels_, return_counts=True)"
   ]
  },
  {
   "cell_type": "code",
   "execution_count": 267,
   "id": "86e22484-3a8c-42dc-b44b-9e5557ab7832",
   "metadata": {},
   "outputs": [
    {
     "data": {
      "text/plain": [
       "<AxesSubplot:ylabel='$\\\\lambda$ value'>"
      ]
     },
     "execution_count": 267,
     "metadata": {},
     "output_type": "execute_result"
    },
    {
     "data": {
      "image/png": "[encoded data removed]",
      "text/plain": [
       "<Figure size 432x288 with 2 Axes>"
      ]
     },
     "metadata": {
      "needs_background": "light"
     },
     "output_type": "display_data"
    }
   ],
   "source": [
    "clusterer.condensed_tree_.plot()"
   ]
  },
  {
   "cell_type": "code",
   "execution_count": 268,
   "id": "fff3d656-76cf-4ef6-9a59-93c153f99e9e",
   "metadata": {},
   "outputs": [
    {
     "name": "stderr",
     "output_type": "stream",
     "text": [
      "/home/joeleliason/anaconda3/envs/hactnet/lib/python3.7/site-packages/hdbscan/plots.py:383: UserWarning: Infinite lambda values encountered in chosen clusters. This might be due to duplicates in the data.\n",
      "  warn('Infinite lambda values encountered in chosen clusters.'\n"
     ]
    },
    {
     "data": {
      "text/plain": [
       "<AxesSubplot:ylabel='$\\\\lambda$ value'>"
      ]
     },
     "execution_count": 268,
     "metadata": {},
     "output_type": "execute_result"
    },
    {
     "data": {
      "image/png": "[encoded data removed]",
      "text/plain": [
       "<Figure size 432x288 with 2 Axes>"
      ]
     },
     "metadata": {
      "needs_background": "light"
     },
     "output_type": "display_data"
    }
   ],
   "source": [
    "clusterer.condensed_tree_.plot(select_clusters=True,\n",
    "                               selection_palette=sns.color_palette('deep', 8))"
   ]
  },
  {
   "cell_type": "code",
   "execution_count": 269,
   "id": "e7920d2f-4a08-4ea8-885e-8be311886bef",
   "metadata": {},
   "outputs": [],
   "source": [
    "labs = clusterer.labels_"
   ]
  },
  {
   "cell_type": "code",
   "execution_count": 270,
   "id": "2b14cb04-1afa-41a2-a6a1-a143beaa56f7",
   "metadata": {},
   "outputs": [],
   "source": [
    "centroids = []\n",
    "for lab in range(max(labs)+1):\n",
    "    if lab == -1:\n",
    "        continue\n",
    "    idx = np.where(labs == lab)[0]\n",
    "    centroids.append(X[idx,:].mean(axis=0))"
   ]
  },
  {
   "cell_type": "code",
   "execution_count": 271,
   "id": "4e1153eb-e267-4454-b0ab-a553ade5a5ce",
   "metadata": {},
   "outputs": [
    {
     "data": {
      "image/png": "[encoded data removed]",
      "text/plain": [
       "<Figure size 864x576 with 1 Axes>"
      ]
     },
     "metadata": {
      "needs_background": "light"
     },
     "output_type": "display_data"
    }
   ],
   "source": [
    "cols = nbhds_df_group.drop(['patient_stage','patient_group','patient_id','spot_id','centroid_X','centroid_Y'],axis=1).columns\n",
    "fig,ax = plt.subplots(figsize=(12,8))\n",
    "ax.pcolormesh(np.array(centroids).T, edgecolor='red')\n",
    "ax.set_yticks(np.arange(len(cols))+0.5)\n",
    "ax.set_yticklabels(cols)\n",
    "ax.set_xlabel('cluster')\n",
    "ax.set_ylabel('cell type')\n",
    "ax.set_title(f'Cell composition of important neighborhoods in all patients')\n",
    "plt.savefig(DATA_PATH+f'cell_comp_group_all.png')\n",
    "plt.show()"
   ]
  },
  {
   "cell_type": "markdown",
   "id": "ce32a864-b6b4-4dde-bd92-a6a52b4286f9",
   "metadata": {},
   "source": [
    "#### Stability based cluster evaluation"
   ]
  },
  {
   "cell_type": "code",
   "execution_count": 120,
   "id": "a5a6e1ba-115e-4051-8487-21342dfdf040",
   "metadata": {},
   "outputs": [],
   "source": [
    "# from reval.best_nclust_cv import FindBestClustCV\n",
    "from sklearn.model_selection import train_test_split\n",
    "from sklearn.neighbors import KNeighborsClassifier\n",
    "from reval.param_selection import ParamSelection\n",
    "\n",
    "params = {'s': {'n_neighbors': [5, 15]},\n",
    "          'c': {'min_cluster_size': [10,20,30]}}\n",
    "parsel = ParamSelection(params, cv=2, s=KNeighborsClassifier(), c=hdbscan.HDBSCAN(),\n",
    "                        nrand=10,\n",
    "                        n_jobs=4,\n",
    "                        iter_cv=10)"
   ]
  },
  {
   "cell_type": "code",
   "execution_count": 121,
   "id": "203d56d2-4df5-4c1d-8145-c5a0aefa728b",
   "metadata": {},
   "outputs": [
    {
     "name": "stderr",
     "output_type": "stream",
     "text": [
      "09:40:49, INFO Running 6 combinations of parameters...\n",
      "\n",
      "09:42:50, INFO Best solution(s):\n",
      "09:42:50, INFO Parameters classifier (S): n_neighbors=5\n",
      "09:42:50, INFO Parameters clustering (C): min_cluster_size=30\n",
      "09:42:50, INFO Validation performance: (0.46515847710931224, (0.46515847710931224, 0.23601203317159036))\n",
      "09:42:50, INFO N clusters: 2\n",
      "\n"
     ]
    },
    {
     "data": {
      "text/plain": [
       "<reval.param_selection.ParamSelection at 0x7f0feefe4690>"
      ]
     },
     "execution_count": 121,
     "metadata": {},
     "output_type": "execute_result"
    }
   ],
   "source": [
    "parsel.fit(X)"
   ]
  },
  {
   "cell_type": "code",
   "execution_count": null,
   "id": "428ad0c5-0d86-4236-bcab-3b3a18c71d9b",
   "metadata": {},
   "outputs": [],
   "source": []
  },
  {
   "cell_type": "markdown",
   "id": "ca74178f-57c1-4850-9e61-845ace56a5e3",
   "metadata": {},
   "source": [
    "### Correlation"
   ]
  },
  {
   "cell_type": "code",
   "execution_count": 276,
   "id": "3a89a3d9-e6f7-47a4-bc19-bf5f25fbb333",
   "metadata": {},
   "outputs": [],
   "source": [
    "def cor_sel(sliced,threshold=0.2,breadth=1):\n",
    "    X = sliced.drop(['patient_stage','patient_group','patient_id','spot_id','centroid_X','centroid_Y'],axis=1)\n",
    "\n",
    "    correlation_matrix = X.corr()\n",
    "    threshold = 0.2\n",
    "    breadth = 1\n",
    "    correlation_matrix_filter = correlation_matrix.copy()\n",
    "    np.fill_diagonal(correlation_matrix_filter.values,0)\n",
    "    # filter <- apply(correlation_matrix_filter,1, function(x) sum(abs(x) >= threshold,na.rm = T))\n",
    "    filt = correlation_matrix_filter.apply(lambda x: np.nansum(np.abs(x) >= threshold))\n",
    "    sel = np.where(filt >= breadth)[0]\n",
    "    corr = correlation_matrix.iloc[sel,sel]\n",
    "\n",
    "    # Generate a mask for the upper triangle\n",
    "    mask = np.triu(np.ones_like(corr, dtype=bool))\n",
    "\n",
    "    # Set up the matplotlib figure\n",
    "    f, ax = plt.subplots(figsize=(11, 9))\n",
    "\n",
    "    # Generate a custom diverging colormap\n",
    "    cmap = sns.diverging_palette(230, 20, as_cmap=True)\n",
    "\n",
    "    # Draw the heatmap with the mask and correct aspect ratio\n",
    "    sns.heatmap(corr, mask=mask, cmap=cmap, vmax=.3, center=0,\n",
    "                square=True, linewidths=.5, cbar_kws={\"shrink\": .5})\n",
    "    plt.savefig(DATA_PATH+f'nbhd_corr_spot_{spot}.png')\n",
    "    plt.show()"
   ]
  },
  {
   "cell_type": "code",
   "execution_count": 274,
   "id": "dd0c4996-67ba-4dc4-b1a6-665dc6b1e825",
   "metadata": {},
   "outputs": [
    {
     "data": {
      "image/png": "[encoded data removed]",
      "text/plain": [
       "<Figure size 792x648 with 2 Axes>"
      ]
     },
     "metadata": {
      "needs_background": "light"
     },
     "output_type": "display_data"
    }
   ],
   "source": [
    "patient_group = 1\n",
    "sliced = nbhds_df_group[nbhds_df_group['patient_group'] == patient_group]\n",
    "cor_sel(sliced)"
   ]
  },
  {
   "cell_type": "code",
   "execution_count": 275,
   "id": "820fa944-1407-454e-82f0-90cd6e9fb37d",
   "metadata": {},
   "outputs": [
    {
     "data": {
      "image/png": "[encoded data removed]",
      "text/plain": [
       "<Figure size 792x648 with 2 Axes>"
      ]
     },
     "metadata": {
      "needs_background": "light"
     },
     "output_type": "display_data"
    }
   ],
   "source": [
    "patient_group = 2\n",
    "sliced = nbhds_df_group[nbhds_df_group['patient_group'] == patient_group]\n",
    "cor_sel(sliced)"
   ]
  },
  {
   "cell_type": "code",
   "execution_count": 63,
   "id": "c4e89373-bb76-44d6-9d93-942f898e8016",
   "metadata": {},
   "outputs": [
    {
     "data": {
      "image/png": "[encoded data removed]",
      "text/plain": [
       "<Figure size 792x648 with 2 Axes>"
      ]
     },
     "metadata": {
      "needs_background": "light"
     },
     "output_type": "display_data"
    }
   ],
   "source": [
    "sliced = nbhds_df_stage[nbhds_df_stage['patient_id'] == 1]\n",
    "cor_sel(sliced)"
   ]
  },
  {
   "cell_type": "code",
   "execution_count": 278,
   "id": "3649f1f3-ccd3-421b-8d85-3c82eb449811",
   "metadata": {},
   "outputs": [
    {
     "data": {
      "image/png": "[encoded data removed]",
      "text/plain": [
       "<Figure size 792x648 with 2 Axes>"
      ]
     },
     "metadata": {
      "needs_background": "light"
     },
     "output_type": "display_data"
    }
   ],
   "source": [
    "spot = '26_B'\n",
    "sliced = nbhds_df_group[nbhds_df_group['spot_id'] == spot]\n",
    "cor_sel(sliced)"
   ]
  },
  {
   "cell_type": "markdown",
   "id": "91872237-c938-4965-9d5f-e044cf3e2abf",
   "metadata": {},
   "source": [
    "~~Correlations - done~~\n",
    "\n",
    "~~Cluster communities and then look at correlations - TBD~~\n",
    "\n",
    "ANOVA of median campp scores and pairwise comparisons plot - across whole df, patient groups, individual patient and individual spot\n",
    "\n",
    "heteroscedasticity plot"
   ]
  },
  {
   "cell_type": "code",
   "execution_count": null,
   "id": "f429008f-e3e2-48f9-aede-77d545f81ff8",
   "metadata": {},
   "outputs": [],
   "source": []
  }
 ],
 "metadata": {
  "kernelspec": {
   "display_name": "Python 3 (ipykernel)",
   "language": "python",
   "name": "python3"
  },
  "language_info": {
   "codemirror_mode": {
    "name": "ipython",
    "version": 3
   },
   "file_extension": ".py",
   "mimetype": "text/x-python",
   "name": "python",
   "nbconvert_exporter": "python",
   "pygments_lexer": "ipython3",
   "version": "3.7.12"
  }
 },
 "nbformat": 4,
 "nbformat_minor": 5
}
