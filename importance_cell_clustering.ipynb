{
 "cells": [
  {
   "cell_type": "code",
   "execution_count": 20,
   "id": "8cb92389-8a45-42c2-bce7-ffdb0d73a290",
   "metadata": {},
   "outputs": [],
   "source": [
    "import numpy as np\n",
    "import pandas as pd\n",
    "import matplotlib.pyplot as plt\n",
    "import pickle\n",
    "import seaborn as sns\n",
    "from sklearn.neighbors import NearestNeighbors\n",
    "import collections"
   ]
  },
  {
   "cell_type": "code",
   "execution_count": 2,
   "id": "2b06ace8-668b-4244-85e4-57538c0e6030",
   "metadata": {},
   "outputs": [],
   "source": [
    "DATA_PATH = './data/'\n",
    "with open(DATA_PATH+'importance_scores_group_prediction.pkl','rb') as f:\n",
    "    scores_per_graph = pickle.load(f)"
   ]
  },
  {
   "cell_type": "code",
   "execution_count": 7,
   "id": "7b2b185e-8c2f-472a-be98-fb0a709c239c",
   "metadata": {},
   "outputs": [],
   "source": [
    "# DATA_PATH = './data/'\n",
    "# with open(DATA_PATH+'scores_per_graph.pkl','rb') as f:\n",
    "#     scores_per_graph = pickle.load(f)"
   ]
  },
  {
   "cell_type": "code",
   "execution_count": 3,
   "id": "c806c0c7-5fcc-464c-9baa-582ff88acf0c",
   "metadata": {},
   "outputs": [
    {
     "data": {
      "text/plain": [
       "140"
      ]
     },
     "execution_count": 3,
     "metadata": {},
     "output_type": "execute_result"
    }
   ],
   "source": [
    "len(scores_per_graph)"
   ]
  },
  {
   "cell_type": "code",
   "execution_count": 4,
   "id": "c52c0d00-76ba-4095-9b80-3bf0912b516a",
   "metadata": {},
   "outputs": [],
   "source": [
    "scl = scores_per_graph[0] # look at dataframe for first graph"
   ]
  },
  {
   "cell_type": "code",
   "execution_count": 5,
   "id": "0928f740-ee39-4519-89de-dbf5a238e33c",
   "metadata": {},
   "outputs": [
    {
     "data": {
      "text/html": [
       "<div>\n",
       "<style scoped>\n",
       "    .dataframe tbody tr th:only-of-type {\n",
       "        vertical-align: middle;\n",
       "    }\n",
       "\n",
       "    .dataframe tbody tr th {\n",
       "        vertical-align: top;\n",
       "    }\n",
       "\n",
       "    .dataframe thead th {\n",
       "        text-align: right;\n",
       "    }\n",
       "</style>\n",
       "<table border=\"1\" class=\"dataframe\">\n",
       "  <thead>\n",
       "    <tr style=\"text-align: right;\">\n",
       "      <th></th>\n",
       "      <th>cell_type</th>\n",
       "      <th>X</th>\n",
       "      <th>Y</th>\n",
       "      <th>cell_id</th>\n",
       "      <th>spot_id</th>\n",
       "      <th>campp_0</th>\n",
       "      <th>campp_1</th>\n",
       "      <th>campp_2</th>\n",
       "      <th>campp_3</th>\n",
       "      <th>campp_4</th>\n",
       "      <th>campp_5</th>\n",
       "      <th>campp_6</th>\n",
       "      <th>campp_7</th>\n",
       "      <th>campp_8</th>\n",
       "      <th>campp_9</th>\n",
       "      <th>campp_median</th>\n",
       "      <th>campp_mad</th>\n",
       "    </tr>\n",
       "  </thead>\n",
       "  <tbody>\n",
       "    <tr>\n",
       "      <th>0</th>\n",
       "      <td>granulocytes</td>\n",
       "      <td>77.0</td>\n",
       "      <td>589.0</td>\n",
       "      <td>0</td>\n",
       "      <td>0</td>\n",
       "      <td>0.016950</td>\n",
       "      <td>0.350585</td>\n",
       "      <td>0.000000</td>\n",
       "      <td>0.116528</td>\n",
       "      <td>0.140501</td>\n",
       "      <td>0.017379</td>\n",
       "      <td>0.099837</td>\n",
       "      <td>0.129521</td>\n",
       "      <td>0.024781</td>\n",
       "      <td>0.007914</td>\n",
       "      <td>0.062309</td>\n",
       "      <td>0.076995</td>\n",
       "    </tr>\n",
       "    <tr>\n",
       "      <th>1</th>\n",
       "      <td>granulocytes</td>\n",
       "      <td>106.0</td>\n",
       "      <td>826.0</td>\n",
       "      <td>1</td>\n",
       "      <td>0</td>\n",
       "      <td>0.014687</td>\n",
       "      <td>0.075043</td>\n",
       "      <td>0.240120</td>\n",
       "      <td>0.269666</td>\n",
       "      <td>0.001379</td>\n",
       "      <td>0.047645</td>\n",
       "      <td>0.000000</td>\n",
       "      <td>0.006499</td>\n",
       "      <td>0.023416</td>\n",
       "      <td>0.148588</td>\n",
       "      <td>0.035531</td>\n",
       "      <td>0.082052</td>\n",
       "    </tr>\n",
       "    <tr>\n",
       "      <th>2</th>\n",
       "      <td>granulocytes</td>\n",
       "      <td>107.0</td>\n",
       "      <td>545.0</td>\n",
       "      <td>2</td>\n",
       "      <td>0</td>\n",
       "      <td>0.068091</td>\n",
       "      <td>0.000000</td>\n",
       "      <td>0.000000</td>\n",
       "      <td>0.030736</td>\n",
       "      <td>0.028675</td>\n",
       "      <td>0.017152</td>\n",
       "      <td>0.000000</td>\n",
       "      <td>0.099696</td>\n",
       "      <td>0.010412</td>\n",
       "      <td>0.000000</td>\n",
       "      <td>0.013782</td>\n",
       "      <td>0.025059</td>\n",
       "    </tr>\n",
       "    <tr>\n",
       "      <th>3</th>\n",
       "      <td>granulocytes</td>\n",
       "      <td>98.0</td>\n",
       "      <td>564.0</td>\n",
       "      <td>3</td>\n",
       "      <td>0</td>\n",
       "      <td>0.007142</td>\n",
       "      <td>0.281647</td>\n",
       "      <td>0.000000</td>\n",
       "      <td>0.060714</td>\n",
       "      <td>0.322154</td>\n",
       "      <td>0.054891</td>\n",
       "      <td>0.217566</td>\n",
       "      <td>0.138132</td>\n",
       "      <td>0.020155</td>\n",
       "      <td>0.000000</td>\n",
       "      <td>0.057803</td>\n",
       "      <td>0.103708</td>\n",
       "    </tr>\n",
       "    <tr>\n",
       "      <th>4</th>\n",
       "      <td>granulocytes</td>\n",
       "      <td>217.0</td>\n",
       "      <td>329.0</td>\n",
       "      <td>4</td>\n",
       "      <td>0</td>\n",
       "      <td>0.252162</td>\n",
       "      <td>0.901895</td>\n",
       "      <td>0.414942</td>\n",
       "      <td>0.469559</td>\n",
       "      <td>0.380645</td>\n",
       "      <td>0.344093</td>\n",
       "      <td>0.475564</td>\n",
       "      <td>0.249722</td>\n",
       "      <td>0.201604</td>\n",
       "      <td>0.044381</td>\n",
       "      <td>0.362369</td>\n",
       "      <td>0.155064</td>\n",
       "    </tr>\n",
       "    <tr>\n",
       "      <th>...</th>\n",
       "      <td>...</td>\n",
       "      <td>...</td>\n",
       "      <td>...</td>\n",
       "      <td>...</td>\n",
       "      <td>...</td>\n",
       "      <td>...</td>\n",
       "      <td>...</td>\n",
       "      <td>...</td>\n",
       "      <td>...</td>\n",
       "      <td>...</td>\n",
       "      <td>...</td>\n",
       "      <td>...</td>\n",
       "      <td>...</td>\n",
       "      <td>...</td>\n",
       "      <td>...</td>\n",
       "      <td>...</td>\n",
       "      <td>...</td>\n",
       "    </tr>\n",
       "    <tr>\n",
       "      <th>1159</th>\n",
       "      <td>undefined</td>\n",
       "      <td>1686.0</td>\n",
       "      <td>503.0</td>\n",
       "      <td>240084</td>\n",
       "      <td>0</td>\n",
       "      <td>0.110061</td>\n",
       "      <td>0.000000</td>\n",
       "      <td>0.020442</td>\n",
       "      <td>0.093610</td>\n",
       "      <td>0.008543</td>\n",
       "      <td>0.000000</td>\n",
       "      <td>0.257543</td>\n",
       "      <td>0.010750</td>\n",
       "      <td>0.000000</td>\n",
       "      <td>0.080056</td>\n",
       "      <td>0.015596</td>\n",
       "      <td>0.061774</td>\n",
       "    </tr>\n",
       "    <tr>\n",
       "      <th>1160</th>\n",
       "      <td>undefined</td>\n",
       "      <td>1868.0</td>\n",
       "      <td>553.0</td>\n",
       "      <td>240085</td>\n",
       "      <td>0</td>\n",
       "      <td>0.073889</td>\n",
       "      <td>0.000000</td>\n",
       "      <td>0.000000</td>\n",
       "      <td>0.104903</td>\n",
       "      <td>0.000000</td>\n",
       "      <td>0.042700</td>\n",
       "      <td>0.000000</td>\n",
       "      <td>0.002508</td>\n",
       "      <td>0.000000</td>\n",
       "      <td>0.061639</td>\n",
       "      <td>0.001254</td>\n",
       "      <td>0.033775</td>\n",
       "    </tr>\n",
       "    <tr>\n",
       "      <th>1161</th>\n",
       "      <td>tumor cells / immune cells</td>\n",
       "      <td>1310.0</td>\n",
       "      <td>135.0</td>\n",
       "      <td>246598</td>\n",
       "      <td>0</td>\n",
       "      <td>0.038855</td>\n",
       "      <td>0.000000</td>\n",
       "      <td>0.037085</td>\n",
       "      <td>0.113898</td>\n",
       "      <td>0.026791</td>\n",
       "      <td>0.000000</td>\n",
       "      <td>0.022953</td>\n",
       "      <td>0.051900</td>\n",
       "      <td>0.000000</td>\n",
       "      <td>0.000715</td>\n",
       "      <td>0.024872</td>\n",
       "      <td>0.024972</td>\n",
       "    </tr>\n",
       "    <tr>\n",
       "      <th>1162</th>\n",
       "      <td>immune cells / vasculature</td>\n",
       "      <td>1634.0</td>\n",
       "      <td>1242.0</td>\n",
       "      <td>248395</td>\n",
       "      <td>0</td>\n",
       "      <td>0.000000</td>\n",
       "      <td>0.000000</td>\n",
       "      <td>0.000000</td>\n",
       "      <td>0.081498</td>\n",
       "      <td>0.063708</td>\n",
       "      <td>0.007302</td>\n",
       "      <td>0.000000</td>\n",
       "      <td>0.001153</td>\n",
       "      <td>0.000000</td>\n",
       "      <td>0.070375</td>\n",
       "      <td>0.000576</td>\n",
       "      <td>0.029674</td>\n",
       "    </tr>\n",
       "    <tr>\n",
       "      <th>1163</th>\n",
       "      <td>immune cells</td>\n",
       "      <td>1674.0</td>\n",
       "      <td>1096.0</td>\n",
       "      <td>250548</td>\n",
       "      <td>0</td>\n",
       "      <td>0.000000</td>\n",
       "      <td>0.049405</td>\n",
       "      <td>0.000000</td>\n",
       "      <td>0.066257</td>\n",
       "      <td>0.139179</td>\n",
       "      <td>0.000000</td>\n",
       "      <td>0.000000</td>\n",
       "      <td>0.000000</td>\n",
       "      <td>0.000000</td>\n",
       "      <td>0.003908</td>\n",
       "      <td>0.000000</td>\n",
       "      <td>0.035443</td>\n",
       "    </tr>\n",
       "  </tbody>\n",
       "</table>\n",
       "<p>1164 rows × 17 columns</p>\n",
       "</div>"
      ],
      "text/plain": [
       "                       cell_type       X       Y  cell_id  spot_id   campp_0  \\\n",
       "0                   granulocytes    77.0   589.0        0        0  0.016950   \n",
       "1                   granulocytes   106.0   826.0        1        0  0.014687   \n",
       "2                   granulocytes   107.0   545.0        2        0  0.068091   \n",
       "3                   granulocytes    98.0   564.0        3        0  0.007142   \n",
       "4                   granulocytes   217.0   329.0        4        0  0.252162   \n",
       "...                          ...     ...     ...      ...      ...       ...   \n",
       "1159                   undefined  1686.0   503.0   240084        0  0.110061   \n",
       "1160                   undefined  1868.0   553.0   240085        0  0.073889   \n",
       "1161  tumor cells / immune cells  1310.0   135.0   246598        0  0.038855   \n",
       "1162  immune cells / vasculature  1634.0  1242.0   248395        0  0.000000   \n",
       "1163                immune cells  1674.0  1096.0   250548        0  0.000000   \n",
       "\n",
       "       campp_1   campp_2   campp_3   campp_4   campp_5   campp_6   campp_7  \\\n",
       "0     0.350585  0.000000  0.116528  0.140501  0.017379  0.099837  0.129521   \n",
       "1     0.075043  0.240120  0.269666  0.001379  0.047645  0.000000  0.006499   \n",
       "2     0.000000  0.000000  0.030736  0.028675  0.017152  0.000000  0.099696   \n",
       "3     0.281647  0.000000  0.060714  0.322154  0.054891  0.217566  0.138132   \n",
       "4     0.901895  0.414942  0.469559  0.380645  0.344093  0.475564  0.249722   \n",
       "...        ...       ...       ...       ...       ...       ...       ...   \n",
       "1159  0.000000  0.020442  0.093610  0.008543  0.000000  0.257543  0.010750   \n",
       "1160  0.000000  0.000000  0.104903  0.000000  0.042700  0.000000  0.002508   \n",
       "1161  0.000000  0.037085  0.113898  0.026791  0.000000  0.022953  0.051900   \n",
       "1162  0.000000  0.000000  0.081498  0.063708  0.007302  0.000000  0.001153   \n",
       "1163  0.049405  0.000000  0.066257  0.139179  0.000000  0.000000  0.000000   \n",
       "\n",
       "       campp_8   campp_9  campp_median  campp_mad  \n",
       "0     0.024781  0.007914      0.062309   0.076995  \n",
       "1     0.023416  0.148588      0.035531   0.082052  \n",
       "2     0.010412  0.000000      0.013782   0.025059  \n",
       "3     0.020155  0.000000      0.057803   0.103708  \n",
       "4     0.201604  0.044381      0.362369   0.155064  \n",
       "...        ...       ...           ...        ...  \n",
       "1159  0.000000  0.080056      0.015596   0.061774  \n",
       "1160  0.000000  0.061639      0.001254   0.033775  \n",
       "1161  0.000000  0.000715      0.024872   0.024972  \n",
       "1162  0.000000  0.070375      0.000576   0.029674  \n",
       "1163  0.000000  0.003908      0.000000   0.035443  \n",
       "\n",
       "[1164 rows x 17 columns]"
      ]
     },
     "execution_count": 5,
     "metadata": {},
     "output_type": "execute_result"
    }
   ],
   "source": [
    "scl"
   ]
  },
  {
   "cell_type": "markdown",
   "id": "ba643591-85c2-4120-a77c-ffd92e103f11",
   "metadata": {},
   "source": [
    "### Find kNN of each important cell and use them as neighborhoods"
   ]
  },
  {
   "cell_type": "code",
   "execution_count": 6,
   "id": "11cec4f9-6055-4c74-8ef1-431a4a8bebc5",
   "metadata": {},
   "outputs": [],
   "source": [
    "df = pd.read_csv(DATA_PATH+'CRC_master.csv')"
   ]
  },
  {
   "cell_type": "code",
   "execution_count": 7,
   "id": "aa873607-ce05-4f8b-ba9d-742327021826",
   "metadata": {},
   "outputs": [],
   "source": [
    "cell_type_dict = {}\n",
    "for i,cell_type in enumerate(df.ClusterName.unique()):\n",
    "    cell_type_dict[cell_type] = i"
   ]
  },
  {
   "cell_type": "code",
   "execution_count": 8,
   "id": "24c1cc9f-d4e5-4542-b410-3e46113dae3e",
   "metadata": {},
   "outputs": [],
   "source": [
    "spots = df['spots'].unique()"
   ]
  },
  {
   "cell_type": "code",
   "execution_count": 72,
   "id": "99874eaf-192b-40b5-9847-a88857ddac66",
   "metadata": {},
   "outputs": [
    {
     "name": "stderr",
     "output_type": "stream",
     "text": [
      "/home/joeleliason/anaconda3/envs/hactnet/lib/python3.7/site-packages/ipykernel_launcher.py:1: FutureWarning: Your version of xlrd is 1.2.0. In xlrd >= 2.0, only the xls format is supported. As a result, the openpyxl engine will be used if it is installed and the engine argument is not specified. Install openpyxl instead.\n",
      "  \"\"\"Entry point for launching an IPython kernel.\n"
     ]
    }
   ],
   "source": [
    "pt_data = pd.read_excel(DATA_PATH+'CRC_TMAs_patient_annotations.xlsx')"
   ]
  },
  {
   "cell_type": "code",
   "execution_count": 80,
   "id": "df874dce-5328-4fe8-8de8-16336d75a1cf",
   "metadata": {},
   "outputs": [],
   "source": [
    "spots_nbhds = []\n",
    "total_nbhds = 0\n",
    "nn = 10\n",
    "threshold = 0.3\n",
    "all_cell_types = df.ClusterName.unique().tolist()\n",
    "patient_id = 0\n",
    "for i,scl in enumerate(scores_per_graph):\n",
    "    spot_id = scl.spot_id.unique()[0]\n",
    "    spot_id = spots[spot_id]\n",
    "    X = scl.loc[:,'X':'Y'].values\n",
    "    knn = NearestNeighbors(n_neighbors=nn)\n",
    "    knn.fit(X)\n",
    "    important_cells = scl[(scl['campp_median'] >= threshold) & (scl['cell_type'] != 'dirt')]\n",
    "    imp_cell_coord = important_cells.loc[:,'X':'Y'].values\n",
    "    num_nbhds = imp_cell_coord.shape[0]\n",
    "    total_nbhds += num_nbhds\n",
    "    if num_nbhds == 0:\n",
    "        spots_nbhds[spot_id] =[]\n",
    "        continue\n",
    "    knn_important = knn.kneighbors(imp_cell_coord, return_distance=False).tolist()\n",
    "    nbhd_cell_types = []\n",
    "    for cells in knn_important:\n",
    "        nbhd_cell_types.append([cell_type for cell_type in scl.iloc[cells]['cell_type'].values.tolist()])\n",
    "    counts = [collections.Counter(s) for s in nbhd_cell_types]\n",
    "    spots_nbhds_df = pd.DataFrame(0, index=[i for i in range(num_nbhds)], columns=['patient_group','patient_id','spot_id','centroid_X','centroid_Y'] + all_cell_types)\n",
    "    spots_nbhds_df.loc[:,all_cell_types[0]:all_cell_types[-1]] = np.array([[counter[ct] for ct in all_cell_types] for counter in counts])\n",
    "    spots_nbhds_df.loc[:,'spot_id'] = spot_id\n",
    "    if i % 4 == 0:\n",
    "        patient_id += 1\n",
    "    spots_nbhds_df.loc[:,'patient_id'] = patient_id\n",
    "    cp = pt_data.loc[pt_data.loc[:,'Patient'] == patient_id,'Group'].values[0]\n",
    "    assert(cp == 1 or cp == 2)\n",
    "    spots_nbhds_df.loc[:,'patient_group'] = cp\n",
    "    spots_nbhds_df.loc[:,'centroid_X':'centroid_Y'] = [scl.iloc[cells].loc[:,'X':'Y'].values.mean(axis=0) for cells in knn_important]\n",
    "    # spots_nbhds[spot_id] = {\n",
    "    #     'nbhd_cell_types': np.array([[counter[ct] for ct in all_cell_types] for counter in counts]),\n",
    "    #     'nbhd_coords': imp_cell_coord\n",
    "    # }\n",
    "    spots_nbhds.append(spots_nbhds_df)\n",
    "nbhds_df = pd.concat(spots_nbhds,ignore_index=True)"
   ]
  },
  {
   "cell_type": "code",
   "execution_count": 82,
   "id": "5617a1e8-8b8b-46e8-ab06-b49fac598b14",
   "metadata": {},
   "outputs": [
    {
     "data": {
      "text/plain": [
       "2    1652\n",
       "1     859\n",
       "Name: patient_group, dtype: int64"
      ]
     },
     "execution_count": 82,
     "metadata": {},
     "output_type": "execute_result"
    }
   ],
   "source": [
    "nbhds_df.patient_group.value_counts()"
   ]
  },
  {
   "cell_type": "markdown",
   "id": "cec9dba5-f7db-4152-9251-50f4e6d2fb33",
   "metadata": {},
   "source": [
    "Roughly twice as many important neighborhoods for group 2 than in group 1"
   ]
  },
  {
   "cell_type": "code",
   "execution_count": 83,
   "id": "73602a46-f129-4626-bfe0-bb109578bf21",
   "metadata": {},
   "outputs": [],
   "source": [
    "with open(DATA_PATH+'spots_nbhds_df.pkl','wb') as f:\n",
    "    pickle.dump(nbhds_df,f)"
   ]
  },
  {
   "cell_type": "code",
   "execution_count": 84,
   "id": "050c065d-88ca-471e-b7ef-20cf812d0ba8",
   "metadata": {},
   "outputs": [],
   "source": [
    "nbhds_df.to_csv(DATA_PATH+'spots_nbhds_df.csv',index=False)"
   ]
  },
  {
   "cell_type": "code",
   "execution_count": 51,
   "id": "f250ed66-08b0-439c-8544-1e409c4a95d4",
   "metadata": {},
   "outputs": [],
   "source": [
    "from sklearn.cluster import DBSCAN\n",
    "from sklearn.preprocessing import StandardScaler\n",
    "\n",
    "X = nbhds_df.drop(['patient_id','spot_id','centroid_X','centroid_Y'],axis=1).values\n",
    "\n",
    "X = StandardScaler().fit_transform(X)\n",
    "\n",
    "# Compute DBSCAN\n",
    "db = DBSCAN(eps=2.0, min_samples=10).fit(X)\n",
    "core_samples_mask = np.zeros_like(db.labels_, dtype=bool)\n",
    "core_samples_mask[db.core_sample_indices_] = True\n",
    "labels = db.labels_\n",
    "\n",
    "# Number of clusters in labels, ignoring noise if present.\n",
    "n_clusters_ = len(set(labels)) - (1 if -1 in labels else 0)\n",
    "n_noise_ = list(labels).count(-1)"
   ]
  },
  {
   "cell_type": "code",
   "execution_count": 52,
   "id": "2fee94dd-da8c-4164-beda-156722750c04",
   "metadata": {},
   "outputs": [
    {
     "data": {
      "text/plain": [
       "array([[ 0.74919509, -0.38964127, -0.40416676, ..., -0.04466779,\n",
       "        -0.01996012, -0.03994412],\n",
       "       [ 0.74919509, -0.38964127, -0.40416676, ..., -0.04466779,\n",
       "        -0.01996012, -0.03994412],\n",
       "       [ 0.74919509, -0.38964127,  0.56329056, ..., -0.04466779,\n",
       "        -0.01996012, -0.03994412],\n",
       "       ...,\n",
       "       [-0.45904439,  0.57239338,  1.53074787, ..., -0.04466779,\n",
       "        -0.01996012, -0.03994412],\n",
       "       [ 0.14507535,  0.57239338,  0.56329056, ..., -0.04466779,\n",
       "        -0.01996012, -0.03994412],\n",
       "       [ 0.14507535,  0.57239338,  0.56329056, ..., -0.04466779,\n",
       "        -0.01996012, -0.03994412]])"
      ]
     },
     "execution_count": 52,
     "metadata": {},
     "output_type": "execute_result"
    }
   ],
   "source": [
    "X"
   ]
  },
  {
   "cell_type": "code",
   "execution_count": 53,
   "id": "bc52cbc8-0e76-41e1-a0b5-ecede38cf866",
   "metadata": {},
   "outputs": [
    {
     "data": {
      "text/plain": [
       "array([ 0,  0, -1, ..., -1,  0,  3])"
      ]
     },
     "execution_count": 53,
     "metadata": {},
     "output_type": "execute_result"
    }
   ],
   "source": [
    "labels"
   ]
  },
  {
   "cell_type": "code",
   "execution_count": 54,
   "id": "d1420e2f-947e-46a5-a4dd-5f5d21f58c14",
   "metadata": {},
   "outputs": [
    {
     "data": {
      "text/plain": [
       "8"
      ]
     },
     "execution_count": 54,
     "metadata": {},
     "output_type": "execute_result"
    }
   ],
   "source": [
    "n_clusters_"
   ]
  },
  {
   "cell_type": "code",
   "execution_count": 55,
   "id": "7af64d24-fd71-46a9-a8ea-76f3da25f5d4",
   "metadata": {},
   "outputs": [
    {
     "data": {
      "text/plain": [
       "831"
      ]
     },
     "execution_count": 55,
     "metadata": {},
     "output_type": "execute_result"
    }
   ],
   "source": [
    "n_noise_"
   ]
  },
  {
   "cell_type": "code",
   "execution_count": 56,
   "id": "8518e6ff-cfb4-41b2-9c51-48baebcab168",
   "metadata": {},
   "outputs": [
    {
     "data": {
      "text/plain": [
       "2511"
      ]
     },
     "execution_count": 56,
     "metadata": {},
     "output_type": "execute_result"
    }
   ],
   "source": [
    "len(labels)"
   ]
  },
  {
   "cell_type": "markdown",
   "id": "40a25e0e-cf09-4375-a271-f8339d8c7d75",
   "metadata": {},
   "source": [
    "### HDBSCAN"
   ]
  },
  {
   "cell_type": "code",
   "execution_count": 57,
   "id": "aaa676bb-f3de-45f1-938b-c60ad17d69e7",
   "metadata": {},
   "outputs": [],
   "source": [
    "import hdbscan"
   ]
  },
  {
   "cell_type": "code",
   "execution_count": 58,
   "id": "0d42874f-bb31-490e-83d8-1dfb6b523a11",
   "metadata": {},
   "outputs": [],
   "source": [
    "X = nbhds_df.drop(['patient_id','spot_id','centroid_X','centroid_Y'],axis=1).values\n",
    "X = X / 10\n",
    "X = StandardScaler().fit_transform(X)"
   ]
  },
  {
   "cell_type": "code",
   "execution_count": 59,
   "id": "d9589343-3c10-4215-a831-07033de807ea",
   "metadata": {},
   "outputs": [
    {
     "data": {
      "text/plain": [
       "HDBSCAN(gen_min_span_tree=True, min_cluster_size=20)"
      ]
     },
     "execution_count": 59,
     "metadata": {},
     "output_type": "execute_result"
    }
   ],
   "source": [
    "clusterer = hdbscan.HDBSCAN(min_cluster_size=20, gen_min_span_tree=True)\n",
    "clusterer.fit(X)"
   ]
  },
  {
   "cell_type": "code",
   "execution_count": 60,
   "id": "6b24fbfd-0b7a-4397-bdf0-0b5976861b2d",
   "metadata": {},
   "outputs": [
    {
     "data": {
      "text/plain": [
       "11"
      ]
     },
     "execution_count": 60,
     "metadata": {},
     "output_type": "execute_result"
    }
   ],
   "source": [
    "max(clusterer.labels_)"
   ]
  },
  {
   "cell_type": "code",
   "execution_count": 61,
   "id": "e14c25ef-8bdc-4ba5-aa64-cce3f0afbae8",
   "metadata": {},
   "outputs": [
    {
     "data": {
      "text/plain": [
       "(array([-1,  0,  1,  2,  3,  4,  5,  6,  7,  8,  9, 10, 11]),\n",
       " array([1667,   36,   74,   74,   57,   63,   37,  110,   25,   30,   35,\n",
       "          40,  263]))"
      ]
     },
     "execution_count": 61,
     "metadata": {},
     "output_type": "execute_result"
    }
   ],
   "source": [
    "np.unique(clusterer.labels_, return_counts=True)"
   ]
  },
  {
   "cell_type": "code",
   "execution_count": 62,
   "id": "86e22484-3a8c-42dc-b44b-9e5557ab7832",
   "metadata": {},
   "outputs": [
    {
     "data": {
      "text/plain": [
       "<AxesSubplot:ylabel='$\\\\lambda$ value'>"
      ]
     },
     "execution_count": 62,
     "metadata": {},
     "output_type": "execute_result"
    },
    {
     "data": {
      "image/png": "[encoded data removed]",
      "text/plain": [
       "<Figure size 432x288 with 2 Axes>"
      ]
     },
     "metadata": {
      "needs_background": "light"
     },
     "output_type": "display_data"
    }
   ],
   "source": [
    "clusterer.condensed_tree_.plot()"
   ]
  },
  {
   "cell_type": "code",
   "execution_count": 63,
   "id": "fff3d656-76cf-4ef6-9a59-93c153f99e9e",
   "metadata": {},
   "outputs": [
    {
     "name": "stderr",
     "output_type": "stream",
     "text": [
      "/home/joeleliason/anaconda3/envs/hactnet/lib/python3.7/site-packages/hdbscan/plots.py:383: UserWarning: Infinite lambda values encountered in chosen clusters. This might be due to duplicates in the data.\n",
      "  warn('Infinite lambda values encountered in chosen clusters.'\n"
     ]
    },
    {
     "data": {
      "text/plain": [
       "<AxesSubplot:ylabel='$\\\\lambda$ value'>"
      ]
     },
     "execution_count": 63,
     "metadata": {},
     "output_type": "execute_result"
    },
    {
     "data": {
      "image/png": "[encoded data removed]",
      "text/plain": [
       "<Figure size 432x288 with 2 Axes>"
      ]
     },
     "metadata": {
      "needs_background": "light"
     },
     "output_type": "display_data"
    }
   ],
   "source": [
    "clusterer.condensed_tree_.plot(select_clusters=True,\n",
    "                               selection_palette=sns.color_palette('deep', 8))"
   ]
  },
  {
   "cell_type": "code",
   "execution_count": null,
   "id": "b8f038c9-b02d-49f3-aeea-7fec363ed80d",
   "metadata": {},
   "outputs": [],
   "source": []
  }
 ],
 "metadata": {
  "kernelspec": {
   "display_name": "Python 3 (ipykernel)",
   "language": "python",
   "name": "python3"
  },
  "language_info": {
   "codemirror_mode": {
    "name": "ipython",
    "version": 3
   },
   "file_extension": ".py",
   "mimetype": "text/x-python",
   "name": "python",
   "nbconvert_exporter": "python",
   "pygments_lexer": "ipython3",
   "version": "3.7.12"
  }
 },
 "nbformat": 4,
 "nbformat_minor": 5
}
