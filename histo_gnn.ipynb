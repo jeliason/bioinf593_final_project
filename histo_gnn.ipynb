{
 "cells": [
  {
   "cell_type": "code",
   "execution_count": 1,
   "id": "b4c15e7b-414f-4f0e-b42c-48ce0179d71f",
   "metadata": {},
   "outputs": [
    {
     "name": "stderr",
     "output_type": "stream",
     "text": [
      "Using backend: pytorch\n"
     ]
    }
   ],
   "source": [
    "import dgl\n",
    "from sklearn.neighbors import kneighbors_graph\n",
    "import numpy as np\n",
    "import pandas as pd\n",
    "import torch\n",
    "import pickle\n",
    "from tqdm import trange\n",
    "import histocartography\n",
    "import matplotlib.pyplot as plt\n",
    "import copy"
   ]
  },
  {
   "cell_type": "code",
   "execution_count": 2,
   "id": "efabd5eb-4dc7-4d60-8fdf-2226d6302f48",
   "metadata": {},
   "outputs": [],
   "source": [
    "DATA_PATH = './data/'"
   ]
  },
  {
   "cell_type": "code",
   "execution_count": 3,
   "id": "ea990eaa-4a83-476c-ba98-116628ebb34c",
   "metadata": {},
   "outputs": [
    {
     "name": "stderr",
     "output_type": "stream",
     "text": [
      "/home/joeleliason/anaconda3/envs/hactnet/lib/python3.7/site-packages/ipykernel_launcher.py:1: FutureWarning: Your version of xlrd is 1.2.0. In xlrd >= 2.0, only the xls format is supported. As a result, the openpyxl engine will be used if it is installed and the engine argument is not specified. Install openpyxl instead.\n",
      "  \"\"\"Entry point for launching an IPython kernel.\n"
     ]
    }
   ],
   "source": [
    "pt_data = pd.read_excel(DATA_PATH+'CRC_TMAs_patient_annotations.xlsx')\n",
    "df = pd.read_csv(DATA_PATH+'CRC_master.csv')"
   ]
  },
  {
   "cell_type": "code",
   "execution_count": 4,
   "id": "03ca8216-e4aa-43bb-ad52-67d67f5bcda8",
   "metadata": {},
   "outputs": [],
   "source": [
    "labs, ids = np.unique(df.loc[:,'ClusterName'].to_numpy(), return_inverse=True)\n",
    "df['ClusterID'] = ids"
   ]
  },
  {
   "cell_type": "code",
   "execution_count": 5,
   "id": "3f8d9dc7-f131-4f74-b1c6-26bacfaa8204",
   "metadata": {},
   "outputs": [
    {
     "data": {
      "text/html": [
       "<div>\n",
       "<style scoped>\n",
       "    .dataframe tbody tr th:only-of-type {\n",
       "        vertical-align: middle;\n",
       "    }\n",
       "\n",
       "    .dataframe tbody tr th {\n",
       "        vertical-align: top;\n",
       "    }\n",
       "\n",
       "    .dataframe thead th {\n",
       "        text-align: right;\n",
       "    }\n",
       "</style>\n",
       "<table border=\"1\" class=\"dataframe\">\n",
       "  <thead>\n",
       "    <tr style=\"text-align: right;\">\n",
       "      <th></th>\n",
       "      <th>Unnamed: 0</th>\n",
       "      <th>CellID</th>\n",
       "      <th>patients</th>\n",
       "      <th>spots</th>\n",
       "      <th>groups</th>\n",
       "      <th>ClusterName</th>\n",
       "      <th>size</th>\n",
       "      <th>CD44 - stroma</th>\n",
       "      <th>FOXP3 - regulatory T cells</th>\n",
       "      <th>CD8 - cytotoxic T cells</th>\n",
       "      <th>...</th>\n",
       "      <th>CD8+ICOS+</th>\n",
       "      <th>CD8+Ki67+</th>\n",
       "      <th>CD8+PD-1+</th>\n",
       "      <th>Treg-ICOS+</th>\n",
       "      <th>Treg-Ki67+</th>\n",
       "      <th>Treg-PD-1+</th>\n",
       "      <th>X</th>\n",
       "      <th>Y</th>\n",
       "      <th>Z</th>\n",
       "      <th>ClusterID</th>\n",
       "    </tr>\n",
       "  </thead>\n",
       "  <tbody>\n",
       "    <tr>\n",
       "      <th>0</th>\n",
       "      <td>0</td>\n",
       "      <td>0</td>\n",
       "      <td>1</td>\n",
       "      <td>1_A</td>\n",
       "      <td>1</td>\n",
       "      <td>granulocytes</td>\n",
       "      <td>10120</td>\n",
       "      <td>1.843591</td>\n",
       "      <td>17.398706</td>\n",
       "      <td>0.000000</td>\n",
       "      <td>...</td>\n",
       "      <td>0</td>\n",
       "      <td>0</td>\n",
       "      <td>0</td>\n",
       "      <td>0</td>\n",
       "      <td>0</td>\n",
       "      <td>0</td>\n",
       "      <td>77</td>\n",
       "      <td>589</td>\n",
       "      <td>10</td>\n",
       "      <td>17</td>\n",
       "    </tr>\n",
       "    <tr>\n",
       "      <th>1</th>\n",
       "      <td>1</td>\n",
       "      <td>1</td>\n",
       "      <td>1</td>\n",
       "      <td>1_A</td>\n",
       "      <td>1</td>\n",
       "      <td>granulocytes</td>\n",
       "      <td>861</td>\n",
       "      <td>30.284525</td>\n",
       "      <td>18.375738</td>\n",
       "      <td>74.695236</td>\n",
       "      <td>...</td>\n",
       "      <td>0</td>\n",
       "      <td>0</td>\n",
       "      <td>0</td>\n",
       "      <td>0</td>\n",
       "      <td>0</td>\n",
       "      <td>0</td>\n",
       "      <td>106</td>\n",
       "      <td>826</td>\n",
       "      <td>10</td>\n",
       "      <td>17</td>\n",
       "    </tr>\n",
       "    <tr>\n",
       "      <th>2</th>\n",
       "      <td>2</td>\n",
       "      <td>2</td>\n",
       "      <td>1</td>\n",
       "      <td>1_A</td>\n",
       "      <td>1</td>\n",
       "      <td>granulocytes</td>\n",
       "      <td>6206</td>\n",
       "      <td>139.488510</td>\n",
       "      <td>249.746979</td>\n",
       "      <td>85.556976</td>\n",
       "      <td>...</td>\n",
       "      <td>0</td>\n",
       "      <td>0</td>\n",
       "      <td>0</td>\n",
       "      <td>0</td>\n",
       "      <td>0</td>\n",
       "      <td>0</td>\n",
       "      <td>107</td>\n",
       "      <td>545</td>\n",
       "      <td>10</td>\n",
       "      <td>17</td>\n",
       "    </tr>\n",
       "    <tr>\n",
       "      <th>3</th>\n",
       "      <td>3</td>\n",
       "      <td>3</td>\n",
       "      <td>1</td>\n",
       "      <td>1_A</td>\n",
       "      <td>1</td>\n",
       "      <td>granulocytes</td>\n",
       "      <td>6320</td>\n",
       "      <td>20.596886</td>\n",
       "      <td>81.759758</td>\n",
       "      <td>0.000000</td>\n",
       "      <td>...</td>\n",
       "      <td>0</td>\n",
       "      <td>0</td>\n",
       "      <td>0</td>\n",
       "      <td>0</td>\n",
       "      <td>0</td>\n",
       "      <td>0</td>\n",
       "      <td>98</td>\n",
       "      <td>564</td>\n",
       "      <td>10</td>\n",
       "      <td>17</td>\n",
       "    </tr>\n",
       "    <tr>\n",
       "      <th>4</th>\n",
       "      <td>4</td>\n",
       "      <td>4</td>\n",
       "      <td>1</td>\n",
       "      <td>1_A</td>\n",
       "      <td>1</td>\n",
       "      <td>granulocytes</td>\n",
       "      <td>1591</td>\n",
       "      <td>67.328728</td>\n",
       "      <td>122.195473</td>\n",
       "      <td>11.028284</td>\n",
       "      <td>...</td>\n",
       "      <td>0</td>\n",
       "      <td>0</td>\n",
       "      <td>0</td>\n",
       "      <td>0</td>\n",
       "      <td>0</td>\n",
       "      <td>0</td>\n",
       "      <td>217</td>\n",
       "      <td>329</td>\n",
       "      <td>10</td>\n",
       "      <td>17</td>\n",
       "    </tr>\n",
       "  </tbody>\n",
       "</table>\n",
       "<p>5 rows × 84 columns</p>\n",
       "</div>"
      ],
      "text/plain": [
       "   Unnamed: 0  CellID  patients spots  groups   ClusterName   size  \\\n",
       "0           0       0         1   1_A       1  granulocytes  10120   \n",
       "1           1       1         1   1_A       1  granulocytes    861   \n",
       "2           2       2         1   1_A       1  granulocytes   6206   \n",
       "3           3       3         1   1_A       1  granulocytes   6320   \n",
       "4           4       4         1   1_A       1  granulocytes   1591   \n",
       "\n",
       "   CD44 - stroma  FOXP3 - regulatory T cells  CD8 - cytotoxic T cells  ...  \\\n",
       "0       1.843591                   17.398706                 0.000000  ...   \n",
       "1      30.284525                   18.375738                74.695236  ...   \n",
       "2     139.488510                  249.746979                85.556976  ...   \n",
       "3      20.596886                   81.759758                 0.000000  ...   \n",
       "4      67.328728                  122.195473                11.028284  ...   \n",
       "\n",
       "   CD8+ICOS+  CD8+Ki67+  CD8+PD-1+  Treg-ICOS+  Treg-Ki67+  Treg-PD-1+    X  \\\n",
       "0          0          0          0           0           0           0   77   \n",
       "1          0          0          0           0           0           0  106   \n",
       "2          0          0          0           0           0           0  107   \n",
       "3          0          0          0           0           0           0   98   \n",
       "4          0          0          0           0           0           0  217   \n",
       "\n",
       "     Y   Z  ClusterID  \n",
       "0  589  10         17  \n",
       "1  826  10         17  \n",
       "2  545  10         17  \n",
       "3  564  10         17  \n",
       "4  329  10         17  \n",
       "\n",
       "[5 rows x 84 columns]"
      ]
     },
     "execution_count": 5,
     "metadata": {},
     "output_type": "execute_result"
    }
   ],
   "source": [
    "df.head()"
   ]
  },
  {
   "cell_type": "code",
   "execution_count": 54,
   "id": "9b14d0b6-d14e-4294-9986-1c4c7e44fd9a",
   "metadata": {
    "tags": []
   },
   "outputs": [],
   "source": [
    "k = 5\n",
    "thresh = 50\n",
    "LABEL = \"label\"\n",
    "CENTROID = \"centroid\"\n",
    "FEATURES = \"feat\"\n",
    "graphs = []\n",
    "patients = []\n",
    "for graph_id,spot in enumerate(df['spots'].unique()):\n",
    "    subset = df.loc[df.loc[:,'spots'] == spot,:]\n",
    "    features = subset.loc[:,'size':'Treg-PD-1+'].to_numpy() # np.ndarray, shape(n_nodes,n_feats)\n",
    "    centroids = subset.loc[:,'X':'Y'].to_numpy() # np.ndarray, shape(n_nodes,2)\n",
    "    cell_ids = subset.loc[:,'CellID'].to_numpy()\n",
    "    # ,annotation = np.unique(subset.loc[:,'ClusterName'].to_numpy(), return_inverse=True) # np.ndarray, shape(n_nodes,)\n",
    "    annotation = subset.loc[:,'ClusterID'].to_numpy() # np.ndarray, shape(n_nodes,)\n",
    "    num_nodes = features.shape[0]\n",
    "    graph = dgl.DGLGraph()\n",
    "    graph.add_nodes(num_nodes)\n",
    "\n",
    "    # add image size as graph data\n",
    "    # image_size = (instance_map.shape[1], instance_map.shape[0])  # (x, y)\n",
    "\n",
    "    # get instance centroids\n",
    "    # centroids = self._get_node_centroids(instance_map)\n",
    "\n",
    "    # add node content\n",
    "    # self._set_node_centroids(centroids, graph)\n",
    "    graph.ndata[CENTROID] = torch.FloatTensor(centroids)\n",
    "    # self._set_node_features(features, image_size, graph)\n",
    "    graph.ndata[FEATURES] = torch.FloatTensor(features)\n",
    "    # graph.ndata[FEATURES] = torch.FloatTensor(annotation.astype(float)).unsqueeze(-1)\n",
    "\n",
    "    if annotation is not None:\n",
    "        graph.ndata[LABEL] = torch.FloatTensor(annotation.astype(float))\n",
    "    graph.ndata['cell_ids'] = cell_ids\n",
    "    graph.ndata['graph_id'] = np.array([graph_id for _ in range(num_nodes)])\n",
    "    # build kNN adjacency\n",
    "    adj = kneighbors_graph(\n",
    "        centroids,\n",
    "        k,\n",
    "        mode=\"distance\",\n",
    "        include_self=False,\n",
    "        metric=\"euclidean\").toarray()\n",
    "\n",
    "    # filter edges that are too far (ie larger than thresh)\n",
    "    if thresh is not None:\n",
    "        adj[adj > thresh] = 0\n",
    "\n",
    "    edge_list = np.nonzero(adj)\n",
    "    graph.add_edges(list(edge_list[0]), list(edge_list[1]))\n",
    "    graphs.append(graph)\n",
    "    patients.append(subset['patients'].unique()[0])"
   ]
  },
  {
   "cell_type": "code",
   "execution_count": 41,
   "id": "4f51d300-7faa-4f51-b3ca-8a9b8b86bc82",
   "metadata": {},
   "outputs": [
    {
     "data": {
      "text/plain": [
       "DGLGraph(num_nodes=1164, num_edges=4376,\n",
       "         ndata_schemes={'centroid': Scheme(shape=(2,), dtype=torch.float32), 'feat': Scheme(shape=(1,), dtype=torch.float32), 'label': Scheme(shape=(), dtype=torch.float32), 'cell_ids': Scheme(shape=(), dtype=torch.int64), 'graph_id': Scheme(shape=(), dtype=torch.int64)}\n",
       "         edata_schemes={})"
      ]
     },
     "execution_count": 41,
     "metadata": {},
     "output_type": "execute_result"
    }
   ],
   "source": [
    "graphs[0]"
   ]
  },
  {
   "cell_type": "code",
   "execution_count": 42,
   "id": "631b7d46-a525-4956-9715-6c12ccdf8a92",
   "metadata": {},
   "outputs": [],
   "source": [
    "targets = []\n",
    "for pt in patients:\n",
    "    cp = pt_data.loc[pt_data.loc[:,'Patient'] == pt,'cp_TNM_Simple'].values[0]\n",
    "    t = 0 if cp == 3.0 else 1\n",
    "    targets.append(t)"
   ]
  },
  {
   "cell_type": "code",
   "execution_count": 43,
   "id": "ac76a56a-4f34-45c1-8887-3272b6148101",
   "metadata": {},
   "outputs": [
    {
     "data": {
      "text/plain": [
       "140"
      ]
     },
     "execution_count": 43,
     "metadata": {},
     "output_type": "execute_result"
    }
   ],
   "source": [
    "len(targets)"
   ]
  },
  {
   "cell_type": "code",
   "execution_count": 44,
   "id": "620a40d0-ed2a-4a1f-8528-052ce55c1b58",
   "metadata": {},
   "outputs": [
    {
     "data": {
      "text/plain": [
       "140"
      ]
     },
     "execution_count": 44,
     "metadata": {},
     "output_type": "execute_result"
    }
   ],
   "source": [
    "len(graphs)"
   ]
  },
  {
   "cell_type": "code",
   "execution_count": 55,
   "id": "6be82700-13b8-46dd-88db-a534a02abce0",
   "metadata": {},
   "outputs": [],
   "source": [
    "data = list(zip(graphs,targets))"
   ]
  },
  {
   "cell_type": "code",
   "execution_count": 14,
   "id": "1f2441a1-a76a-478e-8cd6-16d4c960a136",
   "metadata": {},
   "outputs": [],
   "source": [
    "with open(DATA_PATH+'graphs_labels.pkl','wb') as f:\n",
    "    pickle.dump([data,],f)"
   ]
  },
  {
   "cell_type": "code",
   "execution_count": 56,
   "id": "50ea8c22-cd9f-422b-8e0c-698572bd1cc0",
   "metadata": {},
   "outputs": [],
   "source": [
    "node_dim = data[0][0].ndata['feat'].shape[1]\n",
    "# node_dim = 1"
   ]
  },
  {
   "cell_type": "code",
   "execution_count": 57,
   "id": "9df80304-60d3-4735-8b5f-0a392ebe560e",
   "metadata": {},
   "outputs": [],
   "source": [
    "from torch.utils.data import DataLoader\n",
    "import random\n",
    "\n",
    "# 3. Batchify and train/val split the data\n",
    "random.shuffle(data)\n",
    "train_data = data[:int(len(data)* 0.7)]\n",
    "val_data = data[int(len(data)*0.7):]\n",
    "batch_size = 8\n",
    "\n",
    "def collate(batch):\n",
    "    g = dgl.batch([example[0] for example in batch])\n",
    "    l = torch.LongTensor([example[1] for example in batch])\n",
    "    return g, l\n",
    "\n",
    "train_dataloader = DataLoader(data, batch_size, shuffle=True, collate_fn=collate)\n",
    "val_dataloader = DataLoader(data, batch_size, collate_fn=collate)"
   ]
  },
  {
   "cell_type": "code",
   "execution_count": 48,
   "id": "cf8c99c4-5fa1-453f-a881-8fe6f0b07444",
   "metadata": {},
   "outputs": [],
   "source": [
    "gnn_params = {\n",
    "    'readout_op': 'concat',\n",
    "    'layer_type': 'gin_layer',\n",
    "    'hidden_dim': 32,\n",
    "    # 'agg_type': 'mean',\n",
    "    'output_dim': 16,\n",
    "    'num_layers': 2,\n",
    "    'readout_type': 'mean',\n",
    "    # 'with_lrp': False,\n",
    "    'batch_norm': False,\n",
    "    'act':'relu'\n",
    "}\n",
    "classification_params = {\n",
    "    'hidden_dim': 32,\n",
    "    'num_layers': 2\n",
    "}"
   ]
  },
  {
   "cell_type": "code",
   "execution_count": 65,
   "id": "36113812-6792-4346-8efe-9c45b85601b6",
   "metadata": {},
   "outputs": [],
   "source": [
    "gnn_params = {'readout_op': 'concat',\n",
    " 'layer_type': 'gin_layer',\n",
    " 'hidden_dim': 32,\n",
    " 'agg_type': 'mean',\n",
    " 'output_dim': 16,\n",
    " 'num_layers': 2,\n",
    " 'readout_type': 'mean',\n",
    " 'batch_norm': True,\n",
    " 'act': 'relu'}\n",
    "classification_params = {\n",
    "    'hidden_dim': 16,\n",
    "    'num_layers': 3\n",
    "}"
   ]
  },
  {
   "cell_type": "code",
   "execution_count": 285,
   "id": "5c856324-f1ff-462f-8751-e9f2240c2dbe",
   "metadata": {},
   "outputs": [],
   "source": [
    "all_gnn_params = {\n",
    "    'readout_op': ['concat','none'],\n",
    "    'layer_type': ['gin_layer','pna_layer'],\n",
    "    'hidden_dim': [16,32,64,128],\n",
    "    'agg_type': ['mean'], # also other agg_types\n",
    "    'output_dim': [16,32,64],\n",
    "    'num_layers': [2,3],\n",
    "    'readout_type': ['mean'], # also sum, max, min\n",
    "    'batch_norm': [True,False],\n",
    "    'act': ['relu']\n",
    "}\n",
    "all_classification_params = {\n",
    "    'hidden_dim': [16,32,64,128],\n",
    "    'num_layers': [2,3]\n",
    "}"
   ]
  },
  {
   "cell_type": "code",
   "execution_count": null,
   "id": "96333630-a845-48c0-9248-0561171edf03",
   "metadata": {},
   "outputs": [],
   "source": []
  },
  {
   "cell_type": "code",
   "execution_count": 59,
   "id": "69c9812a-2fe4-4464-a809-bd51e3c2dc4b",
   "metadata": {},
   "outputs": [],
   "source": [
    "import importlib\n",
    "importlib.reload(histocartography)\n",
    "from histocartography.ml import CellGraphModel"
   ]
  },
  {
   "cell_type": "code",
   "execution_count": 63,
   "id": "ac9d9708-5267-4a1e-9817-e8dcd8292b4b",
   "metadata": {},
   "outputs": [],
   "source": [
    "cgm = CellGraphModel(gnn_params,classification_params,node_dim,num_classes = 2)"
   ]
  },
  {
   "cell_type": "code",
   "execution_count": 64,
   "id": "9035092e-18a6-4b34-9bdb-2caf07f2d239",
   "metadata": {
    "tags": []
   },
   "outputs": [
    {
     "name": "stderr",
     "output_type": "stream",
     "text": [
      "Validation with loss=0.18 | accuracy=0.9: 100%|█| 50/50 [03:01<00:00,  3.64s/it]\n"
     ]
    }
   ],
   "source": [
    "import torch\n",
    "from tqdm import trange\n",
    "\n",
    "# build optimizer\n",
    "optimizer = torch.optim.Adam(\n",
    "    cgm.parameters(),\n",
    "    lr=10e-3,\n",
    "    weight_decay=5e-4\n",
    ")\n",
    "\n",
    "# define loss function\n",
    "loss_fn = torch.nn.CrossEntropyLoss()\n",
    "\n",
    "# training \n",
    "val_loss = 10e5\n",
    "val_accuracy = 0.\n",
    "\n",
    "with trange(50) as t:\n",
    "    for epoch in t:\n",
    "        t.set_description('Validation with loss={} | accuracy={}'.format(val_loss, val_accuracy))\n",
    "        # A.) train for 1 epoch \n",
    "        cgm.train()\n",
    "        for gs, ls in train_dataloader:\n",
    "\n",
    "            # 1. forward pass\n",
    "            logits = cgm(gs)\n",
    "\n",
    "            # 2. backward pass\n",
    "            loss = loss_fn(logits, ls)\n",
    "            optimizer.zero_grad()\n",
    "            loss.backward()\n",
    "            optimizer.step()\n",
    "            \n",
    "        cgm.eval()\n",
    "        all_val_logits = []\n",
    "        all_val_labels = []\n",
    "        for gs, ls in val_dataloader:\n",
    "            with torch.no_grad():\n",
    "                logits = cgm(gs)\n",
    "            all_val_logits.append(logits)\n",
    "            all_val_labels.append(ls)\n",
    "\n",
    "        all_val_logits = torch.cat(all_val_logits).cpu()\n",
    "        all_val_labels = torch.cat(all_val_labels).cpu()\n",
    "\n",
    "        with torch.no_grad():\n",
    "            val_loss = round(loss_fn(all_val_logits, all_val_labels).item(), 2)\n",
    "            _, predictions = torch.max(all_val_logits, dim=1)\n",
    "            correct = torch.sum(predictions.to(int) == all_val_labels.to(int))\n",
    "            val_accuracy = round(correct.item() * 1.0 / len(all_val_labels), 2)"
   ]
  },
  {
   "cell_type": "code",
   "execution_count": 258,
   "id": "888eac4c-ede4-4424-b588-2744d9612b61",
   "metadata": {},
   "outputs": [
    {
     "data": {
      "text/plain": [
       "MultiLayerGNN(\n",
       "  (layers): ModuleList(\n",
       "    (0): GINLayer(\n",
       "      (mlp): MLP(\n",
       "        (activation): ReLU()\n",
       "        (mlp): ModuleList(\n",
       "          (0): Sequential(\n",
       "            (fc): Linear(in_features=74, out_features=32, bias=True)\n",
       "            (dropout): Dropout(p=0.0, inplace=False)\n",
       "            (relu): ReLU()\n",
       "          )\n",
       "          (1): Sequential(\n",
       "            (fc): Linear(in_features=32, out_features=16, bias=True)\n",
       "            (dropout): Dropout(p=0.0, inplace=False)\n",
       "          )\n",
       "        )\n",
       "      )\n",
       "    )\n",
       "    (1): GINLayer(\n",
       "      (mlp): MLP(\n",
       "        (activation): ReLU()\n",
       "        (mlp): ModuleList(\n",
       "          (0): Sequential(\n",
       "            (fc): Linear(in_features=16, out_features=32, bias=True)\n",
       "            (dropout): Dropout(p=0.0, inplace=False)\n",
       "            (relu): ReLU()\n",
       "          )\n",
       "          (1): Sequential(\n",
       "            (fc): Linear(in_features=32, out_features=16, bias=True)\n",
       "            (dropout): Dropout(p=0.0, inplace=False)\n",
       "          )\n",
       "        )\n",
       "      )\n",
       "    )\n",
       "  )\n",
       ")"
      ]
     },
     "execution_count": 258,
     "metadata": {},
     "output_type": "execute_result"
    }
   ],
   "source": [
    "cgm.cell_graph_gnn"
   ]
  },
  {
   "cell_type": "code",
   "execution_count": 259,
   "id": "57311921-f398-4ff7-ac94-46f1d34ed942",
   "metadata": {},
   "outputs": [
    {
     "data": {
      "text/plain": [
       "tensor([ True,  True,  True, False,  True, False,  True,  True, False, False,\n",
       "         True,  True,  True,  True, False,  True,  True,  True, False,  True,\n",
       "        False,  True,  True,  True,  True,  True,  True,  True,  True,  True,\n",
       "         True,  True,  True, False, False,  True, False,  True,  True,  True,\n",
       "        False, False,  True,  True, False,  True,  True,  True,  True,  True,\n",
       "         True,  True,  True, False,  True,  True,  True, False,  True,  True,\n",
       "        False,  True,  True, False,  True,  True, False,  True, False,  True,\n",
       "         True, False,  True,  True,  True,  True, False,  True, False, False,\n",
       "         True, False,  True, False,  True,  True,  True,  True,  True,  True,\n",
       "         True,  True,  True,  True,  True, False,  True,  True,  True,  True,\n",
       "         True,  True, False,  True,  True,  True,  True,  True,  True,  True,\n",
       "        False,  True,  True, False,  True,  True,  True,  True, False,  True,\n",
       "         True,  True,  True,  True,  True,  True,  True,  True, False,  True,\n",
       "        False,  True,  True, False,  True,  True,  True,  True,  True,  True])"
      ]
     },
     "execution_count": 259,
     "metadata": {},
     "output_type": "execute_result"
    }
   ],
   "source": [
    "predictions == all_val_labels"
   ]
  },
  {
   "cell_type": "code",
   "execution_count": 264,
   "id": "cd220852-a195-45bb-ab93-ea0bfc80cb6b",
   "metadata": {},
   "outputs": [],
   "source": [
    "torch.save(cgm.state_dict(), DATA_PATH+'cgm_params.cpt')"
   ]
  },
  {
   "cell_type": "code",
   "execution_count": 265,
   "id": "9ac5fb97-7544-4b18-ab30-083005d91acd",
   "metadata": {},
   "outputs": [],
   "source": [
    "with open(DATA_PATH+'cgm.pkl','wb') as f:\n",
    "    pickle.dump(cgm,f)"
   ]
  },
  {
   "cell_type": "code",
   "execution_count": 179,
   "id": "e27a8c6c-161b-400a-8011-867d37037099",
   "metadata": {},
   "outputs": [],
   "source": [
    "with open(DATA_PATH+'cgm.pkl','rb') as f:\n",
    "    cgm = pickle.load(f)"
   ]
  },
  {
   "cell_type": "code",
   "execution_count": 266,
   "id": "37ee9a3f-60b1-4b0e-8e88-e3aee5d251c8",
   "metadata": {},
   "outputs": [],
   "source": [
    "# import histocartography\n",
    "import importlib\n",
    "importlib.reload(histocartography)\n",
    "from histocartography.interpretability import (\n",
    "    GraphPruningExplainer,\n",
    "    GraphGradCAMExplainer,\n",
    "    GraphGradCAMPPExplainer,\n",
    "    GraphLRPExplainer\n",
    ")\n",
    "grad_campp_explainer = GraphGradCAMPPExplainer(model=cgm)\n",
    "grad_cam_explainer = GraphGradCAMExplainer(model=cgm)\n",
    "lrp_explainer = GraphLRPExplainer(model=cgm)\n",
    "pruning_explainer = GraphPruningExplainer(model=cgm)"
   ]
  },
  {
   "cell_type": "code",
   "execution_count": 267,
   "id": "36c9abf2-62af-45c0-a946-31523b1eaaa3",
   "metadata": {
    "tags": []
   },
   "outputs": [],
   "source": [
    "importance_scores_grad_campp = []\n",
    "importance_scores_grad_cam = []\n",
    "# importance_scores_pruning = []\n",
    "for e in data:\n",
    "    graph = e[0]\n",
    "    importance_scores_grad_campp.append(grad_campp_explainer.process(graph)[0])\n",
    "    importance_scores_grad_cam.append(grad_cam_explainer.process(graph)[0])\n",
    "    # importance_scores_pruning.append(pruning_explainer.process(graph)[0])\n",
    "    \n",
    "with open(DATA_PATH+'importance_scores.pkl','wb') as f:\n",
    "    pickle.dump({'grad_campp': importance_scores_grad_campp,\n",
    "                 'grad_cam': importance_scores_grad_cam,\n",
    "                  'graphs': graphs,\n",
    "                  'model': cgm},f)"
   ]
  },
  {
   "cell_type": "code",
   "execution_count": 269,
   "id": "ee2dae9d-7503-400f-b6b6-9de4285469c0",
   "metadata": {},
   "outputs": [],
   "source": [
    "with open(DATA_PATH+'cluster_ids.pkl','wb') as f:\n",
    "    pickle.dump({'labs':labs,\n",
    "                'ids':ids},f)"
   ]
  },
  {
   "cell_type": "code",
   "execution_count": 270,
   "id": "8d9d5c3d-7497-41cb-9442-4ab83ef54684",
   "metadata": {},
   "outputs": [
    {
     "data": {
      "text/plain": [
       "array(['B cells', 'CD11b+ monocytes', 'CD11b+CD68+ macrophages',\n",
       "       'CD11c+ DCs', 'CD163+ macrophages', 'CD3+ T cells', 'CD4+ T cells',\n",
       "       'CD4+ T cells CD45RO+', 'CD4+ T cells GATA3+', 'CD68+ macrophages',\n",
       "       'CD68+ macrophages GzmB+', 'CD68+CD163+ macrophages',\n",
       "       'CD8+ T cells', 'NK cells', 'Tregs', 'adipocytes', 'dirt',\n",
       "       'granulocytes', 'immune cells', 'immune cells / vasculature',\n",
       "       'lymphatics', 'nerves', 'plasma cells', 'smooth muscle', 'stroma',\n",
       "       'tumor cells', 'tumor cells / immune cells', 'undefined',\n",
       "       'vasculature'], dtype=object)"
      ]
     },
     "execution_count": 270,
     "metadata": {},
     "output_type": "execute_result"
    }
   ],
   "source": [
    "labs"
   ]
  },
  {
   "cell_type": "code",
   "execution_count": 281,
   "id": "7c06b765-9212-4bb7-af65-234c01454770",
   "metadata": {},
   "outputs": [],
   "source": [
    "cgm.eval()\n",
    "scores_labels = []\n",
    "for score_campp,score_cam,e in zip(importance_scores_grad_campp,\n",
    "                                        importance_scores_grad_cam,\n",
    "                                        data):\n",
    "    graph = e[0]\n",
    "    # print(graph)\n",
    "    target = e[1]\n",
    "    # print(target)\n",
    "    with torch.no_grad():\n",
    "        c = copy.deepcopy(graph)\n",
    "        logits = cgm(c)\n",
    "        pred = torch.argmax(logits)\n",
    "    l = graph.ndata['label'].numpy()\n",
    "    pos = graph.ndata['centroid'].numpy()\n",
    "    l = [labs[int(i)] for i in l]\n",
    "    d = pd.DataFrame({'cell_type':l,'score_campp':score_campp,'score_cam':score_cam,'X':pos[:,0],'Y':pos[:,1]})\n",
    "    d.attrs['stage'] = 3.0 if target == 0 else 4.0\n",
    "    d.attrs['pred'] = 3.0 if pred == 0 else 4.0\n",
    "    scores_labels.append(d)"
   ]
  },
  {
   "cell_type": "code",
   "execution_count": 282,
   "id": "df802645-49f4-4315-b490-78c35b9b658c",
   "metadata": {},
   "outputs": [
    {
     "data": {
      "text/plain": [
       "{'stage': 3.0, 'pred': 3.0}"
      ]
     },
     "execution_count": 282,
     "metadata": {},
     "output_type": "execute_result"
    }
   ],
   "source": [
    "scores_labels[0].attrs"
   ]
  },
  {
   "cell_type": "code",
   "execution_count": 283,
   "id": "e181707d-177e-4a47-98f7-0a9f51210289",
   "metadata": {},
   "outputs": [
    {
     "data": {
      "text/plain": [
       "tensor([0, 0, 0, 1, 0, 0, 0, 0, 0, 0, 0, 0, 0, 0, 0, 0, 0, 0, 0, 0, 0, 0, 0, 0,\n",
       "        0, 0, 0, 0, 0, 0, 0, 0, 0, 1, 0, 0, 0, 0, 0, 0, 0, 0, 0, 0, 0, 1, 0, 0,\n",
       "        0, 0, 0, 0, 1, 0, 0, 0, 0, 0, 1, 0, 0, 1, 0, 0, 0, 0, 0, 0, 1, 0, 0, 1,\n",
       "        0, 0, 0, 0, 0, 0, 0, 0, 0, 0, 0, 1, 0, 0, 0, 0, 0, 0, 0, 0, 1, 0, 0, 0,\n",
       "        0, 0, 0, 0, 0, 0, 0, 0, 0, 0, 0, 0, 0, 0, 0, 0, 0, 0, 0, 0, 0, 0, 1, 0,\n",
       "        0, 0, 0, 0, 0, 0, 0, 0, 0, 0, 0, 0, 0, 0, 0, 0, 0, 0, 0, 0])"
      ]
     },
     "execution_count": 283,
     "metadata": {},
     "output_type": "execute_result"
    }
   ],
   "source": [
    "predictions"
   ]
  },
  {
   "cell_type": "code",
   "execution_count": 17,
   "id": "c2436cb4-ae39-4c52-899e-b35b644f217c",
   "metadata": {},
   "outputs": [
    {
     "ename": "NameError",
     "evalue": "name 'scores_labels' is not defined",
     "output_type": "error",
     "traceback": [
      "\u001b[0;31m---------------------------------------------------------------------------\u001b[0m",
      "\u001b[0;31mNameError\u001b[0m                                 Traceback (most recent call last)",
      "\u001b[0;32m/tmp/ipykernel_54410/3627303204.py\u001b[0m in \u001b[0;36m<module>\u001b[0;34m\u001b[0m\n\u001b[0;32m----> 1\u001b[0;31m \u001b[0mscl\u001b[0m \u001b[0;34m=\u001b[0m \u001b[0mscores_labels\u001b[0m\u001b[0;34m[\u001b[0m\u001b[0;36m0\u001b[0m\u001b[0;34m]\u001b[0m\u001b[0;34m\u001b[0m\u001b[0;34m\u001b[0m\u001b[0m\n\u001b[0m",
      "\u001b[0;31mNameError\u001b[0m: name 'scores_labels' is not defined"
     ]
    }
   ],
   "source": [
    "scl = scores_labels[0]"
   ]
  },
  {
   "cell_type": "code",
   "execution_count": 158,
   "id": "e34b8a23-3b79-43ae-83db-496404dceb22",
   "metadata": {},
   "outputs": [
    {
     "data": {
      "text/plain": [
       "DGLGraph(num_nodes=1164, num_edges=4376,\n",
       "         ndata_schemes={'centroid': Scheme(shape=(2,), dtype=torch.float32), 'feat': Scheme(shape=(64,), dtype=torch.float32), 'label': Scheme(shape=(), dtype=torch.float32), 'gnn_agg_msg': Scheme(shape=(64,), dtype=torch.float32), 'gnn_node_feat_out': Scheme(shape=(64,), dtype=torch.float32)}\n",
       "         edata_schemes={})"
      ]
     },
     "execution_count": 158,
     "metadata": {},
     "output_type": "execute_result"
    }
   ],
   "source": [
    "graphs[0]"
   ]
  },
  {
   "cell_type": "code",
   "execution_count": 169,
   "id": "33aaca8f-75e7-4a0a-9519-93837d233a8d",
   "metadata": {},
   "outputs": [
    {
     "data": {
      "text/plain": [
       "CellGraphModel(\n",
       "  (cell_graph_gnn): MultiLayerGNN(\n",
       "    (layers): ModuleList(\n",
       "      (0): GINLayer(\n",
       "        (mlp): MLP(\n",
       "          (activation): ReLU()\n",
       "          (mlp): ModuleList(\n",
       "            (0): Sequential(\n",
       "              (fc): Linear(in_features=74, out_features=64, bias=True)\n",
       "              (dropout): Dropout(p=0.0, inplace=False)\n",
       "              (relu): ReLU()\n",
       "            )\n",
       "            (1): Sequential(\n",
       "              (fc): Linear(in_features=64, out_features=64, bias=True)\n",
       "              (dropout): Dropout(p=0.0, inplace=False)\n",
       "            )\n",
       "          )\n",
       "        )\n",
       "      )\n",
       "      (1): GINLayer(\n",
       "        (mlp): MLP(\n",
       "          (activation): ReLU()\n",
       "          (mlp): ModuleList(\n",
       "            (0): Sequential(\n",
       "              (fc): Linear(in_features=64, out_features=64, bias=True)\n",
       "              (dropout): Dropout(p=0.0, inplace=False)\n",
       "              (relu): ReLU()\n",
       "            )\n",
       "            (1): Sequential(\n",
       "              (fc): Linear(in_features=64, out_features=64, bias=True)\n",
       "              (dropout): Dropout(p=0.0, inplace=False)\n",
       "            )\n",
       "          )\n",
       "        )\n",
       "      )\n",
       "    )\n",
       "  )\n",
       "  (pred_layer): MLP(\n",
       "    (activation): ReLU()\n",
       "    (mlp): ModuleList(\n",
       "      (0): Sequential(\n",
       "        (fc): Linear(in_features=64, out_features=128, bias=True)\n",
       "        (dropout): Dropout(p=0.0, inplace=False)\n",
       "        (relu): ReLU()\n",
       "      )\n",
       "      (1): Sequential(\n",
       "        (fc): Linear(in_features=128, out_features=2, bias=True)\n",
       "        (dropout): Dropout(p=0.0, inplace=False)\n",
       "      )\n",
       "    )\n",
       "  )\n",
       ")"
      ]
     },
     "execution_count": 169,
     "metadata": {},
     "output_type": "execute_result"
    }
   ],
   "source": [
    "cgm"
   ]
  },
  {
   "cell_type": "code",
   "execution_count": 92,
   "id": "5ee081c1-fde3-43ff-b265-f9e5e48de9ea",
   "metadata": {
    "collapsed": true,
    "jupyter": {
     "outputs_hidden": true
    },
    "tags": []
   },
   "outputs": [
    {
     "data": {
      "image/png": "[encoded data removed]",
      "text/plain": [
       "<Figure size 432x288 with 1 Axes>"
      ]
     },
     "metadata": {
      "needs_background": "light"
     },
     "output_type": "display_data"
    },
    {
     "data": {
      "image/png": "[encoded data removed]",
      "text/plain": [
       "<Figure size 432x288 with 1 Axes>"
      ]
     },
     "metadata": {
      "needs_background": "light"
     },
     "output_type": "display_data"
    },
    {
     "data": {
      "image/png": "[encoded data removed]",
      "text/plain": [
       "<Figure size 432x288 with 1 Axes>"
      ]
     },
     "metadata": {
      "needs_background": "light"
     },
     "output_type": "display_data"
    },
    {
     "data": {
      "image/png": "[encoded data removed]",
      "text/plain": [
       "<Figure size 432x288 with 1 Axes>"
      ]
     },
     "metadata": {
      "needs_background": "light"
     },
     "output_type": "display_data"
    },
    {
     "data": {
      "image/png": "[encoded data removed]",
      "text/plain": [
       "<Figure size 432x288 with 1 Axes>"
      ]
     },
     "metadata": {
      "needs_background": "light"
     },
     "output_type": "display_data"
    },
    {
     "data": {
      "image/png": "[encoded data removed]",
      "text/plain": [
       "<Figure size 432x288 with 1 Axes>"
      ]
     },
     "metadata": {
      "needs_background": "light"
     },
     "output_type": "display_data"
    },
    {
     "data": {
      "image/png": "[encoded data removed]",
      "text/plain": [
       "<Figure size 432x288 with 1 Axes>"
      ]
     },
     "metadata": {
      "needs_background": "light"
     },
     "output_type": "display_data"
    },
    {
     "data": {
      "image/png": "[encoded data removed]",
      "text/plain": [
       "<Figure size 432x288 with 1 Axes>"
      ]
     },
     "metadata": {
      "needs_background": "light"
     },
     "output_type": "display_data"
    },
    {
     "data": {
      "image/png": "[encoded data removed]",
      "text/plain": [
       "<Figure size 432x288 with 1 Axes>"
      ]
     },
     "metadata": {
      "needs_background": "light"
     },
     "output_type": "display_data"
    },
    {
     "data": {
      "image/png": "[encoded data removed]",
      "text/plain": [
       "<Figure size 432x288 with 1 Axes>"
      ]
     },
     "metadata": {
      "needs_background": "light"
     },
     "output_type": "display_data"
    },
    {
     "data": {
      "image/png": "[encoded data removed]",
      "text/plain": [
       "<Figure size 432x288 with 1 Axes>"
      ]
     },
     "metadata": {
      "needs_background": "light"
     },
     "output_type": "display_data"
    },
    {
     "data": {
      "image/png": "[encoded data removed]",
      "text/plain": [
       "<Figure size 432x288 with 1 Axes>"
      ]
     },
     "metadata": {
      "needs_background": "light"
     },
     "output_type": "display_data"
    },
    {
     "data": {
      "image/png": "[encoded data removed]",
      "text/plain": [
       "<Figure size 432x288 with 1 Axes>"
      ]
     },
     "metadata": {
      "needs_background": "light"
     },
     "output_type": "display_data"
    },
    {
     "data": {
      "image/png": "[encoded data removed]",
      "text/plain": [
       "<Figure size 432x288 with 1 Axes>"
      ]
     },
     "metadata": {
      "needs_background": "light"
     },
     "output_type": "display_data"
    },
    {
     "data": {
      "image/png": "[encoded data removed]",
      "text/plain": [
       "<Figure size 432x288 with 1 Axes>"
      ]
     },
     "metadata": {
      "needs_background": "light"
     },
     "output_type": "display_data"
    },
    {
     "data": {
      "image/png": "[encoded data removed]",
      "text/plain": [
       "<Figure size 432x288 with 1 Axes>"
      ]
     },
     "metadata": {
      "needs_background": "light"
     },
     "output_type": "display_data"
    },
    {
     "data": {
      "image/png": "[encoded data removed]",
      "text/plain": [
       "<Figure size 432x288 with 1 Axes>"
      ]
     },
     "metadata": {
      "needs_background": "light"
     },
     "output_type": "display_data"
    },
    {
     "data": {
      "image/png": "[encoded data removed]",
      "text/plain": [
       "<Figure size 432x288 with 1 Axes>"
      ]
     },
     "metadata": {
      "needs_background": "light"
     },
     "output_type": "display_data"
    },
    {
     "data": {
      "image/png": "[encoded data removed]",
      "text/plain": [
       "<Figure size 432x288 with 1 Axes>"
      ]
     },
     "metadata": {
      "needs_background": "light"
     },
     "output_type": "display_data"
    },
    {
     "data": {
      "image/png": "[encoded data removed]",
      "text/plain": [
       "<Figure size 432x288 with 1 Axes>"
      ]
     },
     "metadata": {
      "needs_background": "light"
     },
     "output_type": "display_data"
    }
   ],
   "source": [
    "# plot histogram of scores per cell type\n",
    "for ct in scl.cell_type.unique():\n",
    "    plt.hist(scl[scl['cell_type'] == ct].score_campp)\n",
    "    plt.title(ct)\n",
    "    plt.show()"
   ]
  },
  {
   "cell_type": "code",
   "execution_count": 16,
   "id": "57c7e61a-8d7d-471f-9d91-81d690e9e93b",
   "metadata": {},
   "outputs": [
    {
     "ename": "NameError",
     "evalue": "name 'scl' is not defined",
     "output_type": "error",
     "traceback": [
      "\u001b[0;31m---------------------------------------------------------------------------\u001b[0m",
      "\u001b[0;31mNameError\u001b[0m                                 Traceback (most recent call last)",
      "\u001b[0;32m/tmp/ipykernel_54410/4261745970.py\u001b[0m in \u001b[0;36m<module>\u001b[0;34m\u001b[0m\n\u001b[1;32m      1\u001b[0m \u001b[0;31m# Look at cell type composition of top 100 contributing cells\u001b[0m\u001b[0;34m\u001b[0m\u001b[0;34m\u001b[0m\u001b[0;34m\u001b[0m\u001b[0m\n\u001b[0;32m----> 2\u001b[0;31m \u001b[0mscl\u001b[0m\u001b[0;34m.\u001b[0m\u001b[0msort_values\u001b[0m\u001b[0;34m(\u001b[0m\u001b[0;34m'score_campp'\u001b[0m\u001b[0;34m,\u001b[0m\u001b[0mascending\u001b[0m\u001b[0;34m=\u001b[0m\u001b[0;32mFalse\u001b[0m\u001b[0;34m)\u001b[0m\u001b[0;34m.\u001b[0m\u001b[0mcell_type\u001b[0m\u001b[0;34m[\u001b[0m\u001b[0;34m:\u001b[0m\u001b[0;36m100\u001b[0m\u001b[0;34m]\u001b[0m\u001b[0;34m.\u001b[0m\u001b[0mvalue_counts\u001b[0m\u001b[0;34m(\u001b[0m\u001b[0;34m)\u001b[0m\u001b[0;34m\u001b[0m\u001b[0;34m\u001b[0m\u001b[0m\n\u001b[0m",
      "\u001b[0;31mNameError\u001b[0m: name 'scl' is not defined"
     ]
    }
   ],
   "source": [
    "# Look at cell type composition of top 100 contributing cells\n",
    "scl.sort_values('score_campp',ascending=False).cell_type[:100].value_counts()"
   ]
  },
  {
   "cell_type": "code",
   "execution_count": 93,
   "id": "e09a3d19-cedb-4a48-a76d-48f52f1c332d",
   "metadata": {},
   "outputs": [
    {
     "data": {
      "text/plain": [
       "vasculature                   42\n",
       "CD4+ T cells CD45RO+          40\n",
       "B cells                       28\n",
       "stroma                        26\n",
       "CD8+ T cells                  26\n",
       "granulocytes                  17\n",
       "CD68+CD163+ macrophages       16\n",
       "dirt                          15\n",
       "CD4+ T cells                  11\n",
       "tumor cells                    7\n",
       "Tregs                          5\n",
       "plasma cells                   4\n",
       "adipocytes                     1\n",
       "immune cells / vasculature     1\n",
       "CD11b+CD68+ macrophages        1\n",
       "smooth muscle                  1\n",
       "undefined                      1\n",
       "Name: cell_type, dtype: int64"
      ]
     },
     "execution_count": 93,
     "metadata": {},
     "output_type": "execute_result"
    }
   ],
   "source": [
    "scl.sort_values('score_cam',ascending=False).cell_type.loc[:100].value_counts()"
   ]
  },
  {
   "cell_type": "code",
   "execution_count": 94,
   "id": "5072212c-89a7-4c03-9c27-6dbb9a25714c",
   "metadata": {},
   "outputs": [],
   "source": [
    "scl = scores_labels[2]"
   ]
  },
  {
   "cell_type": "code",
   "execution_count": 95,
   "id": "026731eb-8b10-4419-9d0e-23dc65da3111",
   "metadata": {},
   "outputs": [
    {
     "data": {
      "text/plain": [
       "{'stage': 4.0}"
      ]
     },
     "execution_count": 95,
     "metadata": {},
     "output_type": "execute_result"
    }
   ],
   "source": [
    "scl.attrs"
   ]
  },
  {
   "cell_type": "code",
   "execution_count": 96,
   "id": "dfca31c7-0211-4cec-80da-4af66be74b2e",
   "metadata": {},
   "outputs": [
    {
     "data": {
      "text/plain": [
       "smooth muscle                 168\n",
       "CD68+CD163+ macrophages        74\n",
       "vasculature                    71\n",
       "CD8+ T cells                   51\n",
       "tumor cells                    51\n",
       "CD4+ T cells CD45RO+           32\n",
       "stroma                         29\n",
       "dirt                           25\n",
       "Tregs                          18\n",
       "granulocytes                   15\n",
       "plasma cells                   14\n",
       "adipocytes                      6\n",
       "undefined                       5\n",
       "tumor cells / immune cells      4\n",
       "CD4+ T cells                    4\n",
       "immune cells / vasculature      4\n",
       "immune cells                    3\n",
       "CD68+ macrophages               2\n",
       "nerves                          2\n",
       "B cells                         1\n",
       "CD11b+CD68+ macrophages         1\n",
       "lymphatics                      1\n",
       "Name: cell_type, dtype: int64"
      ]
     },
     "execution_count": 96,
     "metadata": {},
     "output_type": "execute_result"
    }
   ],
   "source": [
    "scl.sort_values('score_campp',ascending=False).cell_type.loc[:100].value_counts()"
   ]
  },
  {
   "cell_type": "markdown",
   "id": "89618efe-2401-4534-a8fd-dd1592b94cbc",
   "metadata": {},
   "source": [
    "### Hyperparameter optimization"
   ]
  },
  {
   "cell_type": "code",
   "execution_count": 318,
   "id": "cec5274e-720d-4964-b43f-a50ea1a6d39b",
   "metadata": {},
   "outputs": [],
   "source": [
    "all_gnn_params = {\n",
    "    'readout_op': ['concat','none','lstm'],\n",
    "    'layer_type': ['pna_layer'], # also try pna_layer later\n",
    "    # 'hidden_dim': [16,32,64,128],\n",
    "    # 'agg_type': ['mean','min','max'], # also other agg_types\n",
    "    'output_dim': [16,32,64],\n",
    "    'num_layers': [2,3],\n",
    "    'readout_type': ['sum','mean','min','max'], # also sum, max, min\n",
    "    'batch_norm': [True,False],\n",
    "    # 'act': ['relu']\n",
    "}\n",
    "all_classification_params = {\n",
    "    'hidden_dim': [16,32,64,128],\n",
    "    'num_layers': [2,3]\n",
    "}"
   ]
  },
  {
   "cell_type": "code",
   "execution_count": null,
   "id": "aba142fe-5375-4983-a1e1-0035be1b2e9d",
   "metadata": {},
   "outputs": [],
   "source": []
  },
  {
   "cell_type": "code",
   "execution_count": 298,
   "id": "84c8dd45-1393-471a-9a3b-bbe55416834f",
   "metadata": {},
   "outputs": [],
   "source": [
    "def random_params(params):\n",
    "    r = {}\n",
    "    for k,v in params.items():\n",
    "        r[k] = random.choice(v)\n",
    "    return r"
   ]
  },
  {
   "cell_type": "code",
   "execution_count": 307,
   "id": "c2f8e3be-394e-4a65-a77e-101bf7fcb3ac",
   "metadata": {},
   "outputs": [],
   "source": [
    "import pprint\n",
    "pp = pprint.PrettyPrinter()"
   ]
  },
  {
   "cell_type": "code",
   "execution_count": 308,
   "id": "af4b3807-0299-4a3f-a834-7970044a3a1f",
   "metadata": {},
   "outputs": [
    {
     "name": "stdout",
     "output_type": "stream",
     "text": [
      "{'act': 'relu',\n",
      " 'agg_type': 'mean',\n",
      " 'batch_norm': False,\n",
      " 'hidden_dim': 32,\n",
      " 'layer_type': 'gin_layer',\n",
      " 'num_layers': 2,\n",
      " 'output_dim': 32,\n",
      " 'readout_op': 'none',\n",
      " 'readout_type': 'mean'}\n"
     ]
    }
   ],
   "source": [
    "pp.pprint(random_params(all_gnn_params))"
   ]
  },
  {
   "cell_type": "code",
   "execution_count": 319,
   "id": "e03b1f62-6552-46ea-aa65-54ffc333e327",
   "metadata": {},
   "outputs": [
    {
     "name": "stdout",
     "output_type": "stream",
     "text": [
      "GNN params: \n",
      "\n",
      "{'batch_norm': False,\n",
      " 'layer_type': 'pna_layer',\n",
      " 'num_layers': 3,\n",
      " 'output_dim': 32,\n",
      " 'readout_op': 'concat',\n",
      " 'readout_type': 'min'}\n",
      "\n",
      "\n",
      "Classification params: \n",
      "\n",
      "{'hidden_dim': 32, 'num_layers': 2}\n",
      "\n",
      "\n"
     ]
    },
    {
     "name": "stderr",
     "output_type": "stream",
     "text": [
      "Validation with loss=0.54 | accuracy=0.76:   4%| | 2/50 [00:48<19:24, 24.27s/it]\n"
     ]
    },
    {
     "ename": "KeyboardInterrupt",
     "evalue": "",
     "output_type": "error",
     "traceback": [
      "\u001b[0;31m---------------------------------------------------------------------------\u001b[0m",
      "\u001b[0;31mKeyboardInterrupt\u001b[0m                         Traceback (most recent call last)",
      "\u001b[0;32m/tmp/ipykernel_341984/2686769690.py\u001b[0m in \u001b[0;36m<module>\u001b[0;34m\u001b[0m\n\u001b[1;32m     50\u001b[0m \u001b[0;34m\u001b[0m\u001b[0m\n\u001b[1;32m     51\u001b[0m                 \u001b[0;31m# 1. forward pass\u001b[0m\u001b[0;34m\u001b[0m\u001b[0;34m\u001b[0m\u001b[0;34m\u001b[0m\u001b[0m\n\u001b[0;32m---> 52\u001b[0;31m                 \u001b[0mlogits\u001b[0m \u001b[0;34m=\u001b[0m \u001b[0mcgm\u001b[0m\u001b[0;34m(\u001b[0m\u001b[0mgs\u001b[0m\u001b[0;34m)\u001b[0m\u001b[0;34m\u001b[0m\u001b[0;34m\u001b[0m\u001b[0m\n\u001b[0m\u001b[1;32m     53\u001b[0m \u001b[0;34m\u001b[0m\u001b[0m\n\u001b[1;32m     54\u001b[0m                 \u001b[0;31m# 2. backward pass\u001b[0m\u001b[0;34m\u001b[0m\u001b[0;34m\u001b[0m\u001b[0;34m\u001b[0m\u001b[0m\n",
      "\u001b[0;32m~/anaconda3/envs/hactnet/lib/python3.7/site-packages/torch/nn/modules/module.py\u001b[0m in \u001b[0;36m_call_impl\u001b[0;34m(self, *input, **kwargs)\u001b[0m\n\u001b[1;32m   1100\u001b[0m         if not (self._backward_hooks or self._forward_hooks or self._forward_pre_hooks or _global_backward_hooks\n\u001b[1;32m   1101\u001b[0m                 or _global_forward_hooks or _global_forward_pre_hooks):\n\u001b[0;32m-> 1102\u001b[0;31m             \u001b[0;32mreturn\u001b[0m \u001b[0mforward_call\u001b[0m\u001b[0;34m(\u001b[0m\u001b[0;34m*\u001b[0m\u001b[0minput\u001b[0m\u001b[0;34m,\u001b[0m \u001b[0;34m**\u001b[0m\u001b[0mkwargs\u001b[0m\u001b[0;34m)\u001b[0m\u001b[0;34m\u001b[0m\u001b[0;34m\u001b[0m\u001b[0m\n\u001b[0m\u001b[1;32m   1103\u001b[0m         \u001b[0;31m# Do not call functions when jit is used\u001b[0m\u001b[0;34m\u001b[0m\u001b[0;34m\u001b[0m\u001b[0;34m\u001b[0m\u001b[0m\n\u001b[1;32m   1104\u001b[0m         \u001b[0mfull_backward_hooks\u001b[0m\u001b[0;34m,\u001b[0m \u001b[0mnon_full_backward_hooks\u001b[0m \u001b[0;34m=\u001b[0m \u001b[0;34m[\u001b[0m\u001b[0;34m]\u001b[0m\u001b[0;34m,\u001b[0m \u001b[0;34m[\u001b[0m\u001b[0;34m]\u001b[0m\u001b[0;34m\u001b[0m\u001b[0;34m\u001b[0m\u001b[0m\n",
      "\u001b[0;32m~/Dropbox (University of Michigan)/Projects/histocartography/histocartography/ml/models/cell_graph_model.py\u001b[0m in \u001b[0;36mforward\u001b[0;34m(self, graph)\u001b[0m\n\u001b[1;32m    132\u001b[0m         \u001b[0;32mif\u001b[0m \u001b[0misinstance\u001b[0m\u001b[0;34m(\u001b[0m\u001b[0mgraph\u001b[0m\u001b[0;34m,\u001b[0m \u001b[0mdgl\u001b[0m\u001b[0;34m.\u001b[0m\u001b[0mDGLGraph\u001b[0m\u001b[0;34m)\u001b[0m\u001b[0;34m:\u001b[0m\u001b[0;34m\u001b[0m\u001b[0;34m\u001b[0m\u001b[0m\n\u001b[1;32m    133\u001b[0m             \u001b[0mfeats\u001b[0m \u001b[0;34m=\u001b[0m \u001b[0mgraph\u001b[0m\u001b[0;34m.\u001b[0m\u001b[0mndata\u001b[0m\u001b[0;34m[\u001b[0m\u001b[0mGNN_NODE_FEAT_IN\u001b[0m\u001b[0;34m]\u001b[0m\u001b[0;34m\u001b[0m\u001b[0;34m\u001b[0m\u001b[0m\n\u001b[0;32m--> 134\u001b[0;31m             \u001b[0mgraph_embeddings\u001b[0m \u001b[0;34m=\u001b[0m \u001b[0mself\u001b[0m\u001b[0;34m.\u001b[0m\u001b[0mcell_graph_gnn\u001b[0m\u001b[0;34m(\u001b[0m\u001b[0mgraph\u001b[0m\u001b[0;34m,\u001b[0m \u001b[0mfeats\u001b[0m\u001b[0;34m)\u001b[0m\u001b[0;34m\u001b[0m\u001b[0;34m\u001b[0m\u001b[0m\n\u001b[0m\u001b[1;32m    135\u001b[0m         \u001b[0;32melse\u001b[0m\u001b[0;34m:\u001b[0m\u001b[0;34m\u001b[0m\u001b[0;34m\u001b[0m\u001b[0m\n\u001b[1;32m    136\u001b[0m             \u001b[0madj\u001b[0m\u001b[0;34m,\u001b[0m \u001b[0mfeats\u001b[0m \u001b[0;34m=\u001b[0m \u001b[0mgraph\u001b[0m\u001b[0;34m[\u001b[0m\u001b[0;36m0\u001b[0m\u001b[0;34m]\u001b[0m\u001b[0;34m,\u001b[0m \u001b[0mgraph\u001b[0m\u001b[0;34m[\u001b[0m\u001b[0;36m1\u001b[0m\u001b[0;34m]\u001b[0m\u001b[0;34m\u001b[0m\u001b[0;34m\u001b[0m\u001b[0m\n",
      "\u001b[0;32m~/anaconda3/envs/hactnet/lib/python3.7/site-packages/torch/nn/modules/module.py\u001b[0m in \u001b[0;36m_call_impl\u001b[0;34m(self, *input, **kwargs)\u001b[0m\n\u001b[1;32m   1100\u001b[0m         if not (self._backward_hooks or self._forward_hooks or self._forward_pre_hooks or _global_backward_hooks\n\u001b[1;32m   1101\u001b[0m                 or _global_forward_hooks or _global_forward_pre_hooks):\n\u001b[0;32m-> 1102\u001b[0;31m             \u001b[0;32mreturn\u001b[0m \u001b[0mforward_call\u001b[0m\u001b[0;34m(\u001b[0m\u001b[0;34m*\u001b[0m\u001b[0minput\u001b[0m\u001b[0;34m,\u001b[0m \u001b[0;34m**\u001b[0m\u001b[0mkwargs\u001b[0m\u001b[0;34m)\u001b[0m\u001b[0;34m\u001b[0m\u001b[0;34m\u001b[0m\u001b[0m\n\u001b[0m\u001b[1;32m   1103\u001b[0m         \u001b[0;31m# Do not call functions when jit is used\u001b[0m\u001b[0;34m\u001b[0m\u001b[0;34m\u001b[0m\u001b[0;34m\u001b[0m\u001b[0m\n\u001b[1;32m   1104\u001b[0m         \u001b[0mfull_backward_hooks\u001b[0m\u001b[0;34m,\u001b[0m \u001b[0mnon_full_backward_hooks\u001b[0m \u001b[0;34m=\u001b[0m \u001b[0;34m[\u001b[0m\u001b[0;34m]\u001b[0m\u001b[0;34m,\u001b[0m \u001b[0;34m[\u001b[0m\u001b[0;34m]\u001b[0m\u001b[0;34m\u001b[0m\u001b[0;34m\u001b[0m\u001b[0m\n",
      "\u001b[0;32m~/Dropbox (University of Michigan)/Projects/histocartography/histocartography/ml/layers/multi_layer_gnn.py\u001b[0m in \u001b[0;36mforward\u001b[0;34m(self, g, h, with_readout)\u001b[0m\n\u001b[1;32m    108\u001b[0m         \u001b[0mh_concat\u001b[0m \u001b[0;34m=\u001b[0m \u001b[0;34m[\u001b[0m\u001b[0;34m]\u001b[0m\u001b[0;34m\u001b[0m\u001b[0;34m\u001b[0m\u001b[0m\n\u001b[1;32m    109\u001b[0m         \u001b[0;32mfor\u001b[0m \u001b[0mlayer\u001b[0m \u001b[0;32min\u001b[0m \u001b[0mself\u001b[0m\u001b[0;34m.\u001b[0m\u001b[0mlayers\u001b[0m\u001b[0;34m:\u001b[0m\u001b[0;34m\u001b[0m\u001b[0;34m\u001b[0m\u001b[0m\n\u001b[0;32m--> 110\u001b[0;31m             \u001b[0mh\u001b[0m \u001b[0;34m=\u001b[0m \u001b[0mlayer\u001b[0m\u001b[0;34m(\u001b[0m\u001b[0mg\u001b[0m\u001b[0;34m,\u001b[0m \u001b[0mh\u001b[0m\u001b[0;34m)\u001b[0m\u001b[0;34m\u001b[0m\u001b[0;34m\u001b[0m\u001b[0m\n\u001b[0m\u001b[1;32m    111\u001b[0m             \u001b[0mh_concat\u001b[0m\u001b[0;34m.\u001b[0m\u001b[0mappend\u001b[0m\u001b[0;34m(\u001b[0m\u001b[0mh\u001b[0m\u001b[0;34m)\u001b[0m\u001b[0;34m\u001b[0m\u001b[0;34m\u001b[0m\u001b[0m\n\u001b[1;32m    112\u001b[0m \u001b[0;34m\u001b[0m\u001b[0m\n",
      "\u001b[0;32m~/anaconda3/envs/hactnet/lib/python3.7/site-packages/torch/nn/modules/module.py\u001b[0m in \u001b[0;36m_call_impl\u001b[0;34m(self, *input, **kwargs)\u001b[0m\n\u001b[1;32m   1100\u001b[0m         if not (self._backward_hooks or self._forward_hooks or self._forward_pre_hooks or _global_backward_hooks\n\u001b[1;32m   1101\u001b[0m                 or _global_forward_hooks or _global_forward_pre_hooks):\n\u001b[0;32m-> 1102\u001b[0;31m             \u001b[0;32mreturn\u001b[0m \u001b[0mforward_call\u001b[0m\u001b[0;34m(\u001b[0m\u001b[0;34m*\u001b[0m\u001b[0minput\u001b[0m\u001b[0;34m,\u001b[0m \u001b[0;34m**\u001b[0m\u001b[0mkwargs\u001b[0m\u001b[0;34m)\u001b[0m\u001b[0;34m\u001b[0m\u001b[0;34m\u001b[0m\u001b[0m\n\u001b[0m\u001b[1;32m   1103\u001b[0m         \u001b[0;31m# Do not call functions when jit is used\u001b[0m\u001b[0;34m\u001b[0m\u001b[0;34m\u001b[0m\u001b[0;34m\u001b[0m\u001b[0m\n\u001b[1;32m   1104\u001b[0m         \u001b[0mfull_backward_hooks\u001b[0m\u001b[0;34m,\u001b[0m \u001b[0mnon_full_backward_hooks\u001b[0m \u001b[0;34m=\u001b[0m \u001b[0;34m[\u001b[0m\u001b[0;34m]\u001b[0m\u001b[0;34m,\u001b[0m \u001b[0;34m[\u001b[0m\u001b[0;34m]\u001b[0m\u001b[0;34m\u001b[0m\u001b[0;34m\u001b[0m\u001b[0m\n",
      "\u001b[0;32m~/Dropbox (University of Michigan)/Projects/histocartography/histocartography/ml/layers/pna_layer.py\u001b[0m in \u001b[0;36mforward\u001b[0;34m(self, g, h)\u001b[0m\n\u001b[1;32m    106\u001b[0m             h_cat = torch.cat(\n\u001b[1;32m    107\u001b[0m                 [tower(g, h[:, n_tower * self.input_tower: (n_tower + 1) * self.input_tower])\n\u001b[0;32m--> 108\u001b[0;31m                  for n_tower, tower in enumerate(self.towers)], dim=1)\n\u001b[0m\u001b[1;32m    109\u001b[0m         \u001b[0;32melse\u001b[0m\u001b[0;34m:\u001b[0m\u001b[0;34m\u001b[0m\u001b[0;34m\u001b[0m\u001b[0m\n\u001b[1;32m    110\u001b[0m             \u001b[0mh_cat\u001b[0m \u001b[0;34m=\u001b[0m \u001b[0mtorch\u001b[0m\u001b[0;34m.\u001b[0m\u001b[0mcat\u001b[0m\u001b[0;34m(\u001b[0m\u001b[0;34m[\u001b[0m\u001b[0mtower\u001b[0m\u001b[0;34m(\u001b[0m\u001b[0mg\u001b[0m\u001b[0;34m,\u001b[0m \u001b[0mh\u001b[0m\u001b[0;34m)\u001b[0m \u001b[0;32mfor\u001b[0m \u001b[0mtower\u001b[0m \u001b[0;32min\u001b[0m \u001b[0mself\u001b[0m\u001b[0;34m.\u001b[0m\u001b[0mtowers\u001b[0m\u001b[0;34m]\u001b[0m\u001b[0;34m,\u001b[0m \u001b[0mdim\u001b[0m\u001b[0;34m=\u001b[0m\u001b[0;36m1\u001b[0m\u001b[0;34m)\u001b[0m\u001b[0;34m\u001b[0m\u001b[0;34m\u001b[0m\u001b[0m\n",
      "\u001b[0;32m~/Dropbox (University of Michigan)/Projects/histocartography/histocartography/ml/layers/pna_layer.py\u001b[0m in \u001b[0;36m<listcomp>\u001b[0;34m(.0)\u001b[0m\n\u001b[1;32m    106\u001b[0m             h_cat = torch.cat(\n\u001b[1;32m    107\u001b[0m                 [tower(g, h[:, n_tower * self.input_tower: (n_tower + 1) * self.input_tower])\n\u001b[0;32m--> 108\u001b[0;31m                  for n_tower, tower in enumerate(self.towers)], dim=1)\n\u001b[0m\u001b[1;32m    109\u001b[0m         \u001b[0;32melse\u001b[0m\u001b[0;34m:\u001b[0m\u001b[0;34m\u001b[0m\u001b[0;34m\u001b[0m\u001b[0m\n\u001b[1;32m    110\u001b[0m             \u001b[0mh_cat\u001b[0m \u001b[0;34m=\u001b[0m \u001b[0mtorch\u001b[0m\u001b[0;34m.\u001b[0m\u001b[0mcat\u001b[0m\u001b[0;34m(\u001b[0m\u001b[0;34m[\u001b[0m\u001b[0mtower\u001b[0m\u001b[0;34m(\u001b[0m\u001b[0mg\u001b[0m\u001b[0;34m,\u001b[0m \u001b[0mh\u001b[0m\u001b[0;34m)\u001b[0m \u001b[0;32mfor\u001b[0m \u001b[0mtower\u001b[0m \u001b[0;32min\u001b[0m \u001b[0mself\u001b[0m\u001b[0;34m.\u001b[0m\u001b[0mtowers\u001b[0m\u001b[0;34m]\u001b[0m\u001b[0;34m,\u001b[0m \u001b[0mdim\u001b[0m\u001b[0;34m=\u001b[0m\u001b[0;36m1\u001b[0m\u001b[0;34m)\u001b[0m\u001b[0;34m\u001b[0m\u001b[0;34m\u001b[0m\u001b[0m\n",
      "\u001b[0;32m~/anaconda3/envs/hactnet/lib/python3.7/site-packages/torch/nn/modules/module.py\u001b[0m in \u001b[0;36m_call_impl\u001b[0;34m(self, *input, **kwargs)\u001b[0m\n\u001b[1;32m   1100\u001b[0m         if not (self._backward_hooks or self._forward_hooks or self._forward_pre_hooks or _global_backward_hooks\n\u001b[1;32m   1101\u001b[0m                 or _global_forward_hooks or _global_forward_pre_hooks):\n\u001b[0;32m-> 1102\u001b[0;31m             \u001b[0;32mreturn\u001b[0m \u001b[0mforward_call\u001b[0m\u001b[0;34m(\u001b[0m\u001b[0;34m*\u001b[0m\u001b[0minput\u001b[0m\u001b[0;34m,\u001b[0m \u001b[0;34m**\u001b[0m\u001b[0mkwargs\u001b[0m\u001b[0;34m)\u001b[0m\u001b[0;34m\u001b[0m\u001b[0;34m\u001b[0m\u001b[0m\n\u001b[0m\u001b[1;32m   1103\u001b[0m         \u001b[0;31m# Do not call functions when jit is used\u001b[0m\u001b[0;34m\u001b[0m\u001b[0;34m\u001b[0m\u001b[0;34m\u001b[0m\u001b[0m\n\u001b[1;32m   1104\u001b[0m         \u001b[0mfull_backward_hooks\u001b[0m\u001b[0;34m,\u001b[0m \u001b[0mnon_full_backward_hooks\u001b[0m \u001b[0;34m=\u001b[0m \u001b[0;34m[\u001b[0m\u001b[0;34m]\u001b[0m\u001b[0;34m,\u001b[0m \u001b[0;34m[\u001b[0m\u001b[0;34m]\u001b[0m\u001b[0;34m\u001b[0m\u001b[0;34m\u001b[0m\u001b[0m\n",
      "\u001b[0;32m~/Dropbox (University of Michigan)/Projects/histocartography/histocartography/ml/layers/pna_layer.py\u001b[0m in \u001b[0;36mforward\u001b[0;34m(self, g, h)\u001b[0m\n\u001b[1;32m    198\u001b[0m \u001b[0;34m\u001b[0m\u001b[0m\n\u001b[1;32m    199\u001b[0m         \u001b[0;31m# aggregation\u001b[0m\u001b[0;34m\u001b[0m\u001b[0;34m\u001b[0m\u001b[0;34m\u001b[0m\u001b[0m\n\u001b[0;32m--> 200\u001b[0;31m         \u001b[0mg\u001b[0m\u001b[0;34m.\u001b[0m\u001b[0mupdate_all\u001b[0m\u001b[0;34m(\u001b[0m\u001b[0mself\u001b[0m\u001b[0;34m.\u001b[0m\u001b[0mmessage_func\u001b[0m\u001b[0;34m,\u001b[0m \u001b[0mself\u001b[0m\u001b[0;34m.\u001b[0m\u001b[0mreduce_func\u001b[0m\u001b[0;34m)\u001b[0m\u001b[0;34m\u001b[0m\u001b[0;34m\u001b[0m\u001b[0m\n\u001b[0m\u001b[1;32m    201\u001b[0m         \u001b[0mh\u001b[0m \u001b[0;34m=\u001b[0m \u001b[0mtorch\u001b[0m\u001b[0;34m.\u001b[0m\u001b[0mcat\u001b[0m\u001b[0;34m(\u001b[0m\u001b[0;34m[\u001b[0m\u001b[0mh\u001b[0m\u001b[0;34m,\u001b[0m \u001b[0mg\u001b[0m\u001b[0;34m.\u001b[0m\u001b[0mndata\u001b[0m\u001b[0;34m[\u001b[0m\u001b[0mGNN_NODE_FEAT_IN\u001b[0m\u001b[0;34m]\u001b[0m\u001b[0;34m]\u001b[0m\u001b[0;34m,\u001b[0m \u001b[0mdim\u001b[0m\u001b[0;34m=\u001b[0m\u001b[0;36m1\u001b[0m\u001b[0;34m)\u001b[0m\u001b[0;34m\u001b[0m\u001b[0;34m\u001b[0m\u001b[0m\n\u001b[1;32m    202\u001b[0m \u001b[0;34m\u001b[0m\u001b[0m\n",
      "\u001b[0;32m~/anaconda3/envs/hactnet/lib/python3.7/site-packages/dgl/graph.py\u001b[0m in \u001b[0;36mupdate_all\u001b[0;34m(self, message_func, reduce_func, apply_node_func)\u001b[0m\n\u001b[1;32m   3235\u001b[0m                                           \u001b[0mmessage_func\u001b[0m\u001b[0;34m=\u001b[0m\u001b[0mmessage_func\u001b[0m\u001b[0;34m,\u001b[0m\u001b[0;34m\u001b[0m\u001b[0;34m\u001b[0m\u001b[0m\n\u001b[1;32m   3236\u001b[0m                                           \u001b[0mreduce_func\u001b[0m\u001b[0;34m=\u001b[0m\u001b[0mreduce_func\u001b[0m\u001b[0;34m,\u001b[0m\u001b[0;34m\u001b[0m\u001b[0;34m\u001b[0m\u001b[0m\n\u001b[0;32m-> 3237\u001b[0;31m                                           apply_func=apply_node_func)\n\u001b[0m\u001b[1;32m   3238\u001b[0m             \u001b[0mRuntime\u001b[0m\u001b[0;34m.\u001b[0m\u001b[0mrun\u001b[0m\u001b[0;34m(\u001b[0m\u001b[0mprog\u001b[0m\u001b[0;34m)\u001b[0m\u001b[0;34m\u001b[0m\u001b[0;34m\u001b[0m\u001b[0m\n\u001b[1;32m   3239\u001b[0m \u001b[0;34m\u001b[0m\u001b[0m\n",
      "\u001b[0;32m~/anaconda3/envs/hactnet/lib/python3.7/site-packages/dgl/runtime/scheduler.py\u001b[0m in \u001b[0;36mschedule_update_all\u001b[0;34m(graph, message_func, reduce_func, apply_func, outframe)\u001b[0m\n\u001b[1;32m    245\u001b[0m                                         \u001b[0madj_creator\u001b[0m\u001b[0;34m=\u001b[0m\u001b[0madj_creator\u001b[0m\u001b[0;34m,\u001b[0m\u001b[0;34m\u001b[0m\u001b[0;34m\u001b[0m\u001b[0m\n\u001b[1;32m    246\u001b[0m                                         \u001b[0mout_map_creator\u001b[0m\u001b[0;34m=\u001b[0m\u001b[0mout_map_creator\u001b[0m\u001b[0;34m,\u001b[0m\u001b[0;34m\u001b[0m\u001b[0;34m\u001b[0m\u001b[0m\n\u001b[0;32m--> 247\u001b[0;31m                                         canonical_etype=graph.canonical_etype)\n\u001b[0m\u001b[1;32m    248\u001b[0m         \u001b[0;31m# generate optional apply\u001b[0m\u001b[0;34m\u001b[0m\u001b[0;34m\u001b[0m\u001b[0;34m\u001b[0m\u001b[0m\n\u001b[1;32m    249\u001b[0m         final_feat = _apply_with_accum(var_recv_nodes, var_dst_nf,\n",
      "\u001b[0;32m~/anaconda3/envs/hactnet/lib/python3.7/site-packages/dgl/runtime/scheduler.py\u001b[0m in \u001b[0;36m_gen_send_reduce\u001b[0;34m(src_node_frame, dst_node_frame, edge_frame, message_func, reduce_func, var_send_edges, var_reduce_nodes, uv_getter, adj_creator, out_map_creator, canonical_etype)\u001b[0m\n\u001b[1;32m    957\u001b[0m         db.gen_degree_bucketing_schedule(rfunc, mid, var_v.data,\n\u001b[1;32m    958\u001b[0m                                          \u001b[0mreduce_nodes\u001b[0m\u001b[0;34m,\u001b[0m \u001b[0mvar_dst_nf\u001b[0m\u001b[0;34m,\u001b[0m \u001b[0mvar_mf\u001b[0m\u001b[0;34m,\u001b[0m\u001b[0;34m\u001b[0m\u001b[0;34m\u001b[0m\u001b[0m\n\u001b[0;32m--> 959\u001b[0;31m                                          var_out, ntype=canonical_etype[-1])\n\u001b[0m\u001b[1;32m    960\u001b[0m         \u001b[0;32mreturn\u001b[0m \u001b[0mvar_out\u001b[0m\u001b[0;34m\u001b[0m\u001b[0;34m\u001b[0m\u001b[0m\n\u001b[1;32m    961\u001b[0m \u001b[0;34m\u001b[0m\u001b[0m\n",
      "\u001b[0;32m~/anaconda3/envs/hactnet/lib/python3.7/site-packages/dgl/runtime/degree_bucketing.py\u001b[0m in \u001b[0;36mgen_degree_bucketing_schedule\u001b[0;34m(reduce_udf, message_ids, dst_nodes, recv_nodes, var_nf, var_mf, var_out, ntype)\u001b[0m\n\u001b[1;32m     50\u001b[0m         \u001b[0mIf\u001b[0m \u001b[0;32mNone\u001b[0m\u001b[0;34m,\u001b[0m \u001b[0massuming\u001b[0m \u001b[0mit\u001b[0m\u001b[0;31m'\u001b[0m\u001b[0ms\u001b[0m \u001b[0mrunning\u001b[0m \u001b[0mon\u001b[0m \u001b[0ma\u001b[0m \u001b[0mhomogeneous\u001b[0m \u001b[0mgraph\u001b[0m\u001b[0;34m.\u001b[0m\u001b[0;34m\u001b[0m\u001b[0;34m\u001b[0m\u001b[0m\n\u001b[1;32m     51\u001b[0m     \"\"\"\n\u001b[0;32m---> 52\u001b[0;31m     \u001b[0mbuckets\u001b[0m \u001b[0;34m=\u001b[0m \u001b[0m_degree_bucketing_schedule\u001b[0m\u001b[0;34m(\u001b[0m\u001b[0mmessage_ids\u001b[0m\u001b[0;34m,\u001b[0m \u001b[0mdst_nodes\u001b[0m\u001b[0;34m,\u001b[0m \u001b[0mrecv_nodes\u001b[0m\u001b[0;34m)\u001b[0m\u001b[0;34m\u001b[0m\u001b[0;34m\u001b[0m\u001b[0m\n\u001b[0m\u001b[1;32m     53\u001b[0m     \u001b[0;31m# generate schedule\u001b[0m\u001b[0;34m\u001b[0m\u001b[0;34m\u001b[0m\u001b[0;34m\u001b[0m\u001b[0m\n\u001b[1;32m     54\u001b[0m     \u001b[0m_\u001b[0m\u001b[0;34m,\u001b[0m \u001b[0mdegs\u001b[0m\u001b[0;34m,\u001b[0m \u001b[0mbuckets\u001b[0m\u001b[0;34m,\u001b[0m \u001b[0mmsg_ids\u001b[0m\u001b[0;34m,\u001b[0m \u001b[0mzero_deg_nodes\u001b[0m \u001b[0;34m=\u001b[0m \u001b[0mbuckets\u001b[0m\u001b[0;34m\u001b[0m\u001b[0;34m\u001b[0m\u001b[0m\n",
      "\u001b[0;32m~/anaconda3/envs/hactnet/lib/python3.7/site-packages/dgl/runtime/degree_bucketing.py\u001b[0m in \u001b[0;36m_degree_bucketing_schedule\u001b[0;34m(mids, dsts, v)\u001b[0m\n\u001b[1;32m     98\u001b[0m     \"\"\"\n\u001b[1;32m     99\u001b[0m     buckets = _CAPI_DGLDegreeBucketing(mids.todgltensor(), dsts.todgltensor(),\n\u001b[0;32m--> 100\u001b[0;31m                                        v.todgltensor())\n\u001b[0m\u001b[1;32m    101\u001b[0m     \u001b[0;32mreturn\u001b[0m \u001b[0m_process_node_buckets\u001b[0m\u001b[0;34m(\u001b[0m\u001b[0mbuckets\u001b[0m\u001b[0;34m)\u001b[0m\u001b[0;34m\u001b[0m\u001b[0;34m\u001b[0m\u001b[0m\n\u001b[1;32m    102\u001b[0m \u001b[0;34m\u001b[0m\u001b[0m\n",
      "\u001b[0;31mKeyboardInterrupt\u001b[0m: "
     ]
    }
   ],
   "source": [
    "import random\n",
    "import pprint\n",
    "JOBS = 10\n",
    "val_accuracies = []\n",
    "NUM_EPOCHS = 50\n",
    "num_jobs = 0\n",
    "\n",
    "while num_jobs < JOBS:\n",
    "    \n",
    "    params_already_tested = True\n",
    "    while params_already_tested:\n",
    "        already_gnn_params = [d['gnn_params'] for d in val_accuracies]\n",
    "        already_class_params = [d['classification_params'] for d in val_accuracies]\n",
    "        gnn_params = random_params(all_gnn_params)\n",
    "        classification_params = random_params(all_classification_params)\n",
    "        params_already_tested = gnn_params in already_gnn_params or classification_params in already_class_params\n",
    "        \n",
    "    print('GNN params: \\n')\n",
    "    pp.pprint(gnn_params)\n",
    "    print('\\n')\n",
    "    print('Classification params: \\n')\n",
    "    pp.pprint(classification_params)\n",
    "    print('\\n')\n",
    "    \n",
    "    # try:\n",
    "    cgm = CellGraphModel(gnn_params,classification_params,node_dim,num_classes = 2)\n",
    "    # except:\n",
    "    #     # print('Parameter selection inconsistent. Trying new combination...')\n",
    "    #     continue\n",
    "    # build optimizer\n",
    "    optimizer = torch.optim.Adam(\n",
    "        cgm.parameters(),\n",
    "        lr=10e-3,\n",
    "        weight_decay=5e-4\n",
    "    )\n",
    "\n",
    "    # define loss function\n",
    "    loss_fn = torch.nn.CrossEntropyLoss()\n",
    "\n",
    "    # training \n",
    "    val_loss = 10e5\n",
    "    val_accuracy = 0.\n",
    "\n",
    "    with trange(NUM_EPOCHS) as t:\n",
    "        for epoch in t:\n",
    "            t.set_description('Validation with loss={} | accuracy={}'.format(val_loss, val_accuracy))\n",
    "            # A.) train for 1 epoch \n",
    "            cgm.train()\n",
    "            for gs, ls in train_dataloader:\n",
    "\n",
    "                # 1. forward pass\n",
    "                logits = cgm(gs)\n",
    "\n",
    "                # 2. backward pass\n",
    "                loss = loss_fn(logits, ls)\n",
    "                optimizer.zero_grad()\n",
    "                loss.backward()\n",
    "                optimizer.step()\n",
    "\n",
    "            cgm.eval()\n",
    "            all_val_logits = []\n",
    "            all_val_labels = []\n",
    "            for gs, ls in val_dataloader:\n",
    "                with torch.no_grad():\n",
    "                    logits = cgm(gs)\n",
    "                all_val_logits.append(logits)\n",
    "                all_val_labels.append(ls)\n",
    "\n",
    "            all_val_logits = torch.cat(all_val_logits).cpu()\n",
    "            all_val_labels = torch.cat(all_val_labels).cpu()\n",
    "\n",
    "            with torch.no_grad():\n",
    "                val_loss = round(loss_fn(all_val_logits, all_val_labels).item(), 2)\n",
    "                _, predictions = torch.max(all_val_logits, dim=1)\n",
    "                correct = torch.sum(predictions.to(int) == all_val_labels.to(int))\n",
    "                val_accuracy = round(correct.item() * 1.0 / len(all_val_labels), 2)\n",
    "    val_accuracies.append({\n",
    "        'model': copy.deepcopy(cgm),\n",
    "        'gnn_params': copy.deepcopy(gnn_params),\n",
    "        'classification_params': copy.deepcopy(classification_params),\n",
    "        'total_accuracy': copy.deepcopy(val_accuracy)\n",
    "    })\n",
    "    num_jobs += 1"
   ]
  },
  {
   "cell_type": "code",
   "execution_count": null,
   "id": "a5628388-316a-482c-ba58-ae6d9976360e",
   "metadata": {},
   "outputs": [],
   "source": []
  }
 ],
 "metadata": {
  "kernelspec": {
   "display_name": "Python 3 (ipykernel)",
   "language": "python",
   "name": "python3"
  },
  "language_info": {
   "codemirror_mode": {
    "name": "ipython",
    "version": 3
   },
   "file_extension": ".py",
   "mimetype": "text/x-python",
   "name": "python",
   "nbconvert_exporter": "python",
   "pygments_lexer": "ipython3",
   "version": "3.9.7"
  }
 },
 "nbformat": 4,
 "nbformat_minor": 5
}
