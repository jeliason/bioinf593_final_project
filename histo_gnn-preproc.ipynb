{
 "cells": [
  {
   "cell_type": "code",
   "execution_count": 1,
   "id": "b4c15e7b-414f-4f0e-b42c-48ce0179d71f",
   "metadata": {},
   "outputs": [
    {
     "name": "stderr",
     "output_type": "stream",
     "text": [
      "Using backend: pytorch\n"
     ]
    },
    {
     "ename": "Exception",
     "evalue": "Detected an old version of PyTorch. Please update torch>=1.5.0 for the best experience.",
     "output_type": "error",
     "traceback": [
      "\u001b[0;31m---------------------------------------------------------------------------\u001b[0m",
      "\u001b[0;31mException\u001b[0m                                 Traceback (most recent call last)",
      "\u001b[0;32m/tmp/ipykernel_318956/635786099.py\u001b[0m in \u001b[0;36m<module>\u001b[0;34m\u001b[0m\n\u001b[0;32m----> 1\u001b[0;31m \u001b[0;32mimport\u001b[0m \u001b[0mdgl\u001b[0m\u001b[0;34m\u001b[0m\u001b[0;34m\u001b[0m\u001b[0m\n\u001b[0m\u001b[1;32m      2\u001b[0m \u001b[0;32mfrom\u001b[0m \u001b[0msklearn\u001b[0m\u001b[0;34m.\u001b[0m\u001b[0mneighbors\u001b[0m \u001b[0;32mimport\u001b[0m \u001b[0mkneighbors_graph\u001b[0m\u001b[0;34m\u001b[0m\u001b[0;34m\u001b[0m\u001b[0m\n\u001b[1;32m      3\u001b[0m \u001b[0;32mimport\u001b[0m \u001b[0mnumpy\u001b[0m \u001b[0;32mas\u001b[0m \u001b[0mnp\u001b[0m\u001b[0;34m\u001b[0m\u001b[0;34m\u001b[0m\u001b[0m\n\u001b[1;32m      4\u001b[0m \u001b[0;32mimport\u001b[0m \u001b[0mpandas\u001b[0m \u001b[0;32mas\u001b[0m \u001b[0mpd\u001b[0m\u001b[0;34m\u001b[0m\u001b[0;34m\u001b[0m\u001b[0m\n\u001b[1;32m      5\u001b[0m \u001b[0;32mimport\u001b[0m \u001b[0mtorch\u001b[0m\u001b[0;34m\u001b[0m\u001b[0;34m\u001b[0m\u001b[0m\n",
      "\u001b[0;32m~/anaconda3/envs/hactnet/lib/python3.7/site-packages/dgl/__init__.py\u001b[0m in \u001b[0;36m<module>\u001b[0;34m\u001b[0m\n\u001b[1;32m     11\u001b[0m \u001b[0;34m\u001b[0m\u001b[0m\n\u001b[1;32m     12\u001b[0m \u001b[0;31m# Should import backend before importing anything else\u001b[0m\u001b[0;34m\u001b[0m\u001b[0;34m\u001b[0m\u001b[0;34m\u001b[0m\u001b[0m\n\u001b[0;32m---> 13\u001b[0;31m \u001b[0;32mfrom\u001b[0m \u001b[0;34m.\u001b[0m\u001b[0mbackend\u001b[0m \u001b[0;32mimport\u001b[0m \u001b[0mload_backend\u001b[0m\u001b[0;34m,\u001b[0m \u001b[0mbackend_name\u001b[0m\u001b[0;34m\u001b[0m\u001b[0;34m\u001b[0m\u001b[0m\n\u001b[0m\u001b[1;32m     14\u001b[0m \u001b[0;34m\u001b[0m\u001b[0m\n\u001b[1;32m     15\u001b[0m \u001b[0;32mfrom\u001b[0m \u001b[0;34m.\u001b[0m \u001b[0;32mimport\u001b[0m \u001b[0mfunction\u001b[0m\u001b[0;34m\u001b[0m\u001b[0;34m\u001b[0m\u001b[0m\n",
      "\u001b[0;32m~/anaconda3/envs/hactnet/lib/python3.7/site-packages/dgl/backend/__init__.py\u001b[0m in \u001b[0;36m<module>\u001b[0;34m\u001b[0m\n\u001b[1;32m     93\u001b[0m \u001b[0;34m\u001b[0m\u001b[0m\n\u001b[1;32m     94\u001b[0m \u001b[0;34m\u001b[0m\u001b[0m\n\u001b[0;32m---> 95\u001b[0;31m \u001b[0mload_backend\u001b[0m\u001b[0;34m(\u001b[0m\u001b[0mget_preferred_backend\u001b[0m\u001b[0;34m(\u001b[0m\u001b[0;34m)\u001b[0m\u001b[0;34m)\u001b[0m\u001b[0;34m\u001b[0m\u001b[0;34m\u001b[0m\u001b[0m\n\u001b[0m\u001b[1;32m     96\u001b[0m \u001b[0;34m\u001b[0m\u001b[0m\n\u001b[1;32m     97\u001b[0m \u001b[0;34m\u001b[0m\u001b[0m\n",
      "\u001b[0;32m~/anaconda3/envs/hactnet/lib/python3.7/site-packages/dgl/backend/__init__.py\u001b[0m in \u001b[0;36mload_backend\u001b[0;34m(mod_name)\u001b[0m\n\u001b[1;32m     44\u001b[0m \u001b[0;34m\u001b[0m\u001b[0m\n\u001b[1;32m     45\u001b[0m     \u001b[0mprint\u001b[0m\u001b[0;34m(\u001b[0m\u001b[0;34m'Using backend: %s'\u001b[0m \u001b[0;34m%\u001b[0m \u001b[0mmod_name\u001b[0m\u001b[0;34m,\u001b[0m \u001b[0mfile\u001b[0m\u001b[0;34m=\u001b[0m\u001b[0msys\u001b[0m\u001b[0;34m.\u001b[0m\u001b[0mstderr\u001b[0m\u001b[0;34m)\u001b[0m\u001b[0;34m\u001b[0m\u001b[0;34m\u001b[0m\u001b[0m\n\u001b[0;32m---> 46\u001b[0;31m     \u001b[0mmod\u001b[0m \u001b[0;34m=\u001b[0m \u001b[0mimportlib\u001b[0m\u001b[0;34m.\u001b[0m\u001b[0mimport_module\u001b[0m\u001b[0;34m(\u001b[0m\u001b[0;34m'.%s'\u001b[0m \u001b[0;34m%\u001b[0m \u001b[0mmod_name\u001b[0m\u001b[0;34m,\u001b[0m \u001b[0m__name__\u001b[0m\u001b[0;34m)\u001b[0m\u001b[0;34m\u001b[0m\u001b[0;34m\u001b[0m\u001b[0m\n\u001b[0m\u001b[1;32m     47\u001b[0m     \u001b[0mthismod\u001b[0m \u001b[0;34m=\u001b[0m \u001b[0msys\u001b[0m\u001b[0;34m.\u001b[0m\u001b[0mmodules\u001b[0m\u001b[0;34m[\u001b[0m\u001b[0m__name__\u001b[0m\u001b[0;34m]\u001b[0m\u001b[0;34m\u001b[0m\u001b[0;34m\u001b[0m\u001b[0m\n\u001b[1;32m     48\u001b[0m     \u001b[0;32mfor\u001b[0m \u001b[0mapi\u001b[0m \u001b[0;32min\u001b[0m \u001b[0mbackend\u001b[0m\u001b[0;34m.\u001b[0m\u001b[0m__dict__\u001b[0m\u001b[0;34m.\u001b[0m\u001b[0mkeys\u001b[0m\u001b[0;34m(\u001b[0m\u001b[0;34m)\u001b[0m\u001b[0;34m:\u001b[0m\u001b[0;34m\u001b[0m\u001b[0;34m\u001b[0m\u001b[0m\n",
      "\u001b[0;32m~/anaconda3/envs/hactnet/lib/python3.7/importlib/__init__.py\u001b[0m in \u001b[0;36mimport_module\u001b[0;34m(name, package)\u001b[0m\n\u001b[1;32m    125\u001b[0m                 \u001b[0;32mbreak\u001b[0m\u001b[0;34m\u001b[0m\u001b[0;34m\u001b[0m\u001b[0m\n\u001b[1;32m    126\u001b[0m             \u001b[0mlevel\u001b[0m \u001b[0;34m+=\u001b[0m \u001b[0;36m1\u001b[0m\u001b[0;34m\u001b[0m\u001b[0;34m\u001b[0m\u001b[0m\n\u001b[0;32m--> 127\u001b[0;31m     \u001b[0;32mreturn\u001b[0m \u001b[0m_bootstrap\u001b[0m\u001b[0;34m.\u001b[0m\u001b[0m_gcd_import\u001b[0m\u001b[0;34m(\u001b[0m\u001b[0mname\u001b[0m\u001b[0;34m[\u001b[0m\u001b[0mlevel\u001b[0m\u001b[0;34m:\u001b[0m\u001b[0;34m]\u001b[0m\u001b[0;34m,\u001b[0m \u001b[0mpackage\u001b[0m\u001b[0;34m,\u001b[0m \u001b[0mlevel\u001b[0m\u001b[0;34m)\u001b[0m\u001b[0;34m\u001b[0m\u001b[0;34m\u001b[0m\u001b[0m\n\u001b[0m\u001b[1;32m    128\u001b[0m \u001b[0;34m\u001b[0m\u001b[0m\n\u001b[1;32m    129\u001b[0m \u001b[0;34m\u001b[0m\u001b[0m\n",
      "\u001b[0;32m~/anaconda3/envs/hactnet/lib/python3.7/site-packages/dgl/backend/pytorch/__init__.py\u001b[0m in \u001b[0;36m<module>\u001b[0;34m\u001b[0m\n\u001b[0;32m----> 1\u001b[0;31m \u001b[0;32mfrom\u001b[0m \u001b[0;34m.\u001b[0m\u001b[0mtensor\u001b[0m \u001b[0;32mimport\u001b[0m \u001b[0;34m*\u001b[0m\u001b[0;34m\u001b[0m\u001b[0;34m\u001b[0m\u001b[0m\n\u001b[0m\u001b[1;32m      2\u001b[0m \u001b[0;32mfrom\u001b[0m \u001b[0;34m.\u001b[0m\u001b[0msparse\u001b[0m \u001b[0;32mimport\u001b[0m \u001b[0;34m*\u001b[0m\u001b[0;34m\u001b[0m\u001b[0;34m\u001b[0m\u001b[0m\n",
      "\u001b[0;32m~/anaconda3/envs/hactnet/lib/python3.7/site-packages/dgl/backend/pytorch/tensor.py\u001b[0m in \u001b[0;36m<module>\u001b[0;34m\u001b[0m\n\u001b[1;32m     15\u001b[0m \u001b[0;34m\u001b[0m\u001b[0m\n\u001b[1;32m     16\u001b[0m \u001b[0;32mif\u001b[0m \u001b[0mLooseVersion\u001b[0m\u001b[0;34m(\u001b[0m\u001b[0mth\u001b[0m\u001b[0;34m.\u001b[0m\u001b[0m__version__\u001b[0m\u001b[0;34m)\u001b[0m \u001b[0;34m<\u001b[0m \u001b[0mLooseVersion\u001b[0m\u001b[0;34m(\u001b[0m\u001b[0;34m\"1.5.0\"\u001b[0m\u001b[0;34m)\u001b[0m\u001b[0;34m:\u001b[0m\u001b[0;34m\u001b[0m\u001b[0;34m\u001b[0m\u001b[0m\n\u001b[0;32m---> 17\u001b[0;31m     raise Exception(\"Detected an old version of PyTorch. Please update torch>=1.5.0 \"\n\u001b[0m\u001b[1;32m     18\u001b[0m                     \"for the best experience.\")\n\u001b[1;32m     19\u001b[0m \u001b[0;34m\u001b[0m\u001b[0m\n",
      "\u001b[0;31mException\u001b[0m: Detected an old version of PyTorch. Please update torch>=1.5.0 for the best experience."
     ]
    }
   ],
   "source": [
    "import dgl\n",
    "from sklearn.neighbors import kneighbors_graph\n",
    "import numpy as np\n",
    "import pandas as pd\n",
    "import torch"
   ]
  },
  {
   "cell_type": "code",
   "execution_count": 2,
   "id": "842876d6-8e71-46a7-ad21-fd51b72fedc0",
   "metadata": {},
   "outputs": [],
   "source": [
    "df = pd.read_csv('../data/CRC_master.csv')"
   ]
  },
  {
   "cell_type": "code",
   "execution_count": 122,
   "id": "41f7a2db-b4f5-4386-b8a7-351ce7a60f6c",
   "metadata": {},
   "outputs": [
    {
     "data": {
      "text/plain": [
       "(258385, 83)"
      ]
     },
     "execution_count": 122,
     "metadata": {},
     "output_type": "execute_result"
    }
   ],
   "source": [
    "df.shape"
   ]
  },
  {
   "cell_type": "code",
   "execution_count": 123,
   "id": "2866435c-9f56-4121-ad3d-268e45042d39",
   "metadata": {},
   "outputs": [
    {
     "data": {
      "text/plain": [
       "array(['granulocytes', 'vasculature', 'CD4+ T cells CD45RO+',\n",
       "       'tumor cells', 'stroma', 'CD68+CD163+ macrophages', 'adipocytes',\n",
       "       'plasma cells', 'CD8+ T cells', 'dirt', 'Tregs', 'CD4+ T cells',\n",
       "       'CD11c+ DCs', 'B cells', 'CD11b+CD68+ macrophages',\n",
       "       'smooth muscle', 'undefined', 'tumor cells / immune cells',\n",
       "       'immune cells / vasculature', 'immune cells', 'NK cells', 'nerves',\n",
       "       'CD68+ macrophages GzmB+', 'CD68+ macrophages', 'lymphatics',\n",
       "       'CD11b+ monocytes', 'CD4+ T cells GATA3+', 'CD163+ macrophages',\n",
       "       'CD3+ T cells'], dtype=object)"
      ]
     },
     "execution_count": 123,
     "metadata": {},
     "output_type": "execute_result"
    }
   ],
   "source": [
    "df['ClusterName'].unique()"
   ]
  },
  {
   "cell_type": "code",
   "execution_count": 3,
   "id": "96f36221-61e1-48cb-96c5-f8b0cc482d39",
   "metadata": {},
   "outputs": [
    {
     "data": {
      "text/html": [
       "<div>\n",
       "<style scoped>\n",
       "    .dataframe tbody tr th:only-of-type {\n",
       "        vertical-align: middle;\n",
       "    }\n",
       "\n",
       "    .dataframe tbody tr th {\n",
       "        vertical-align: top;\n",
       "    }\n",
       "\n",
       "    .dataframe thead th {\n",
       "        text-align: right;\n",
       "    }\n",
       "</style>\n",
       "<table border=\"1\" class=\"dataframe\">\n",
       "  <thead>\n",
       "    <tr style=\"text-align: right;\">\n",
       "      <th></th>\n",
       "      <th>Unnamed: 0</th>\n",
       "      <th>CellID</th>\n",
       "      <th>patients</th>\n",
       "      <th>spots</th>\n",
       "      <th>groups</th>\n",
       "      <th>ClusterName</th>\n",
       "      <th>size</th>\n",
       "      <th>CD44 - stroma</th>\n",
       "      <th>FOXP3 - regulatory T cells</th>\n",
       "      <th>CD8 - cytotoxic T cells</th>\n",
       "      <th>...</th>\n",
       "      <th>CD68+PD-1+</th>\n",
       "      <th>CD8+ICOS+</th>\n",
       "      <th>CD8+Ki67+</th>\n",
       "      <th>CD8+PD-1+</th>\n",
       "      <th>Treg-ICOS+</th>\n",
       "      <th>Treg-Ki67+</th>\n",
       "      <th>Treg-PD-1+</th>\n",
       "      <th>X</th>\n",
       "      <th>Y</th>\n",
       "      <th>Z</th>\n",
       "    </tr>\n",
       "  </thead>\n",
       "  <tbody>\n",
       "    <tr>\n",
       "      <th>0</th>\n",
       "      <td>0</td>\n",
       "      <td>0</td>\n",
       "      <td>1</td>\n",
       "      <td>1_A</td>\n",
       "      <td>1</td>\n",
       "      <td>granulocytes</td>\n",
       "      <td>10120</td>\n",
       "      <td>1.843591</td>\n",
       "      <td>17.398706</td>\n",
       "      <td>0.000000</td>\n",
       "      <td>...</td>\n",
       "      <td>0</td>\n",
       "      <td>0</td>\n",
       "      <td>0</td>\n",
       "      <td>0</td>\n",
       "      <td>0</td>\n",
       "      <td>0</td>\n",
       "      <td>0</td>\n",
       "      <td>77</td>\n",
       "      <td>589</td>\n",
       "      <td>10</td>\n",
       "    </tr>\n",
       "    <tr>\n",
       "      <th>1</th>\n",
       "      <td>1</td>\n",
       "      <td>1</td>\n",
       "      <td>1</td>\n",
       "      <td>1_A</td>\n",
       "      <td>1</td>\n",
       "      <td>granulocytes</td>\n",
       "      <td>861</td>\n",
       "      <td>30.284525</td>\n",
       "      <td>18.375738</td>\n",
       "      <td>74.695236</td>\n",
       "      <td>...</td>\n",
       "      <td>0</td>\n",
       "      <td>0</td>\n",
       "      <td>0</td>\n",
       "      <td>0</td>\n",
       "      <td>0</td>\n",
       "      <td>0</td>\n",
       "      <td>0</td>\n",
       "      <td>106</td>\n",
       "      <td>826</td>\n",
       "      <td>10</td>\n",
       "    </tr>\n",
       "    <tr>\n",
       "      <th>2</th>\n",
       "      <td>2</td>\n",
       "      <td>2</td>\n",
       "      <td>1</td>\n",
       "      <td>1_A</td>\n",
       "      <td>1</td>\n",
       "      <td>granulocytes</td>\n",
       "      <td>6206</td>\n",
       "      <td>139.488510</td>\n",
       "      <td>249.746979</td>\n",
       "      <td>85.556976</td>\n",
       "      <td>...</td>\n",
       "      <td>0</td>\n",
       "      <td>0</td>\n",
       "      <td>0</td>\n",
       "      <td>0</td>\n",
       "      <td>0</td>\n",
       "      <td>0</td>\n",
       "      <td>0</td>\n",
       "      <td>107</td>\n",
       "      <td>545</td>\n",
       "      <td>10</td>\n",
       "    </tr>\n",
       "    <tr>\n",
       "      <th>3</th>\n",
       "      <td>3</td>\n",
       "      <td>3</td>\n",
       "      <td>1</td>\n",
       "      <td>1_A</td>\n",
       "      <td>1</td>\n",
       "      <td>granulocytes</td>\n",
       "      <td>6320</td>\n",
       "      <td>20.596886</td>\n",
       "      <td>81.759758</td>\n",
       "      <td>0.000000</td>\n",
       "      <td>...</td>\n",
       "      <td>0</td>\n",
       "      <td>0</td>\n",
       "      <td>0</td>\n",
       "      <td>0</td>\n",
       "      <td>0</td>\n",
       "      <td>0</td>\n",
       "      <td>0</td>\n",
       "      <td>98</td>\n",
       "      <td>564</td>\n",
       "      <td>10</td>\n",
       "    </tr>\n",
       "    <tr>\n",
       "      <th>4</th>\n",
       "      <td>4</td>\n",
       "      <td>4</td>\n",
       "      <td>1</td>\n",
       "      <td>1_A</td>\n",
       "      <td>1</td>\n",
       "      <td>granulocytes</td>\n",
       "      <td>1591</td>\n",
       "      <td>67.328728</td>\n",
       "      <td>122.195473</td>\n",
       "      <td>11.028284</td>\n",
       "      <td>...</td>\n",
       "      <td>0</td>\n",
       "      <td>0</td>\n",
       "      <td>0</td>\n",
       "      <td>0</td>\n",
       "      <td>0</td>\n",
       "      <td>0</td>\n",
       "      <td>0</td>\n",
       "      <td>217</td>\n",
       "      <td>329</td>\n",
       "      <td>10</td>\n",
       "    </tr>\n",
       "  </tbody>\n",
       "</table>\n",
       "<p>5 rows × 83 columns</p>\n",
       "</div>"
      ],
      "text/plain": [
       "   Unnamed: 0  CellID  patients spots  groups   ClusterName   size  \\\n",
       "0           0       0         1   1_A       1  granulocytes  10120   \n",
       "1           1       1         1   1_A       1  granulocytes    861   \n",
       "2           2       2         1   1_A       1  granulocytes   6206   \n",
       "3           3       3         1   1_A       1  granulocytes   6320   \n",
       "4           4       4         1   1_A       1  granulocytes   1591   \n",
       "\n",
       "   CD44 - stroma  FOXP3 - regulatory T cells  CD8 - cytotoxic T cells  ...  \\\n",
       "0       1.843591                   17.398706                 0.000000  ...   \n",
       "1      30.284525                   18.375738                74.695236  ...   \n",
       "2     139.488510                  249.746979                85.556976  ...   \n",
       "3      20.596886                   81.759758                 0.000000  ...   \n",
       "4      67.328728                  122.195473                11.028284  ...   \n",
       "\n",
       "   CD68+PD-1+  CD8+ICOS+  CD8+Ki67+  CD8+PD-1+  Treg-ICOS+  Treg-Ki67+  \\\n",
       "0           0          0          0          0           0           0   \n",
       "1           0          0          0          0           0           0   \n",
       "2           0          0          0          0           0           0   \n",
       "3           0          0          0          0           0           0   \n",
       "4           0          0          0          0           0           0   \n",
       "\n",
       "   Treg-PD-1+    X    Y   Z  \n",
       "0           0   77  589  10  \n",
       "1           0  106  826  10  \n",
       "2           0  107  545  10  \n",
       "3           0   98  564  10  \n",
       "4           0  217  329  10  \n",
       "\n",
       "[5 rows x 83 columns]"
      ]
     },
     "execution_count": 3,
     "metadata": {},
     "output_type": "execute_result"
    }
   ],
   "source": [
    "df.head()"
   ]
  },
  {
   "cell_type": "code",
   "execution_count": 4,
   "id": "b9af0975-50d5-4f81-8eeb-94a10e016a1e",
   "metadata": {},
   "outputs": [],
   "source": [
    "subset = df.loc[df.loc[:,'spots'] == '1_A',:]"
   ]
  },
  {
   "cell_type": "code",
   "execution_count": 5,
   "id": "381ee315-edcb-443d-96b7-2d0fdc33ea5c",
   "metadata": {},
   "outputs": [],
   "source": [
    "features = subset.loc[:,'size':'Treg-PD-1+'].to_numpy()"
   ]
  },
  {
   "cell_type": "code",
   "execution_count": 7,
   "id": "e200caa7-22dd-4428-82d5-3e34200b3c03",
   "metadata": {},
   "outputs": [],
   "source": [
    "centroids = subset.loc[:,'X':'Y'].to_numpy()"
   ]
  },
  {
   "cell_type": "code",
   "execution_count": 8,
   "id": "e08eb733-e6ea-4ef9-a9f6-0d18cf5cbb31",
   "metadata": {},
   "outputs": [
    {
     "data": {
      "text/plain": [
       "array([[  77,  589],\n",
       "       [ 106,  826],\n",
       "       [ 107,  545],\n",
       "       ...,\n",
       "       [1310,  135],\n",
       "       [1634, 1242],\n",
       "       [1674, 1096]])"
      ]
     },
     "execution_count": 8,
     "metadata": {},
     "output_type": "execute_result"
    }
   ],
   "source": [
    "centroids"
   ]
  },
  {
   "cell_type": "code",
   "execution_count": 19,
   "id": "812f17f5-45da-4a1a-903b-94b0547f9457",
   "metadata": {},
   "outputs": [
    {
     "data": {
      "text/plain": [
       "array(['1_A', '1_B', '2_A', '2_B', '3_A', '3_B', '4_A', '4_B', '5_A',\n",
       "       '5_B', '6_A', '6_B', '7_A', '7_B', '8_A', '8_B', '9_A', '9_B',\n",
       "       '10_A', '10_B', '11_A', '11_B', '12_A', '12_B', '13_A', '13_B',\n",
       "       '14_A', '14_B', '15_A', '15_B', '16_A', '16_B', '17_A', '17_B',\n",
       "       '18_A', '18_B', '19_A', '19_B', '20_A', '20_B', '21_A', '21_B',\n",
       "       '22_A', '22_B', '23_A', '23_B', '24_A', '24_B', '25_A', '25_B',\n",
       "       '26_A', '26_B', '27_A', '27_B', '28_A', '28_B', '29_A', '29_B',\n",
       "       '30_A', '30_B', '31_A', '31_B', '32_A', '32_B', '33_A', '33_B',\n",
       "       '34_A', '34_B', '35_A', '35_B', '36_A', '36_B', '37_A', '37_B',\n",
       "       '38_A', '38_B', '39_A', '39_B', '40_A', '40_B', '41_A', '41_B',\n",
       "       '42_A', '42_B', '43_A', '43_B', '44_A', '44_B', '45_A', '45_B',\n",
       "       '46_A', '46_B', '47_A', '47_B', '48_A', '48_B', '49_A', '49_B',\n",
       "       '50_A', '50_B', '51_A', '51_B', '52_A', '52_B', '53_A', '53_B',\n",
       "       '54_A', '54_B', '55_A', '55_B', '56_A', '56_B', '57_A', '57_B',\n",
       "       '58_A', '58_B', '59_A', '59_B', '60_A', '60_B', '61_A', '61_B',\n",
       "       '62_A', '62_B', '63_A', '63_B', '64_A', '64_B', '65_A', '65_B',\n",
       "       '66_A', '66_B', '67_A', '67_B', '68_A', '68_B', '69_A', '69_B',\n",
       "       '70_A', '70_B'], dtype=object)"
      ]
     },
     "execution_count": 19,
     "metadata": {},
     "output_type": "execute_result"
    }
   ],
   "source": [
    "df['spots'].unique()"
   ]
  },
  {
   "cell_type": "code",
   "execution_count": 21,
   "id": "34463912-829e-468e-8140-ddd75740796c",
   "metadata": {},
   "outputs": [
    {
     "data": {
      "text/plain": [
       "1"
      ]
     },
     "execution_count": 21,
     "metadata": {},
     "output_type": "execute_result"
    }
   ],
   "source": [
    "subset['patients'].unique()[0]"
   ]
  },
  {
   "cell_type": "code",
   "execution_count": 44,
   "id": "08652ae3-38ac-4ee5-a383-e687f7277163",
   "metadata": {},
   "outputs": [
    {
     "name": "stderr",
     "output_type": "stream",
     "text": [
      "/home/joeleliason/anaconda3/envs/hactnet/lib/python3.7/site-packages/ipykernel_launcher.py:1: FutureWarning: Your version of xlrd is 1.2.0. In xlrd >= 2.0, only the xls format is supported. As a result, the openpyxl engine will be used if it is installed and the engine argument is not specified. Install openpyxl instead.\n",
      "  \"\"\"Entry point for launching an IPython kernel.\n"
     ]
    }
   ],
   "source": [
    "pt_data = pd.read_excel('../data/CRC_TMAs_patient_annotations.xlsx')\n",
    "num_pts = 35"
   ]
  },
  {
   "cell_type": "code",
   "execution_count": 27,
   "id": "2da5119e-e0aa-4b02-bccd-43ca465250ca",
   "metadata": {},
   "outputs": [
    {
     "data": {
      "text/plain": [
       "Index(['Patient', 'Group', 'TMA spot / region', 'LA', 'Diffuse', 'LA.1',\n",
       "       'Diffuse.1', 'Klintrup_Makinen', 'CLR_Graham_Appelman', 'Sex', 'Age',\n",
       "       'Full_Histology', 'Full_Tumor_Location', 'Simple_Tumor_Location',\n",
       "       'PreOP_Therapy', 'PostOP_Therapy', 'pT', 'pN', 'pM', 'p_TNM', 'cM',\n",
       "       'cp_TNM_Simple', 'G', 'L', 'V', 'OS', 'OS_Censor', 'DFS', 'DFS_Censor',\n",
       "       'Nbr_Buds_ITBCC', 'Budding grade', 'MLH1', 'PMS2', 'MSH6', 'MSH2',\n",
       "       'MSI_IHC', 'MSI_PCR'],\n",
       "      dtype='object')"
      ]
     },
     "execution_count": 27,
     "metadata": {},
     "output_type": "execute_result"
    }
   ],
   "source": [
    "pt_data.columns"
   ]
  },
  {
   "cell_type": "code",
   "execution_count": 43,
   "id": "64ff54ad-eb5b-4e8d-835d-686941678ed4",
   "metadata": {},
   "outputs": [
    {
     "data": {
      "text/plain": [
       "0     3.0\n",
       "1     3.0\n",
       "2     3.0\n",
       "3     3.0\n",
       "4     3.0\n",
       "5     3.0\n",
       "6     3.0\n",
       "7     4.0\n",
       "8     3.0\n",
       "9     3.0\n",
       "10    3.0\n",
       "11    3.0\n",
       "12    3.0\n",
       "13    4.0\n",
       "14    4.0\n",
       "15    3.0\n",
       "16    3.0\n",
       "17    4.0\n",
       "18    3.0\n",
       "19    4.0\n",
       "20    3.0\n",
       "21    3.0\n",
       "22    3.0\n",
       "23    3.0\n",
       "24    3.0\n",
       "25    3.0\n",
       "26    3.0\n",
       "27    3.0\n",
       "28    3.0\n",
       "29    3.0\n",
       "30    3.0\n",
       "31    4.0\n",
       "32    4.0\n",
       "33    4.0\n",
       "34    3.0\n",
       "35    NaN\n",
       "36    NaN\n",
       "37    NaN\n",
       "38    NaN\n",
       "39    NaN\n",
       "40    NaN\n",
       "41    NaN\n",
       "42    NaN\n",
       "43    NaN\n",
       "44    NaN\n",
       "Name: cp_TNM_Simple, dtype: float64"
      ]
     },
     "execution_count": 43,
     "metadata": {},
     "output_type": "execute_result"
    }
   ],
   "source": [
    "pt_data.loc[:,'cp_TNM_Simple']"
   ]
  },
  {
   "cell_type": "code",
   "execution_count": 22,
   "id": "4f2f6973-510d-451e-85dc-ec1388c11c49",
   "metadata": {},
   "outputs": [],
   "source": [
    "k = 5\n",
    "thresh = 50\n",
    "LABEL = \"label\"\n",
    "CENTROID = \"centroid\"\n",
    "FEATURES = \"feat\"\n",
    "graphs = []\n",
    "patients = []\n",
    "for spot in df['spots'].unique():\n",
    "    subset = df.loc[df.loc[:,'spots'] == spot,:]\n",
    "    features = subset.loc[:,'size':'Treg-PD-1+'].to_numpy() # np.ndarray, shape(n_nodes,n_feats)\n",
    "    centroids = subset.loc[:,'X':'Y'].to_numpy() # np.ndarray, shape(n_nodes,2)\n",
    "    _,annotation = np.unique(subset.loc[:,'ClusterName'].to_numpy(), return_inverse=True) # np.ndarray, shape(n_nodes,)\n",
    "    num_nodes = features.shape[0]\n",
    "    graph = dgl.DGLGraph()\n",
    "    graph.add_nodes(num_nodes)\n",
    "\n",
    "    # add image size as graph data\n",
    "    # image_size = (instance_map.shape[1], instance_map.shape[0])  # (x, y)\n",
    "\n",
    "    # get instance centroids\n",
    "    # centroids = self._get_node_centroids(instance_map)\n",
    "\n",
    "    # add node content\n",
    "    # self._set_node_centroids(centroids, graph)\n",
    "    graph.ndata[CENTROID] = torch.FloatTensor(centroids)\n",
    "    # self._set_node_features(features, image_size, graph)\n",
    "    graph.ndata[FEATURES] = torch.FloatTensor(features)\n",
    "    if annotation is not None:\n",
    "        graph.ndata[LABEL] = torch.FloatTensor(annotation.astype(float))\n",
    "    # build kNN adjacency\n",
    "    adj = kneighbors_graph(\n",
    "        centroids,\n",
    "        k,\n",
    "        mode=\"distance\",\n",
    "        include_self=False,\n",
    "        metric=\"euclidean\").toarray()\n",
    "\n",
    "    # filter edges that are too far (ie larger than thresh)\n",
    "    if thresh is not None:\n",
    "        adj[adj > thresh] = 0\n",
    "\n",
    "    edge_list = np.nonzero(adj)\n",
    "    graph.add_edges(list(edge_list[0]), list(edge_list[1]))\n",
    "    graphs.append(graph)\n",
    "    patients.append(subset['patients'].unique()[0])"
   ]
  },
  {
   "cell_type": "code",
   "execution_count": 49,
   "id": "6b1705d3-ef88-468e-9042-3ea25d1eea4f",
   "metadata": {},
   "outputs": [],
   "source": [
    "targets = []\n",
    "for pt in patients:\n",
    "    cp = pt_data.loc[pt_data.loc[:,'Patient'] == pt,'cp_TNM_Simple'].values[0]\n",
    "    t = 0 if cp == 3.0 else 1\n",
    "    targets.append(t)"
   ]
  },
  {
   "cell_type": "code",
   "execution_count": 53,
   "id": "b89b562c-6006-4bd5-93c8-705729043ef5",
   "metadata": {},
   "outputs": [],
   "source": [
    "data = list(zip(graphs,targets))"
   ]
  },
  {
   "cell_type": "code",
   "execution_count": 55,
   "id": "4ea371bf-cd37-44d9-921e-71d3acdefe5c",
   "metadata": {},
   "outputs": [
    {
     "data": {
      "text/plain": [
       "(DGLGraph(num_nodes=1164, num_edges=4376,\n",
       "          ndata_schemes={'centroid': Scheme(shape=(2,), dtype=torch.float32), 'feat': Scheme(shape=(74,), dtype=torch.float32), 'label': Scheme(shape=(), dtype=torch.float32)}\n",
       "          edata_schemes={}),\n",
       " 0)"
      ]
     },
     "execution_count": 55,
     "metadata": {},
     "output_type": "execute_result"
    }
   ],
   "source": [
    "data[0]"
   ]
  },
  {
   "cell_type": "code",
   "execution_count": 56,
   "id": "72fa0bb3-109a-4dbb-87a4-f25e000eb2db",
   "metadata": {},
   "outputs": [],
   "source": [
    "def print_graph_properties(g):\n",
    "    print('Graph has the following properties:')\n",
    "    print('- {} nodes'.format(g.number_of_nodes()))\n",
    "    for key, val in g.ndata.items():\n",
    "        print('- \"{}\" with {} node features'.format(key, list(val.shape)))\n",
    "    print('- {} edges'.format(g.number_of_edges()))"
   ]
  },
  {
   "cell_type": "code",
   "execution_count": 59,
   "id": "6cc8eca3-83bc-494c-b497-d168e9a8a4dc",
   "metadata": {},
   "outputs": [],
   "source": [
    "import pickle\n",
    "with open('../data/graphs_labels.pkl','wb') as f:\n",
    "    pickle.dump(data,f)"
   ]
  },
  {
   "cell_type": "code",
   "execution_count": 57,
   "id": "9df80304-60d3-4735-8b5f-0a392ebe560e",
   "metadata": {},
   "outputs": [
    {
     "name": "stdout",
     "output_type": "stream",
     "text": [
      "Graph has the following properties:\n",
      "- 1164 nodes\n",
      "- \"centroid\" with [1164, 2] node features\n",
      "- \"feat\" with [1164, 74] node features\n",
      "- \"label\" with [1164] node features\n",
      "- 4376 edges\n"
     ]
    }
   ],
   "source": [
    "from torch.utils.data import DataLoader\n",
    "import random \n",
    "\n",
    "# 1. load the data: graphs and labels \n",
    "# data = dgl.data.GINDataset('MUTAG', self_loop=False)\n",
    "\n",
    "# 2. Inspect manually the data by printing one of the samples\n",
    "g, label = data[0]\n",
    "print_graph_properties(g)\n",
    "\n",
    "# 3. Batchify and train/val split the data\n",
    "random.shuffle(data)\n",
    "train_data = data[:int(len(data)* 0.7)]\n",
    "val_data = data[int(len(data)*0.7):]\n",
    "batch_size = 8\n",
    "\n",
    "def collate(batch):\n",
    "    g = dgl.batch([example[0] for example in batch])\n",
    "    l = torch.LongTensor([example[1] for example in batch])\n",
    "    return g, l\n",
    "\n",
    "train_dataloader = DataLoader(train_data, batch_size, shuffle=True, collate_fn=collate)\n",
    "val_dataloader = DataLoader(train_data, batch_size, collate_fn=collate)"
   ]
  },
  {
   "cell_type": "code",
   "execution_count": 58,
   "id": "c24092be-7268-4bc1-836c-c4d2c399d5e5",
   "metadata": {},
   "outputs": [
    {
     "data": {
      "text/plain": [
       "<torch.utils.data.dataloader.DataLoader at 0x7f44107b8810>"
      ]
     },
     "execution_count": 58,
     "metadata": {},
     "output_type": "execute_result"
    }
   ],
   "source": [
    "train_dataloader"
   ]
  },
  {
   "cell_type": "code",
   "execution_count": 72,
   "id": "cf8c99c4-5fa1-453f-a881-8fe6f0b07444",
   "metadata": {},
   "outputs": [],
   "source": [
    "gnn_params = {\n",
    "    'readout_op': 'concat',\n",
    "    'layer_type': 'gin_layer',\n",
    "    'output_dim': 32,\n",
    "    'num_layers': 2,\n",
    "    'readout_type': 'mean'\n",
    "}\n",
    "classification_params = {\n",
    "    'hidden_dim': 20,\n",
    "    'num_layers': 2\n",
    "}"
   ]
  },
  {
   "cell_type": "code",
   "execution_count": 73,
   "id": "69c9812a-2fe4-4464-a809-bd51e3c2dc4b",
   "metadata": {},
   "outputs": [],
   "source": [
    "from histocartography.ml import CellGraphModel"
   ]
  },
  {
   "cell_type": "code",
   "execution_count": 74,
   "id": "31d595ed-fe1d-46a8-a76d-5d94f3ab77ce",
   "metadata": {},
   "outputs": [],
   "source": [
    "node_dim = features.shape[1]"
   ]
  },
  {
   "cell_type": "code",
   "execution_count": 83,
   "id": "ac9d9708-5267-4a1e-9817-e8dcd8292b4b",
   "metadata": {},
   "outputs": [],
   "source": [
    "cgm = CellGraphModel(gnn_params,classification_params,node_dim,num_classes = 2)"
   ]
  },
  {
   "cell_type": "code",
   "execution_count": 84,
   "id": "27dc19e1-a5f6-41b8-a165-c0e62fb7aeb9",
   "metadata": {},
   "outputs": [],
   "source": [
    "import torch\n",
    "from tqdm import trange\n",
    "\n",
    "# build optimizer\n",
    "optimizer = torch.optim.Adam(\n",
    "    cgm.parameters(),\n",
    "    lr=10e-3,\n",
    "    weight_decay=5e-4\n",
    ")\n",
    "\n",
    "# define loss function\n",
    "loss_fn = torch.nn.CrossEntropyLoss()\n",
    "\n",
    "# training \n",
    "val_loss = 10e5\n",
    "val_accuracy = 0."
   ]
  },
  {
   "cell_type": "code",
   "execution_count": 85,
   "id": "68c8c689-3e87-46c0-8100-d67d844a8f41",
   "metadata": {},
   "outputs": [
    {
     "name": "stderr",
     "output_type": "stream",
     "text": [
      "Validation with loss=0.16 | accuracy=0.95: 100%|█| 50/50 [03:08<00:00,  3.76s/it\n"
     ]
    }
   ],
   "source": [
    "with trange(50) as t:\n",
    "    for epoch in t:\n",
    "        t.set_description('Validation with loss={} | accuracy={}'.format(val_loss, val_accuracy))\n",
    "        # A.) train for 1 epoch \n",
    "        cgm.train()\n",
    "        for graphs, labels in train_dataloader:\n",
    "\n",
    "            # 1. forward pass\n",
    "            labels = labels\n",
    "            logits = cgm(graphs)\n",
    "\n",
    "            # 2. backward pass\n",
    "            loss = loss_fn(logits, labels)\n",
    "            optimizer.zero_grad()\n",
    "            loss.backward()\n",
    "            optimizer.step()\n",
    "            \n",
    "        cgm.eval()\n",
    "        all_val_logits = []\n",
    "        all_val_labels = []\n",
    "        for graphs, labels in val_dataloader:\n",
    "            with torch.no_grad():\n",
    "                labels = labels\n",
    "                logits = cgm(graphs)\n",
    "            all_val_logits.append(logits)\n",
    "            all_val_labels.append(labels)\n",
    "\n",
    "        all_val_logits = torch.cat(all_val_logits).cpu()\n",
    "        all_val_labels = torch.cat(all_val_labels).cpu()\n",
    "\n",
    "        with torch.no_grad():\n",
    "            val_loss = round(loss_fn(all_val_logits, all_val_labels).item(), 2)\n",
    "            _, predictions = torch.max(all_val_logits, dim=1)\n",
    "            correct = torch.sum(predictions.to(int) == all_val_labels.to(int))\n",
    "            val_accuracy = round(correct.item() * 1.0 / len(all_val_labels), 2)"
   ]
  },
  {
   "cell_type": "code",
   "execution_count": 86,
   "id": "1675c513-cb84-4c33-a4f1-e88d057986c4",
   "metadata": {},
   "outputs": [
    {
     "data": {
      "text/plain": [
       "tensor(92)"
      ]
     },
     "execution_count": 86,
     "metadata": {},
     "output_type": "execute_result"
    }
   ],
   "source": [
    "correct"
   ]
  },
  {
   "cell_type": "code",
   "execution_count": 88,
   "id": "57311921-f398-4ff7-ac94-46f1d34ed942",
   "metadata": {},
   "outputs": [
    {
     "data": {
      "text/plain": [
       "tensor([ True,  True,  True,  True,  True, False,  True,  True,  True,  True,\n",
       "         True,  True,  True,  True,  True,  True,  True,  True,  True,  True,\n",
       "         True,  True,  True,  True,  True,  True,  True,  True,  True,  True,\n",
       "         True,  True,  True,  True,  True,  True,  True,  True,  True, False,\n",
       "         True,  True,  True,  True,  True,  True,  True,  True,  True,  True,\n",
       "         True,  True,  True,  True,  True,  True,  True,  True,  True,  True,\n",
       "         True,  True,  True,  True,  True, False,  True,  True,  True,  True,\n",
       "         True,  True,  True,  True,  True,  True,  True,  True,  True,  True,\n",
       "        False,  True,  True,  True,  True,  True, False,  True,  True,  True,\n",
       "         True,  True,  True,  True, False,  True,  True,  True])"
      ]
     },
     "execution_count": 88,
     "metadata": {},
     "output_type": "execute_result"
    }
   ],
   "source": [
    "predictions == all_val_labels"
   ]
  },
  {
   "cell_type": "code",
   "execution_count": 89,
   "id": "4c14b2de-4362-47b6-b97f-61517c7bd230",
   "metadata": {},
   "outputs": [
    {
     "data": {
      "text/plain": [
       "98"
      ]
     },
     "execution_count": 89,
     "metadata": {},
     "output_type": "execute_result"
    }
   ],
   "source": [
    "len(predictions)"
   ]
  },
  {
   "cell_type": "code",
   "execution_count": 92,
   "id": "aede8ae7-3d9b-46ea-972d-c603b165914c",
   "metadata": {},
   "outputs": [
    {
     "data": {
      "text/plain": [
       "98"
      ]
     },
     "execution_count": 92,
     "metadata": {},
     "output_type": "execute_result"
    }
   ],
   "source": [
    "len(train_data)"
   ]
  },
  {
   "cell_type": "code",
   "execution_count": 93,
   "id": "37ee9a3f-60b1-4b0e-8e88-e3aee5d251c8",
   "metadata": {},
   "outputs": [],
   "source": [
    "from histocartography.interpretability import GraphGradCAMExplainer\n",
    "\n",
    "explainer = GraphGradCAMExplainer(model=cgm)"
   ]
  },
  {
   "cell_type": "code",
   "execution_count": 94,
   "id": "d8c3dea8-91c1-42b3-9819-cab748d8a7c0",
   "metadata": {},
   "outputs": [],
   "source": [
    "graph = data[0][0]\n",
    "importance_scores, _ = explainer.process(graph)"
   ]
  },
  {
   "cell_type": "code",
   "execution_count": 95,
   "id": "482c6d4c-02b3-4f69-868f-206f6555c95a",
   "metadata": {},
   "outputs": [
    {
     "data": {
      "text/plain": [
       "DGLGraph(num_nodes=2800, num_edges=13723,\n",
       "         ndata_schemes={'centroid': Scheme(shape=(2,), dtype=torch.float32), 'feat': Scheme(shape=(74,), dtype=torch.float32), 'label': Scheme(shape=(), dtype=torch.float32)}\n",
       "         edata_schemes={})"
      ]
     },
     "execution_count": 95,
     "metadata": {},
     "output_type": "execute_result"
    }
   ],
   "source": [
    "graph"
   ]
  },
  {
   "cell_type": "code",
   "execution_count": 96,
   "id": "0e4a4be0-770b-4e90-a6d0-e5a1b852effa",
   "metadata": {},
   "outputs": [
    {
     "data": {
      "text/plain": [
       "array([0., 0., 0., ..., 0., 0., 0.], dtype=float32)"
      ]
     },
     "execution_count": 96,
     "metadata": {},
     "output_type": "execute_result"
    }
   ],
   "source": [
    "importance_scores"
   ]
  },
  {
   "cell_type": "code",
   "execution_count": 97,
   "id": "04e66f95-a14c-40a9-9467-e26ddfaaf89d",
   "metadata": {},
   "outputs": [
    {
     "data": {
      "text/plain": [
       "0.0"
      ]
     },
     "execution_count": 97,
     "metadata": {},
     "output_type": "execute_result"
    }
   ],
   "source": [
    "sum(importance_scores)"
   ]
  },
  {
   "cell_type": "code",
   "execution_count": 98,
   "id": "b1e64e00-141c-4641-81c4-5843ef00e35d",
   "metadata": {},
   "outputs": [
    {
     "data": {
      "text/plain": [
       "GradCAM()"
      ]
     },
     "execution_count": 98,
     "metadata": {},
     "output_type": "execute_result"
    }
   ],
   "source": [
    "explainer.extractor"
   ]
  },
  {
   "cell_type": "code",
   "execution_count": 100,
   "id": "2bfc7efd-3a2d-481c-a032-6a3bcb851747",
   "metadata": {},
   "outputs": [
    {
     "data": {
      "text/plain": [
       "['0', '1']"
      ]
     },
     "execution_count": 100,
     "metadata": {},
     "output_type": "execute_result"
    }
   ],
   "source": [
    "explainer.gnn_layer_ids"
   ]
  },
  {
   "cell_type": "code",
   "execution_count": null,
   "id": "6ee0f1bb-4ca7-4ce9-b1cf-f2e449cb7f5a",
   "metadata": {},
   "outputs": [],
   "source": []
  },
  {
   "cell_type": "code",
   "execution_count": 101,
   "id": "7fed3616-69cc-4a38-bdca-35d70d10f8d4",
   "metadata": {},
   "outputs": [],
   "source": [
    "original_logits = explainer.model(graph)"
   ]
  },
  {
   "cell_type": "code",
   "execution_count": 102,
   "id": "7a6d4242-751d-4c5c-aa30-727e78e001b6",
   "metadata": {},
   "outputs": [
    {
     "data": {
      "text/plain": [
       "tensor([[-0.3588,  0.6683]], grad_fn=<AddmmBackward>)"
      ]
     },
     "execution_count": 102,
     "metadata": {},
     "output_type": "execute_result"
    }
   ],
   "source": [
    "original_logits"
   ]
  },
  {
   "cell_type": "code",
   "execution_count": 103,
   "id": "0a14bd2a-a7e5-42cd-811a-6ca357e8577f",
   "metadata": {},
   "outputs": [],
   "source": [
    "classes = [original_logits.argmax().item()]"
   ]
  },
  {
   "cell_type": "code",
   "execution_count": 104,
   "id": "a194a6d8-9c61-40bb-ae6c-0c2be942a214",
   "metadata": {},
   "outputs": [
    {
     "data": {
      "text/plain": [
       "[1]"
      ]
     },
     "execution_count": 104,
     "metadata": {},
     "output_type": "execute_result"
    }
   ],
   "source": [
    "classes"
   ]
  },
  {
   "cell_type": "code",
   "execution_count": 105,
   "id": "3d8beb52-bf81-4910-808c-38f456127f73",
   "metadata": {},
   "outputs": [
    {
     "data": {
      "text/plain": [
       "tensor(1)"
      ]
     },
     "execution_count": 105,
     "metadata": {},
     "output_type": "execute_result"
    }
   ],
   "source": [
    "original_logits.argmax()"
   ]
  },
  {
   "cell_type": "code",
   "execution_count": 108,
   "id": "18632dcf-ce5e-4449-9b41-65c3c86fbcd1",
   "metadata": {},
   "outputs": [
    {
     "ename": "RuntimeError",
     "evalue": "stack expects a non-empty TensorList",
     "output_type": "error",
     "traceback": [
      "\u001b[0;31m---------------------------------------------------------------------------\u001b[0m",
      "\u001b[0;31mRuntimeError\u001b[0m                              Traceback (most recent call last)",
      "\u001b[0;32m/tmp/ipykernel_223851/606229420.py\u001b[0m in \u001b[0;36m<module>\u001b[0;34m\u001b[0m\n\u001b[1;32m      1\u001b[0m node_importance = explainer.extractor(\n\u001b[0;32m----> 2\u001b[0;31m     \u001b[0;36m1\u001b[0m\u001b[0;34m,\u001b[0m \u001b[0moriginal_logits\u001b[0m\u001b[0;34m,\u001b[0m \u001b[0mnormalized\u001b[0m\u001b[0;34m=\u001b[0m\u001b[0;32mTrue\u001b[0m\u001b[0;34m\u001b[0m\u001b[0;34m\u001b[0m\u001b[0m\n\u001b[0m\u001b[1;32m      3\u001b[0m ).cpu()\n",
      "\u001b[0;32m~/anaconda3/envs/hactnet/lib/python3.7/site-packages/histocartography/interpretability/grad_cam.py\u001b[0m in \u001b[0;36m__call__\u001b[0;34m(self, *args, **kwargs)\u001b[0m\n\u001b[1;32m    165\u001b[0m     \u001b[0;32mdef\u001b[0m \u001b[0m__call__\u001b[0m\u001b[0;34m(\u001b[0m\u001b[0mself\u001b[0m\u001b[0;34m,\u001b[0m \u001b[0;34m*\u001b[0m\u001b[0margs\u001b[0m\u001b[0;34m,\u001b[0m \u001b[0;34m**\u001b[0m\u001b[0mkwargs\u001b[0m\u001b[0;34m)\u001b[0m\u001b[0;34m:\u001b[0m\u001b[0;34m\u001b[0m\u001b[0;34m\u001b[0m\u001b[0m\n\u001b[1;32m    166\u001b[0m         \u001b[0mself\u001b[0m\u001b[0;34m.\u001b[0m\u001b[0mbackward_hook\u001b[0m \u001b[0;34m=\u001b[0m \u001b[0mlist\u001b[0m\u001b[0;34m(\u001b[0m\u001b[0;34m)\u001b[0m\u001b[0;34m\u001b[0m\u001b[0;34m\u001b[0m\u001b[0m\n\u001b[0;32m--> 167\u001b[0;31m         \u001b[0;32mreturn\u001b[0m \u001b[0msuper\u001b[0m\u001b[0;34m(\u001b[0m\u001b[0;34m)\u001b[0m\u001b[0;34m.\u001b[0m\u001b[0m__call__\u001b[0m\u001b[0;34m(\u001b[0m\u001b[0;34m*\u001b[0m\u001b[0margs\u001b[0m\u001b[0;34m,\u001b[0m \u001b[0;34m**\u001b[0m\u001b[0mkwargs\u001b[0m\u001b[0;34m)\u001b[0m\u001b[0;34m\u001b[0m\u001b[0;34m\u001b[0m\u001b[0m\n\u001b[0m\u001b[1;32m    168\u001b[0m \u001b[0;34m\u001b[0m\u001b[0m\n\u001b[1;32m    169\u001b[0m \u001b[0;34m\u001b[0m\u001b[0m\n",
      "\u001b[0;32m~/anaconda3/envs/hactnet/lib/python3.7/site-packages/histocartography/interpretability/grad_cam.py\u001b[0m in \u001b[0;36m__call__\u001b[0;34m(self, class_idx, scores, normalized)\u001b[0m\n\u001b[1;32m    108\u001b[0m \u001b[0;34m\u001b[0m\u001b[0m\n\u001b[1;32m    109\u001b[0m         \u001b[0;31m# Get map weight\u001b[0m\u001b[0;34m\u001b[0m\u001b[0;34m\u001b[0m\u001b[0;34m\u001b[0m\u001b[0m\n\u001b[0;32m--> 110\u001b[0;31m         \u001b[0mweights\u001b[0m \u001b[0;34m=\u001b[0m \u001b[0mself\u001b[0m\u001b[0;34m.\u001b[0m\u001b[0m_get_weights\u001b[0m\u001b[0;34m(\u001b[0m\u001b[0mclass_idx\u001b[0m\u001b[0;34m,\u001b[0m \u001b[0mscores\u001b[0m\u001b[0;34m)\u001b[0m\u001b[0;34m\u001b[0m\u001b[0;34m\u001b[0m\u001b[0m\n\u001b[0m\u001b[1;32m    111\u001b[0m         \u001b[0mis_cuda\u001b[0m \u001b[0;34m=\u001b[0m \u001b[0mweights\u001b[0m\u001b[0;34m.\u001b[0m\u001b[0mis_cuda\u001b[0m\u001b[0;34m\u001b[0m\u001b[0;34m\u001b[0m\u001b[0m\n\u001b[1;32m    112\u001b[0m \u001b[0;34m\u001b[0m\u001b[0m\n",
      "\u001b[0;32m~/anaconda3/envs/hactnet/lib/python3.7/site-packages/histocartography/interpretability/grad_cam.py\u001b[0m in \u001b[0;36m_get_weights\u001b[0;34m(self, class_idx, scores)\u001b[0m\n\u001b[1;32m    160\u001b[0m         \u001b[0;31m# Backpropagate\u001b[0m\u001b[0;34m\u001b[0m\u001b[0;34m\u001b[0m\u001b[0;34m\u001b[0m\u001b[0m\n\u001b[1;32m    161\u001b[0m         \u001b[0mself\u001b[0m\u001b[0;34m.\u001b[0m\u001b[0m_backprop\u001b[0m\u001b[0;34m(\u001b[0m\u001b[0mscores\u001b[0m\u001b[0;34m,\u001b[0m \u001b[0mclass_idx\u001b[0m\u001b[0;34m)\u001b[0m\u001b[0;34m\u001b[0m\u001b[0;34m\u001b[0m\u001b[0m\n\u001b[0;32m--> 162\u001b[0;31m         \u001b[0mgrads\u001b[0m \u001b[0;34m=\u001b[0m \u001b[0mtorch\u001b[0m\u001b[0;34m.\u001b[0m\u001b[0mstack\u001b[0m\u001b[0;34m(\u001b[0m\u001b[0mlist\u001b[0m\u001b[0;34m(\u001b[0m\u001b[0mreversed\u001b[0m\u001b[0;34m(\u001b[0m\u001b[0mself\u001b[0m\u001b[0;34m.\u001b[0m\u001b[0mbackward_hook\u001b[0m\u001b[0;34m)\u001b[0m\u001b[0;34m)\u001b[0m\u001b[0;34m,\u001b[0m \u001b[0mdim\u001b[0m\u001b[0;34m=\u001b[0m\u001b[0;36m2\u001b[0m\u001b[0;34m)\u001b[0m\u001b[0;34m\u001b[0m\u001b[0;34m\u001b[0m\u001b[0m\n\u001b[0m\u001b[1;32m    163\u001b[0m         \u001b[0;32mreturn\u001b[0m \u001b[0mgrads\u001b[0m\u001b[0;34m.\u001b[0m\u001b[0mmean\u001b[0m\u001b[0;34m(\u001b[0m\u001b[0maxis\u001b[0m\u001b[0;34m=\u001b[0m\u001b[0;36m0\u001b[0m\u001b[0;34m)\u001b[0m\u001b[0;34m\u001b[0m\u001b[0;34m\u001b[0m\u001b[0m\n\u001b[1;32m    164\u001b[0m \u001b[0;34m\u001b[0m\u001b[0m\n",
      "\u001b[0;31mRuntimeError\u001b[0m: stack expects a non-empty TensorList"
     ]
    }
   ],
   "source": [
    "node_importance = explainer.extractor(\n",
    "    1, original_logits, normalized=True\n",
    ").cpu()"
   ]
  },
  {
   "cell_type": "code",
   "execution_count": 109,
   "id": "179bd149-9489-4db0-97e8-dbace2050519",
   "metadata": {},
   "outputs": [
    {
     "ename": "AttributeError",
     "evalue": "'GraphGradCAMExplainer' object has no attribute 'backward_hook'",
     "output_type": "error",
     "traceback": [
      "\u001b[0;31m---------------------------------------------------------------------------\u001b[0m",
      "\u001b[0;31mAttributeError\u001b[0m                            Traceback (most recent call last)",
      "\u001b[0;32m/tmp/ipykernel_223851/3688018514.py\u001b[0m in \u001b[0;36m<module>\u001b[0;34m\u001b[0m\n\u001b[0;32m----> 1\u001b[0;31m \u001b[0mexplainer\u001b[0m\u001b[0;34m.\u001b[0m\u001b[0mbackward_hook\u001b[0m\u001b[0;34m\u001b[0m\u001b[0;34m\u001b[0m\u001b[0m\n\u001b[0m",
      "\u001b[0;31mAttributeError\u001b[0m: 'GraphGradCAMExplainer' object has no attribute 'backward_hook'"
     ]
    }
   ],
   "source": [
    "explainer.backward_hook"
   ]
  },
  {
   "cell_type": "code",
   "execution_count": 114,
   "id": "eeffb492-0a29-46e1-b873-8f2bbffe4e1c",
   "metadata": {},
   "outputs": [],
   "source": [
    "import torch\n",
    "import torch.nn as nn\n",
    "import dgl.function as fn\n",
    "from dgl.nn import GATConv\n",
    "\n",
    "\n",
    "class GAT(nn.Module):\n",
    "    def __init__(self,\n",
    "                 g,\n",
    "                 num_layers,\n",
    "                 in_dim,\n",
    "                 num_hidden,\n",
    "                 num_classes,\n",
    "                 heads,\n",
    "                 activation,\n",
    "                 feat_drop,\n",
    "                 attn_drop,\n",
    "                 negative_slope,\n",
    "                 residual):\n",
    "        super(GAT, self).__init__()\n",
    "        self.g = g\n",
    "        self.num_layers = num_layers\n",
    "        self.gat_layers = nn.ModuleList()\n",
    "        self.activation = activation\n",
    "        # input projection (no residual)\n",
    "        self.gat_layers.append(GATConv(\n",
    "            in_dim, num_hidden, heads[0],\n",
    "            feat_drop, attn_drop, negative_slope, False, self.activation))\n",
    "        # hidden layers\n",
    "        for l in range(1, num_layers):\n",
    "            # due to multi-head, the in_dim = num_hidden * num_heads\n",
    "            self.gat_layers.append(GATConv(\n",
    "                num_hidden * heads[l-1], num_hidden, heads[l],\n",
    "                feat_drop, attn_drop, negative_slope, residual, self.activation))\n",
    "        # output projection\n",
    "        self.gat_layers.append(GATConv(\n",
    "            num_hidden * heads[-2], num_classes, heads[-1],\n",
    "            feat_drop, attn_drop, negative_slope, residual, None))\n",
    "\n",
    "    def forward(self, inputs):\n",
    "        h = inputs\n",
    "        for l in range(self.num_layers):\n",
    "            h = self.gat_layers[l](self.g, h).flatten(1)\n",
    "        # output projection\n",
    "        logits = self.gat_layers[-1](self.g, h).mean(1)\n",
    "        return logits"
   ]
  },
  {
   "cell_type": "code",
   "execution_count": null,
   "id": "63e8ce7d-642e-402c-917f-48ac13c21e3f",
   "metadata": {},
   "outputs": [],
   "source": [
    "m = GAT("
   ]
  },
  {
   "cell_type": "code",
   "execution_count": 110,
   "id": "0aa5d430-20f4-49ad-9a4e-bc1edf706e8e",
   "metadata": {},
   "outputs": [],
   "source": [
    "# import matplotlib.pyplot as plt\n",
    "# import networkx as nx"
   ]
  },
  {
   "cell_type": "code",
   "execution_count": 112,
   "id": "9c0cbb50-568f-4209-b02e-cc347dabfdeb",
   "metadata": {},
   "outputs": [],
   "source": [
    "# G = dgl.to_networkx(graph)\n",
    "# options = {\n",
    "#     'node_color': 'black',\n",
    "#     'node_size': 20,\n",
    "#     'width': 1,\n",
    "# }"
   ]
  },
  {
   "cell_type": "code",
   "execution_count": 113,
   "id": "6203fc2a-c954-4279-9d49-5767f17dd5b6",
   "metadata": {},
   "outputs": [
    {
     "ename": "KeyboardInterrupt",
     "evalue": "",
     "output_type": "error",
     "traceback": [
      "\u001b[0;31m---------------------------------------------------------------------------\u001b[0m",
      "\u001b[0;31mKeyboardInterrupt\u001b[0m                         Traceback (most recent call last)",
      "\u001b[0;32m/tmp/ipykernel_223851/3600034417.py\u001b[0m in \u001b[0;36m<module>\u001b[0;34m\u001b[0m\n\u001b[1;32m      1\u001b[0m \u001b[0mplt\u001b[0m\u001b[0;34m.\u001b[0m\u001b[0mfigure\u001b[0m\u001b[0;34m(\u001b[0m\u001b[0mfigsize\u001b[0m\u001b[0;34m=\u001b[0m\u001b[0;34m[\u001b[0m\u001b[0;36m15\u001b[0m\u001b[0;34m,\u001b[0m\u001b[0;36m7\u001b[0m\u001b[0;34m]\u001b[0m\u001b[0;34m)\u001b[0m\u001b[0;34m\u001b[0m\u001b[0;34m\u001b[0m\u001b[0m\n\u001b[0;32m----> 2\u001b[0;31m \u001b[0mnx\u001b[0m\u001b[0;34m.\u001b[0m\u001b[0mdraw\u001b[0m\u001b[0;34m(\u001b[0m\u001b[0mG\u001b[0m\u001b[0;34m,\u001b[0m \u001b[0;34m**\u001b[0m\u001b[0moptions\u001b[0m\u001b[0;34m)\u001b[0m\u001b[0;34m\u001b[0m\u001b[0;34m\u001b[0m\u001b[0m\n\u001b[0m",
      "\u001b[0;32m~/anaconda3/envs/hactnet/lib/python3.7/site-packages/networkx/drawing/nx_pylab.py\u001b[0m in \u001b[0;36mdraw\u001b[0;34m(G, pos, ax, **kwds)\u001b[0m\n\u001b[1;32m    121\u001b[0m         \u001b[0mkwds\u001b[0m\u001b[0;34m[\u001b[0m\u001b[0;34m\"with_labels\"\u001b[0m\u001b[0;34m]\u001b[0m \u001b[0;34m=\u001b[0m \u001b[0;34m\"labels\"\u001b[0m \u001b[0;32min\u001b[0m \u001b[0mkwds\u001b[0m\u001b[0;34m\u001b[0m\u001b[0;34m\u001b[0m\u001b[0m\n\u001b[1;32m    122\u001b[0m \u001b[0;34m\u001b[0m\u001b[0m\n\u001b[0;32m--> 123\u001b[0;31m     \u001b[0mdraw_networkx\u001b[0m\u001b[0;34m(\u001b[0m\u001b[0mG\u001b[0m\u001b[0;34m,\u001b[0m \u001b[0mpos\u001b[0m\u001b[0;34m=\u001b[0m\u001b[0mpos\u001b[0m\u001b[0;34m,\u001b[0m \u001b[0max\u001b[0m\u001b[0;34m=\u001b[0m\u001b[0max\u001b[0m\u001b[0;34m,\u001b[0m \u001b[0;34m**\u001b[0m\u001b[0mkwds\u001b[0m\u001b[0;34m)\u001b[0m\u001b[0;34m\u001b[0m\u001b[0;34m\u001b[0m\u001b[0m\n\u001b[0m\u001b[1;32m    124\u001b[0m     \u001b[0max\u001b[0m\u001b[0;34m.\u001b[0m\u001b[0mset_axis_off\u001b[0m\u001b[0;34m(\u001b[0m\u001b[0;34m)\u001b[0m\u001b[0;34m\u001b[0m\u001b[0;34m\u001b[0m\u001b[0m\n\u001b[1;32m    125\u001b[0m     \u001b[0mplt\u001b[0m\u001b[0;34m.\u001b[0m\u001b[0mdraw_if_interactive\u001b[0m\u001b[0;34m(\u001b[0m\u001b[0;34m)\u001b[0m\u001b[0;34m\u001b[0m\u001b[0;34m\u001b[0m\u001b[0m\n",
      "\u001b[0;32m~/anaconda3/envs/hactnet/lib/python3.7/site-packages/networkx/drawing/nx_pylab.py\u001b[0m in \u001b[0;36mdraw_networkx\u001b[0;34m(G, pos, arrows, with_labels, **kwds)\u001b[0m\n\u001b[1;32m    331\u001b[0m \u001b[0;34m\u001b[0m\u001b[0m\n\u001b[1;32m    332\u001b[0m     \u001b[0;32mif\u001b[0m \u001b[0mpos\u001b[0m \u001b[0;32mis\u001b[0m \u001b[0;32mNone\u001b[0m\u001b[0;34m:\u001b[0m\u001b[0;34m\u001b[0m\u001b[0;34m\u001b[0m\u001b[0m\n\u001b[0;32m--> 333\u001b[0;31m         \u001b[0mpos\u001b[0m \u001b[0;34m=\u001b[0m \u001b[0mnx\u001b[0m\u001b[0;34m.\u001b[0m\u001b[0mdrawing\u001b[0m\u001b[0;34m.\u001b[0m\u001b[0mspring_layout\u001b[0m\u001b[0;34m(\u001b[0m\u001b[0mG\u001b[0m\u001b[0;34m)\u001b[0m  \u001b[0;31m# default to spring layout\u001b[0m\u001b[0;34m\u001b[0m\u001b[0;34m\u001b[0m\u001b[0m\n\u001b[0m\u001b[1;32m    334\u001b[0m \u001b[0;34m\u001b[0m\u001b[0m\n\u001b[1;32m    335\u001b[0m     \u001b[0mdraw_networkx_nodes\u001b[0m\u001b[0;34m(\u001b[0m\u001b[0mG\u001b[0m\u001b[0;34m,\u001b[0m \u001b[0mpos\u001b[0m\u001b[0;34m,\u001b[0m \u001b[0;34m**\u001b[0m\u001b[0mnode_kwds\u001b[0m\u001b[0;34m)\u001b[0m\u001b[0;34m\u001b[0m\u001b[0;34m\u001b[0m\u001b[0m\n",
      "\u001b[0;32m<decorator-gen-852>\u001b[0m in \u001b[0;36mfruchterman_reingold_layout\u001b[0;34m(G, k, pos, fixed, iterations, threshold, weight, scale, center, dim, seed)\u001b[0m\n",
      "\u001b[0;32m~/anaconda3/envs/hactnet/lib/python3.7/site-packages/networkx/utils/decorators.py\u001b[0m in \u001b[0;36m_random_state\u001b[0;34m(func, *args, **kwargs)\u001b[0m\n\u001b[1;32m    406\u001b[0m         \u001b[0mnew_args\u001b[0m \u001b[0;34m=\u001b[0m \u001b[0mlist\u001b[0m\u001b[0;34m(\u001b[0m\u001b[0margs\u001b[0m\u001b[0;34m)\u001b[0m\u001b[0;34m\u001b[0m\u001b[0;34m\u001b[0m\u001b[0m\n\u001b[1;32m    407\u001b[0m         \u001b[0mnew_args\u001b[0m\u001b[0;34m[\u001b[0m\u001b[0mrandom_state_index\u001b[0m\u001b[0;34m]\u001b[0m \u001b[0;34m=\u001b[0m \u001b[0mrandom_state\u001b[0m\u001b[0;34m\u001b[0m\u001b[0;34m\u001b[0m\u001b[0m\n\u001b[0;32m--> 408\u001b[0;31m         \u001b[0;32mreturn\u001b[0m \u001b[0mfunc\u001b[0m\u001b[0;34m(\u001b[0m\u001b[0;34m*\u001b[0m\u001b[0mnew_args\u001b[0m\u001b[0;34m,\u001b[0m \u001b[0;34m**\u001b[0m\u001b[0mkwargs\u001b[0m\u001b[0;34m)\u001b[0m\u001b[0;34m\u001b[0m\u001b[0;34m\u001b[0m\u001b[0m\n\u001b[0m\u001b[1;32m    409\u001b[0m \u001b[0;34m\u001b[0m\u001b[0m\n\u001b[1;32m    410\u001b[0m     \u001b[0;32mreturn\u001b[0m \u001b[0m_random_state\u001b[0m\u001b[0;34m\u001b[0m\u001b[0;34m\u001b[0m\u001b[0m\n",
      "\u001b[0;32m~/anaconda3/envs/hactnet/lib/python3.7/site-packages/networkx/drawing/layout.py\u001b[0m in \u001b[0;36mfruchterman_reingold_layout\u001b[0;34m(G, k, pos, fixed, iterations, threshold, weight, scale, center, dim, seed)\u001b[0m\n\u001b[1;32m    490\u001b[0m             \u001b[0mk\u001b[0m \u001b[0;34m=\u001b[0m \u001b[0mdom_size\u001b[0m \u001b[0;34m/\u001b[0m \u001b[0mnp\u001b[0m\u001b[0;34m.\u001b[0m\u001b[0msqrt\u001b[0m\u001b[0;34m(\u001b[0m\u001b[0mnnodes\u001b[0m\u001b[0;34m)\u001b[0m\u001b[0;34m\u001b[0m\u001b[0;34m\u001b[0m\u001b[0m\n\u001b[1;32m    491\u001b[0m         pos = _sparse_fruchterman_reingold(\n\u001b[0;32m--> 492\u001b[0;31m             \u001b[0mA\u001b[0m\u001b[0;34m,\u001b[0m \u001b[0mk\u001b[0m\u001b[0;34m,\u001b[0m \u001b[0mpos_arr\u001b[0m\u001b[0;34m,\u001b[0m \u001b[0mfixed\u001b[0m\u001b[0;34m,\u001b[0m \u001b[0miterations\u001b[0m\u001b[0;34m,\u001b[0m \u001b[0mthreshold\u001b[0m\u001b[0;34m,\u001b[0m \u001b[0mdim\u001b[0m\u001b[0;34m,\u001b[0m \u001b[0mseed\u001b[0m\u001b[0;34m\u001b[0m\u001b[0;34m\u001b[0m\u001b[0m\n\u001b[0m\u001b[1;32m    493\u001b[0m         )\n\u001b[1;32m    494\u001b[0m     \u001b[0;32mexcept\u001b[0m \u001b[0mValueError\u001b[0m\u001b[0;34m:\u001b[0m\u001b[0;34m\u001b[0m\u001b[0;34m\u001b[0m\u001b[0m\n",
      "\u001b[0;32m<decorator-gen-856>\u001b[0m in \u001b[0;36m_sparse_fruchterman_reingold\u001b[0;34m(A, k, pos, fixed, iterations, threshold, dim, seed)\u001b[0m\n",
      "\u001b[0;32m~/anaconda3/envs/hactnet/lib/python3.7/site-packages/networkx/utils/decorators.py\u001b[0m in \u001b[0;36m_random_state\u001b[0;34m(func, *args, **kwargs)\u001b[0m\n\u001b[1;32m    406\u001b[0m         \u001b[0mnew_args\u001b[0m \u001b[0;34m=\u001b[0m \u001b[0mlist\u001b[0m\u001b[0;34m(\u001b[0m\u001b[0margs\u001b[0m\u001b[0;34m)\u001b[0m\u001b[0;34m\u001b[0m\u001b[0;34m\u001b[0m\u001b[0m\n\u001b[1;32m    407\u001b[0m         \u001b[0mnew_args\u001b[0m\u001b[0;34m[\u001b[0m\u001b[0mrandom_state_index\u001b[0m\u001b[0;34m]\u001b[0m \u001b[0;34m=\u001b[0m \u001b[0mrandom_state\u001b[0m\u001b[0;34m\u001b[0m\u001b[0;34m\u001b[0m\u001b[0m\n\u001b[0;32m--> 408\u001b[0;31m         \u001b[0;32mreturn\u001b[0m \u001b[0mfunc\u001b[0m\u001b[0;34m(\u001b[0m\u001b[0;34m*\u001b[0m\u001b[0mnew_args\u001b[0m\u001b[0;34m,\u001b[0m \u001b[0;34m**\u001b[0m\u001b[0mkwargs\u001b[0m\u001b[0;34m)\u001b[0m\u001b[0;34m\u001b[0m\u001b[0;34m\u001b[0m\u001b[0m\n\u001b[0m\u001b[1;32m    409\u001b[0m \u001b[0;34m\u001b[0m\u001b[0m\n\u001b[1;32m    410\u001b[0m     \u001b[0;32mreturn\u001b[0m \u001b[0m_random_state\u001b[0m\u001b[0;34m\u001b[0m\u001b[0;34m\u001b[0m\u001b[0m\n",
      "\u001b[0;32m~/anaconda3/envs/hactnet/lib/python3.7/site-packages/networkx/drawing/layout.py\u001b[0m in \u001b[0;36m_sparse_fruchterman_reingold\u001b[0;34m(A, k, pos, fixed, iterations, threshold, dim, seed)\u001b[0m\n\u001b[1;32m    633\u001b[0m             \u001b[0mdistance\u001b[0m \u001b[0;34m=\u001b[0m \u001b[0mnp\u001b[0m\u001b[0;34m.\u001b[0m\u001b[0mwhere\u001b[0m\u001b[0;34m(\u001b[0m\u001b[0mdistance\u001b[0m \u001b[0;34m<\u001b[0m \u001b[0;36m0.01\u001b[0m\u001b[0;34m,\u001b[0m \u001b[0;36m0.01\u001b[0m\u001b[0;34m,\u001b[0m \u001b[0mdistance\u001b[0m\u001b[0;34m)\u001b[0m\u001b[0;34m\u001b[0m\u001b[0;34m\u001b[0m\u001b[0m\n\u001b[1;32m    634\u001b[0m             \u001b[0;31m# the adjacency matrix row\u001b[0m\u001b[0;34m\u001b[0m\u001b[0;34m\u001b[0m\u001b[0;34m\u001b[0m\u001b[0m\n\u001b[0;32m--> 635\u001b[0;31m             \u001b[0mAi\u001b[0m \u001b[0;34m=\u001b[0m \u001b[0mnp\u001b[0m\u001b[0;34m.\u001b[0m\u001b[0masarray\u001b[0m\u001b[0;34m(\u001b[0m\u001b[0mA\u001b[0m\u001b[0;34m.\u001b[0m\u001b[0mgetrowview\u001b[0m\u001b[0;34m(\u001b[0m\u001b[0mi\u001b[0m\u001b[0;34m)\u001b[0m\u001b[0;34m.\u001b[0m\u001b[0mtoarray\u001b[0m\u001b[0;34m(\u001b[0m\u001b[0;34m)\u001b[0m\u001b[0;34m)\u001b[0m\u001b[0;34m\u001b[0m\u001b[0;34m\u001b[0m\u001b[0m\n\u001b[0m\u001b[1;32m    636\u001b[0m             \u001b[0;31m# displacement \"force\"\u001b[0m\u001b[0;34m\u001b[0m\u001b[0;34m\u001b[0m\u001b[0;34m\u001b[0m\u001b[0m\n\u001b[1;32m    637\u001b[0m             displacement[:, i] += (\n",
      "\u001b[0;32m~/anaconda3/envs/hactnet/lib/python3.7/site-packages/scipy/sparse/lil.py\u001b[0m in \u001b[0;36mgetrowview\u001b[0;34m(self, i)\u001b[0m\n\u001b[1;32m    185\u001b[0m         \"\"\"Returns a view of the 'i'th row (without copying).\n\u001b[1;32m    186\u001b[0m         \"\"\"\n\u001b[0;32m--> 187\u001b[0;31m         \u001b[0mnew\u001b[0m \u001b[0;34m=\u001b[0m \u001b[0mlil_matrix\u001b[0m\u001b[0;34m(\u001b[0m\u001b[0;34m(\u001b[0m\u001b[0;36m1\u001b[0m\u001b[0;34m,\u001b[0m \u001b[0mself\u001b[0m\u001b[0;34m.\u001b[0m\u001b[0mshape\u001b[0m\u001b[0;34m[\u001b[0m\u001b[0;36m1\u001b[0m\u001b[0;34m]\u001b[0m\u001b[0;34m)\u001b[0m\u001b[0;34m,\u001b[0m \u001b[0mdtype\u001b[0m\u001b[0;34m=\u001b[0m\u001b[0mself\u001b[0m\u001b[0;34m.\u001b[0m\u001b[0mdtype\u001b[0m\u001b[0;34m)\u001b[0m\u001b[0;34m\u001b[0m\u001b[0;34m\u001b[0m\u001b[0m\n\u001b[0m\u001b[1;32m    188\u001b[0m         \u001b[0mnew\u001b[0m\u001b[0;34m.\u001b[0m\u001b[0mrows\u001b[0m\u001b[0;34m[\u001b[0m\u001b[0;36m0\u001b[0m\u001b[0;34m]\u001b[0m \u001b[0;34m=\u001b[0m \u001b[0mself\u001b[0m\u001b[0;34m.\u001b[0m\u001b[0mrows\u001b[0m\u001b[0;34m[\u001b[0m\u001b[0mi\u001b[0m\u001b[0;34m]\u001b[0m\u001b[0;34m\u001b[0m\u001b[0;34m\u001b[0m\u001b[0m\n\u001b[1;32m    189\u001b[0m         \u001b[0mnew\u001b[0m\u001b[0;34m.\u001b[0m\u001b[0mdata\u001b[0m\u001b[0;34m[\u001b[0m\u001b[0;36m0\u001b[0m\u001b[0;34m]\u001b[0m \u001b[0;34m=\u001b[0m \u001b[0mself\u001b[0m\u001b[0;34m.\u001b[0m\u001b[0mdata\u001b[0m\u001b[0;34m[\u001b[0m\u001b[0mi\u001b[0m\u001b[0;34m]\u001b[0m\u001b[0;34m\u001b[0m\u001b[0;34m\u001b[0m\u001b[0m\n",
      "\u001b[0;32m~/anaconda3/envs/hactnet/lib/python3.7/site-packages/scipy/sparse/lil.py\u001b[0m in \u001b[0;36m__init__\u001b[0;34m(self, arg1, shape, dtype, copy)\u001b[0m\n\u001b[1;32m    102\u001b[0m             \u001b[0mself\u001b[0m\u001b[0;34m.\u001b[0m\u001b[0mdata\u001b[0m \u001b[0;34m=\u001b[0m \u001b[0mA\u001b[0m\u001b[0;34m.\u001b[0m\u001b[0mdata\u001b[0m\u001b[0;34m\u001b[0m\u001b[0;34m\u001b[0m\u001b[0m\n\u001b[1;32m    103\u001b[0m         \u001b[0;32melif\u001b[0m \u001b[0misinstance\u001b[0m\u001b[0;34m(\u001b[0m\u001b[0marg1\u001b[0m\u001b[0;34m,\u001b[0m\u001b[0mtuple\u001b[0m\u001b[0;34m)\u001b[0m\u001b[0;34m:\u001b[0m\u001b[0;34m\u001b[0m\u001b[0;34m\u001b[0m\u001b[0m\n\u001b[0;32m--> 104\u001b[0;31m             \u001b[0;32mif\u001b[0m \u001b[0misshape\u001b[0m\u001b[0;34m(\u001b[0m\u001b[0marg1\u001b[0m\u001b[0;34m)\u001b[0m\u001b[0;34m:\u001b[0m\u001b[0;34m\u001b[0m\u001b[0;34m\u001b[0m\u001b[0m\n\u001b[0m\u001b[1;32m    105\u001b[0m                 \u001b[0;32mif\u001b[0m \u001b[0mshape\u001b[0m \u001b[0;32mis\u001b[0m \u001b[0;32mnot\u001b[0m \u001b[0;32mNone\u001b[0m\u001b[0;34m:\u001b[0m\u001b[0;34m\u001b[0m\u001b[0;34m\u001b[0m\u001b[0m\n\u001b[1;32m    106\u001b[0m                     \u001b[0;32mraise\u001b[0m \u001b[0mValueError\u001b[0m\u001b[0;34m(\u001b[0m\u001b[0;34m'invalid use of shape parameter'\u001b[0m\u001b[0;34m)\u001b[0m\u001b[0;34m\u001b[0m\u001b[0;34m\u001b[0m\u001b[0m\n",
      "\u001b[0;32m~/anaconda3/envs/hactnet/lib/python3.7/site-packages/scipy/sparse/sputils.py\u001b[0m in \u001b[0;36misshape\u001b[0;34m(x, nonneg)\u001b[0m\n\u001b[1;32m    229\u001b[0m         \u001b[0;32mreturn\u001b[0m \u001b[0;32mFalse\u001b[0m\u001b[0;34m\u001b[0m\u001b[0;34m\u001b[0m\u001b[0m\n\u001b[1;32m    230\u001b[0m     \u001b[0;32melse\u001b[0m\u001b[0;34m:\u001b[0m\u001b[0;34m\u001b[0m\u001b[0;34m\u001b[0m\u001b[0m\n\u001b[0;32m--> 231\u001b[0;31m         \u001b[0;32mif\u001b[0m \u001b[0misintlike\u001b[0m\u001b[0;34m(\u001b[0m\u001b[0mM\u001b[0m\u001b[0;34m)\u001b[0m \u001b[0;32mand\u001b[0m \u001b[0misintlike\u001b[0m\u001b[0;34m(\u001b[0m\u001b[0mN\u001b[0m\u001b[0;34m)\u001b[0m\u001b[0;34m:\u001b[0m\u001b[0;34m\u001b[0m\u001b[0;34m\u001b[0m\u001b[0m\n\u001b[0m\u001b[1;32m    232\u001b[0m             \u001b[0;32mif\u001b[0m \u001b[0mnp\u001b[0m\u001b[0;34m.\u001b[0m\u001b[0mndim\u001b[0m\u001b[0;34m(\u001b[0m\u001b[0mM\u001b[0m\u001b[0;34m)\u001b[0m \u001b[0;34m==\u001b[0m \u001b[0;36m0\u001b[0m \u001b[0;32mand\u001b[0m \u001b[0mnp\u001b[0m\u001b[0;34m.\u001b[0m\u001b[0mndim\u001b[0m\u001b[0;34m(\u001b[0m\u001b[0mN\u001b[0m\u001b[0;34m)\u001b[0m \u001b[0;34m==\u001b[0m \u001b[0;36m0\u001b[0m\u001b[0;34m:\u001b[0m\u001b[0;34m\u001b[0m\u001b[0;34m\u001b[0m\u001b[0m\n\u001b[1;32m    233\u001b[0m                 \u001b[0;32mif\u001b[0m \u001b[0;32mnot\u001b[0m \u001b[0mnonneg\u001b[0m \u001b[0;32mor\u001b[0m \u001b[0;34m(\u001b[0m\u001b[0mM\u001b[0m \u001b[0;34m>=\u001b[0m \u001b[0;36m0\u001b[0m \u001b[0;32mand\u001b[0m \u001b[0mN\u001b[0m \u001b[0;34m>=\u001b[0m \u001b[0;36m0\u001b[0m\u001b[0;34m)\u001b[0m\u001b[0;34m:\u001b[0m\u001b[0;34m\u001b[0m\u001b[0;34m\u001b[0m\u001b[0m\n",
      "\u001b[0;32m~/anaconda3/envs/hactnet/lib/python3.7/site-packages/scipy/sparse/sputils.py\u001b[0m in \u001b[0;36misintlike\u001b[0;34m(x)\u001b[0m\n\u001b[1;32m    202\u001b[0m     \u001b[0;31m# Fast-path check to eliminate non-scalar values. operator.index would\u001b[0m\u001b[0;34m\u001b[0m\u001b[0;34m\u001b[0m\u001b[0;34m\u001b[0m\u001b[0m\n\u001b[1;32m    203\u001b[0m     \u001b[0;31m# catch this case too, but the exception catching is slow.\u001b[0m\u001b[0;34m\u001b[0m\u001b[0;34m\u001b[0m\u001b[0;34m\u001b[0m\u001b[0m\n\u001b[0;32m--> 204\u001b[0;31m     \u001b[0;32mif\u001b[0m \u001b[0mnp\u001b[0m\u001b[0;34m.\u001b[0m\u001b[0mndim\u001b[0m\u001b[0;34m(\u001b[0m\u001b[0mx\u001b[0m\u001b[0;34m)\u001b[0m \u001b[0;34m!=\u001b[0m \u001b[0;36m0\u001b[0m\u001b[0;34m:\u001b[0m\u001b[0;34m\u001b[0m\u001b[0;34m\u001b[0m\u001b[0m\n\u001b[0m\u001b[1;32m    205\u001b[0m         \u001b[0;32mreturn\u001b[0m \u001b[0;32mFalse\u001b[0m\u001b[0;34m\u001b[0m\u001b[0;34m\u001b[0m\u001b[0m\n\u001b[1;32m    206\u001b[0m     \u001b[0;32mtry\u001b[0m\u001b[0;34m:\u001b[0m\u001b[0;34m\u001b[0m\u001b[0;34m\u001b[0m\u001b[0m\n",
      "\u001b[0;32m<__array_function__ internals>\u001b[0m in \u001b[0;36mndim\u001b[0;34m(*args, **kwargs)\u001b[0m\n",
      "\u001b[0;32m~/anaconda3/envs/hactnet/lib/python3.7/site-packages/numpy/core/fromnumeric.py\u001b[0m in \u001b[0;36m_ndim_dispatcher\u001b[0;34m(a)\u001b[0m\n\u001b[1;32m   3100\u001b[0m \u001b[0;34m\u001b[0m\u001b[0m\n\u001b[1;32m   3101\u001b[0m \u001b[0;34m\u001b[0m\u001b[0m\n\u001b[0;32m-> 3102\u001b[0;31m \u001b[0;32mdef\u001b[0m \u001b[0m_ndim_dispatcher\u001b[0m\u001b[0;34m(\u001b[0m\u001b[0ma\u001b[0m\u001b[0;34m)\u001b[0m\u001b[0;34m:\u001b[0m\u001b[0;34m\u001b[0m\u001b[0;34m\u001b[0m\u001b[0m\n\u001b[0m\u001b[1;32m   3103\u001b[0m     \u001b[0;32mreturn\u001b[0m \u001b[0;34m(\u001b[0m\u001b[0ma\u001b[0m\u001b[0;34m,\u001b[0m\u001b[0;34m)\u001b[0m\u001b[0;34m\u001b[0m\u001b[0;34m\u001b[0m\u001b[0m\n\u001b[1;32m   3104\u001b[0m \u001b[0;34m\u001b[0m\u001b[0m\n",
      "\u001b[0;31mKeyboardInterrupt\u001b[0m: "
     ]
    },
    {
     "data": {
      "image/png": "[encoded data removed]",
      "text/plain": [
       "<Figure size 1080x504 with 1 Axes>"
      ]
     },
     "metadata": {},
     "output_type": "display_data"
    }
   ],
   "source": [
    "# plt.figure(figsize=[15,7])\n",
    "# nx.draw(G, **options)"
   ]
  },
  {
   "cell_type": "code",
   "execution_count": 121,
   "id": "8b69312b-2b01-4dee-9d3c-f92a1ec66427",
   "metadata": {},
   "outputs": [
    {
     "ename": "ImportError",
     "evalue": "cannot import name 'convert_to_strmap' from 'dgl.container' (/home/joeleliason/anaconda3/envs/hactnet/lib/python3.7/site-packages/dgl/container.py)",
     "output_type": "error",
     "traceback": [
      "\u001b[0;31m---------------------------------------------------------------------------\u001b[0m",
      "\u001b[0;31mImportError\u001b[0m                               Traceback (most recent call last)",
      "\u001b[0;32m/tmp/ipykernel_223851/619364392.py\u001b[0m in \u001b[0;36m<module>\u001b[0;34m\u001b[0m\n\u001b[1;32m      5\u001b[0m \u001b[0;32mimport\u001b[0m \u001b[0mtorch\u001b[0m\u001b[0;34m.\u001b[0m\u001b[0mnn\u001b[0m\u001b[0;34m.\u001b[0m\u001b[0mfunctional\u001b[0m \u001b[0;32mas\u001b[0m \u001b[0mF\u001b[0m\u001b[0;34m\u001b[0m\u001b[0;34m\u001b[0m\u001b[0m\n\u001b[1;32m      6\u001b[0m \u001b[0;32mimport\u001b[0m \u001b[0mtorch\u001b[0m\u001b[0;34m.\u001b[0m\u001b[0moptim\u001b[0m \u001b[0;32mas\u001b[0m \u001b[0moptim\u001b[0m\u001b[0;34m\u001b[0m\u001b[0;34m\u001b[0m\u001b[0m\n\u001b[0;32m----> 7\u001b[0;31m \u001b[0;32mfrom\u001b[0m \u001b[0mdgl\u001b[0m\u001b[0;34m.\u001b[0m\u001b[0mdata\u001b[0m \u001b[0;32mimport\u001b[0m \u001b[0mMiniGCDataset\u001b[0m\u001b[0;34m\u001b[0m\u001b[0;34m\u001b[0m\u001b[0m\n\u001b[0m\u001b[1;32m      8\u001b[0m \u001b[0;32mfrom\u001b[0m \u001b[0mdgl\u001b[0m\u001b[0;34m.\u001b[0m\u001b[0mnn\u001b[0m\u001b[0;34m.\u001b[0m\u001b[0mpytorch\u001b[0m \u001b[0;32mimport\u001b[0m \u001b[0;34m*\u001b[0m\u001b[0;34m\u001b[0m\u001b[0;34m\u001b[0m\u001b[0m\n\u001b[1;32m      9\u001b[0m \u001b[0;32mfrom\u001b[0m \u001b[0mtorch\u001b[0m\u001b[0;34m.\u001b[0m\u001b[0mutils\u001b[0m\u001b[0;34m.\u001b[0m\u001b[0mdata\u001b[0m \u001b[0;32mimport\u001b[0m \u001b[0mDataLoader\u001b[0m\u001b[0;34m\u001b[0m\u001b[0;34m\u001b[0m\u001b[0m\n",
      "\u001b[0;32m~/anaconda3/envs/hactnet/lib/python3.7/site-packages/dgl/data/__init__.py\u001b[0m in \u001b[0;36m<module>\u001b[0;34m\u001b[0m\n\u001b[1;32m      5\u001b[0m \u001b[0;32mfrom\u001b[0m \u001b[0m__future__\u001b[0m \u001b[0;32mimport\u001b[0m \u001b[0mabsolute_import\u001b[0m\u001b[0;34m\u001b[0m\u001b[0;34m\u001b[0m\u001b[0m\n\u001b[1;32m      6\u001b[0m \u001b[0;34m\u001b[0m\u001b[0m\n\u001b[0;32m----> 7\u001b[0;31m \u001b[0;32mfrom\u001b[0m \u001b[0;34m.\u001b[0m \u001b[0;32mimport\u001b[0m \u001b[0mcitation_graph\u001b[0m \u001b[0;32mas\u001b[0m \u001b[0mcitegrh\u001b[0m\u001b[0;34m\u001b[0m\u001b[0;34m\u001b[0m\u001b[0m\n\u001b[0m\u001b[1;32m      8\u001b[0m \u001b[0;32mfrom\u001b[0m \u001b[0;34m.\u001b[0m\u001b[0mcitation_graph\u001b[0m \u001b[0;32mimport\u001b[0m \u001b[0mCoraBinary\u001b[0m\u001b[0;34m,\u001b[0m \u001b[0mCitationGraphDataset\u001b[0m\u001b[0;34m\u001b[0m\u001b[0;34m\u001b[0m\u001b[0m\n\u001b[1;32m      9\u001b[0m \u001b[0;32mfrom\u001b[0m \u001b[0;34m.\u001b[0m\u001b[0mminigc\u001b[0m \u001b[0;32mimport\u001b[0m \u001b[0;34m*\u001b[0m\u001b[0;34m\u001b[0m\u001b[0;34m\u001b[0m\u001b[0m\n",
      "\u001b[0;32m~/anaconda3/envs/hactnet/lib/python3.7/site-packages/dgl/data/citation_graph.py\u001b[0m in \u001b[0;36m<module>\u001b[0;34m\u001b[0m\n\u001b[1;32m     12\u001b[0m \u001b[0;32mimport\u001b[0m \u001b[0mos\u001b[0m\u001b[0;34m,\u001b[0m \u001b[0msys\u001b[0m\u001b[0;34m\u001b[0m\u001b[0;34m\u001b[0m\u001b[0m\n\u001b[1;32m     13\u001b[0m \u001b[0;34m\u001b[0m\u001b[0m\n\u001b[0;32m---> 14\u001b[0;31m \u001b[0;32mfrom\u001b[0m \u001b[0;34m.\u001b[0m\u001b[0mutils\u001b[0m \u001b[0;32mimport\u001b[0m \u001b[0msave_graphs\u001b[0m\u001b[0;34m,\u001b[0m \u001b[0mload_graphs\u001b[0m\u001b[0;34m,\u001b[0m \u001b[0msave_info\u001b[0m\u001b[0;34m,\u001b[0m \u001b[0mload_info\u001b[0m\u001b[0;34m,\u001b[0m \u001b[0mmakedirs\u001b[0m\u001b[0;34m,\u001b[0m \u001b[0m_get_dgl_url\u001b[0m\u001b[0;34m\u001b[0m\u001b[0;34m\u001b[0m\u001b[0m\n\u001b[0m\u001b[1;32m     15\u001b[0m \u001b[0;32mfrom\u001b[0m \u001b[0;34m.\u001b[0m\u001b[0mutils\u001b[0m \u001b[0;32mimport\u001b[0m \u001b[0mgenerate_mask_tensor\u001b[0m\u001b[0;34m\u001b[0m\u001b[0;34m\u001b[0m\u001b[0m\n\u001b[1;32m     16\u001b[0m \u001b[0;32mfrom\u001b[0m \u001b[0;34m.\u001b[0m\u001b[0mutils\u001b[0m \u001b[0;32mimport\u001b[0m \u001b[0mdeprecate_property\u001b[0m\u001b[0;34m,\u001b[0m \u001b[0mdeprecate_function\u001b[0m\u001b[0;34m\u001b[0m\u001b[0;34m\u001b[0m\u001b[0m\n",
      "\u001b[0;32m~/anaconda3/envs/hactnet/lib/python3.7/site-packages/dgl/data/utils.py\u001b[0m in \u001b[0;36m<module>\u001b[0;34m\u001b[0m\n\u001b[1;32m     14\u001b[0m \u001b[0;32mimport\u001b[0m \u001b[0merrno\u001b[0m\u001b[0;34m\u001b[0m\u001b[0;34m\u001b[0m\u001b[0m\n\u001b[1;32m     15\u001b[0m \u001b[0;34m\u001b[0m\u001b[0m\n\u001b[0;32m---> 16\u001b[0;31m \u001b[0;32mfrom\u001b[0m \u001b[0;34m.\u001b[0m\u001b[0mgraph_serialize\u001b[0m \u001b[0;32mimport\u001b[0m \u001b[0msave_graphs\u001b[0m\u001b[0;34m,\u001b[0m \u001b[0mload_graphs\u001b[0m\u001b[0;34m,\u001b[0m \u001b[0mload_labels\u001b[0m\u001b[0;34m\u001b[0m\u001b[0;34m\u001b[0m\u001b[0m\n\u001b[0m\u001b[1;32m     17\u001b[0m \u001b[0;32mfrom\u001b[0m \u001b[0;34m.\u001b[0m\u001b[0mtensor_serialize\u001b[0m \u001b[0;32mimport\u001b[0m \u001b[0msave_tensors\u001b[0m\u001b[0;34m,\u001b[0m \u001b[0mload_tensors\u001b[0m\u001b[0;34m\u001b[0m\u001b[0;34m\u001b[0m\u001b[0m\n\u001b[1;32m     18\u001b[0m \u001b[0;34m\u001b[0m\u001b[0m\n",
      "\u001b[0;32m~/anaconda3/envs/hactnet/lib/python3.7/site-packages/dgl/data/graph_serialize.py\u001b[0m in \u001b[0;36m<module>\u001b[0;34m\u001b[0m\n\u001b[1;32m      7\u001b[0m \u001b[0;32mfrom\u001b[0m \u001b[0;34m.\u001b[0m\u001b[0;34m.\u001b[0m\u001b[0m_ffi\u001b[0m\u001b[0;34m.\u001b[0m\u001b[0mfunction\u001b[0m \u001b[0;32mimport\u001b[0m \u001b[0m_init_api\u001b[0m\u001b[0;34m\u001b[0m\u001b[0;34m\u001b[0m\u001b[0m\n\u001b[1;32m      8\u001b[0m \u001b[0;32mfrom\u001b[0m \u001b[0;34m.\u001b[0m\u001b[0;34m.\u001b[0m \u001b[0;32mimport\u001b[0m \u001b[0mbackend\u001b[0m \u001b[0;32mas\u001b[0m \u001b[0mF\u001b[0m\u001b[0;34m\u001b[0m\u001b[0;34m\u001b[0m\u001b[0m\n\u001b[0;32m----> 9\u001b[0;31m \u001b[0;32mfrom\u001b[0m \u001b[0;34m.\u001b[0m\u001b[0mheterograph_serialize\u001b[0m \u001b[0;32mimport\u001b[0m \u001b[0msave_heterographs\u001b[0m\u001b[0;34m\u001b[0m\u001b[0;34m\u001b[0m\u001b[0m\n\u001b[0m\u001b[1;32m     10\u001b[0m \u001b[0;34m\u001b[0m\u001b[0m\n\u001b[1;32m     11\u001b[0m \u001b[0m_init_api\u001b[0m\u001b[0;34m(\u001b[0m\u001b[0;34m\"dgl.data.graph_serialize\"\u001b[0m\u001b[0;34m)\u001b[0m\u001b[0;34m\u001b[0m\u001b[0;34m\u001b[0m\u001b[0m\n",
      "\u001b[0;32m~/anaconda3/envs/hactnet/lib/python3.7/site-packages/dgl/data/heterograph_serialize.py\u001b[0m in \u001b[0;36m<module>\u001b[0;34m\u001b[0m\n\u001b[1;32m      6\u001b[0m \u001b[0;32mfrom\u001b[0m \u001b[0;34m.\u001b[0m\u001b[0;34m.\u001b[0m\u001b[0m_ffi\u001b[0m\u001b[0;34m.\u001b[0m\u001b[0mfunction\u001b[0m \u001b[0;32mimport\u001b[0m \u001b[0m_init_api\u001b[0m\u001b[0;34m\u001b[0m\u001b[0;34m\u001b[0m\u001b[0m\n\u001b[1;32m      7\u001b[0m \u001b[0;32mfrom\u001b[0m \u001b[0;34m.\u001b[0m\u001b[0;34m.\u001b[0m \u001b[0;32mimport\u001b[0m \u001b[0mbackend\u001b[0m \u001b[0;32mas\u001b[0m \u001b[0mF\u001b[0m\u001b[0;34m\u001b[0m\u001b[0;34m\u001b[0m\u001b[0m\n\u001b[0;32m----> 8\u001b[0;31m \u001b[0;32mfrom\u001b[0m \u001b[0;34m.\u001b[0m\u001b[0;34m.\u001b[0m\u001b[0mcontainer\u001b[0m \u001b[0;32mimport\u001b[0m \u001b[0mconvert_to_strmap\u001b[0m\u001b[0;34m\u001b[0m\u001b[0;34m\u001b[0m\u001b[0m\n\u001b[0m\u001b[1;32m      9\u001b[0m \u001b[0;34m\u001b[0m\u001b[0m\n\u001b[1;32m     10\u001b[0m \u001b[0m_init_api\u001b[0m\u001b[0;34m(\u001b[0m\u001b[0;34m\"dgl.data.heterograph_serialize\"\u001b[0m\u001b[0;34m)\u001b[0m\u001b[0;34m\u001b[0m\u001b[0;34m\u001b[0m\u001b[0m\n",
      "\u001b[0;31mImportError\u001b[0m: cannot import name 'convert_to_strmap' from 'dgl.container' (/home/joeleliason/anaconda3/envs/hactnet/lib/python3.7/site-packages/dgl/container.py)"
     ]
    }
   ],
   "source": [
    "import dgl\n",
    "import dgl.function as fn\n",
    "import torch\n",
    "import torch.nn as nn\n",
    "import torch.nn.functional as F\n",
    "import torch.optim as optim\n",
    "from dgl.data import MiniGCDataset\n",
    "from dgl.nn.pytorch import *\n",
    "from torch.utils.data import DataLoader\n",
    "\n",
    "\n",
    "class GATLayer(nn.Module):\n",
    "    def __init__(self,\n",
    "                 in_dim,\n",
    "                 out_dim,\n",
    "                 num_heads,\n",
    "                 feat_drop=0.,\n",
    "                 attn_drop=0.,\n",
    "                 alpha=0.2,\n",
    "                 agg_activation=F.elu):\n",
    "        super(GATLayer, self).__init__()\n",
    "\n",
    "        self.num_heads = num_heads\n",
    "        self.feat_drop = nn.Dropout(feat_drop)\n",
    "        self.fc = nn.Linear(in_dim, num_heads * out_dim, bias=False)\n",
    "        self.attn_l = nn.Parameter(torch.Tensor(size=(num_heads, out_dim, 1)))\n",
    "        self.attn_r = nn.Parameter(torch.Tensor(size=(num_heads, out_dim, 1)))\n",
    "        self.attn_drop = nn.Dropout(attn_drop)\n",
    "        self.activation = nn.LeakyReLU(alpha)\n",
    "        self.softmax = edge_softmax\n",
    "\n",
    "        self.agg_activation=agg_activation\n",
    "\n",
    "    def clean_data(self):\n",
    "        ndata_names = ['ft', 'a1', 'a2']\n",
    "        edata_names = ['a_drop']\n",
    "        for name in ndata_names:\n",
    "            self.g.ndata.pop(name)\n",
    "        for name in edata_names:\n",
    "            self.g.edata.pop(name)\n",
    "\n",
    "    def forward(self, feat, bg):\n",
    "        # prepare, inputs are of shape V x F, V the number of nodes, F the dim of input features\n",
    "        self.g = bg\n",
    "        h = self.feat_drop(feat)\n",
    "        # V x K x F', K number of heads, F' dim of transformed features\n",
    "        ft = self.fc(h).reshape((h.shape[0], self.num_heads, -1))\n",
    "        head_ft = ft.transpose(0, 1)                              # K x V x F'\n",
    "        a1 = torch.bmm(head_ft, self.attn_l).transpose(0, 1)      # V x K x 1\n",
    "        a2 = torch.bmm(head_ft, self.attn_r).transpose(0, 1)      # V x K x 1\n",
    "        self.g.ndata.update({'ft' : ft, 'a1' : a1, 'a2' : a2})\n",
    "        # 1. compute edge attention\n",
    "        self.g.apply_edges(self.edge_attention)\n",
    "        # 2. compute softmax in two parts: exp(x - max(x)) and sum(exp(x - max(x)))\n",
    "        self.edge_softmax()\n",
    "        # 2. compute the aggregated node features scaled by the dropped,\n",
    "        # unnormalized attention values.\n",
    "        self.g.update_all(fn.src_mul_edge('ft', 'a_drop', 'ft'), fn.sum('ft', 'ft'))\n",
    "        # 3. apply normalizer\n",
    "        ret = self.g.ndata['ft']                                  # V x K x F'\n",
    "        ret = ret.flatten(1)\n",
    "\n",
    "        if self.agg_activation is not None:\n",
    "            ret = self.agg_activation(ret)\n",
    "\n",
    "        # Clean ndata and edata\n",
    "        self.clean_data()\n",
    "\n",
    "        return ret\n",
    "\n",
    "    def edge_attention(self, edges):\n",
    "        # an edge UDF to compute un-normalized attention values from src and dst\n",
    "        a = self.activation(edges.src['a1'] + edges.dst['a2'])\n",
    "        return {'a' : a}\n",
    "\n",
    "    def edge_softmax(self):\n",
    "        attention = self.softmax(self.g, self.g.edata.pop('a'))\n",
    "        # Dropout attention scores and save them\n",
    "        self.g.edata['a_drop'] = self.attn_drop(attention)\n",
    "\n",
    "class GATClassifier(nn.Module):\n",
    "    def __init__(self, in_dim, hidden_dim, num_heads, n_classes):\n",
    "        super(GATClassifier, self).__init__()\n",
    "\n",
    "        self.layers = nn.ModuleList([\n",
    "            GATLayer(in_dim, hidden_dim, num_heads),\n",
    "            GATLayer(hidden_dim * num_heads, hidden_dim, num_heads)\n",
    "        ])\n",
    "        self.classify = nn.Linear(hidden_dim * num_heads, n_classes)\n",
    "\n",
    "    def forward(self, bg):\n",
    "        # For undirected graphs, in_degree is the same as\n",
    "        # out_degree.\n",
    "        h = bg.in_degrees().view(-1, 1).float()\n",
    "        for i, gnn in enumerate(self.layers):\n",
    "            h = gnn(h, bg)\n",
    "        bg.ndata['h'] = h\n",
    "        hg = dgl.mean_nodes(bg, 'h')\n",
    "        return self.classify(hg)\n",
    "\n",
    "def collate(samples):\n",
    "    # The input `samples` is a list of pairs\n",
    "    #  (graph, label).\n",
    "    graphs, labels = map(list, zip(*samples))\n",
    "    batched_graph = dgl.batch(graphs)\n",
    "    return batched_graph, torch.tensor(labels)"
   ]
  },
  {
   "cell_type": "code",
   "execution_count": null,
   "id": "fc6d4bea-803e-4187-b683-1d0f643b78ac",
   "metadata": {},
   "outputs": [],
   "source": [
    "# Create training and test sets.\n",
    "trainset = MiniGCDataset(320, 10, 20)\n",
    "testset = MiniGCDataset(80, 10, 20)\n",
    "# Use PyTorch's DataLoader and the collate function\n",
    "# defined before.\n",
    "data_loader = DataLoader(trainset, batch_size=32, shuffle=True,\n",
    "                         collate_fn=collate)\n",
    "\n",
    "# Create model\n",
    "model = GATClassifier(1, 16, 8, trainset.num_classes)\n",
    "loss_func = nn.CrossEntropyLoss()\n",
    "optimizer = optim.Adam(model.parameters(), lr=0.001)\n",
    "model.train()\n",
    "\n",
    "epoch_losses = []\n",
    "for epoch in range(80):\n",
    "    epoch_loss = 0\n",
    "    for iter, (bg, label) in enumerate(data_loader):\n",
    "        prediction = model(bg)\n",
    "        loss = loss_func(prediction, label)\n",
    "        optimizer.zero_grad()\n",
    "        loss.backward()\n",
    "        optimizer.step()\n",
    "        epoch_loss += loss.detach().item()\n",
    "    epoch_loss /= (iter + 1)\n",
    "    print('Epoch {}, loss {:.4f}'.format(epoch, epoch_loss))\n",
    "    epoch_losses.append(epoch_loss)\n",
    "\n",
    "model.eval()\n",
    "# Convert a list of tuples to two lists\n",
    "test_X, test_Y = map(list, zip(*testset))\n",
    "test_bg = dgl.batch(test_X)\n",
    "test_Y = torch.tensor(test_Y).float().view(-1, 1)\n",
    "probs_Y = torch.softmax(model(test_bg), 1)\n",
    "sampled_Y = torch.multinomial(probs_Y, 1)\n",
    "argmax_Y = torch.max(probs_Y, 1)[1].view(-1, 1)\n",
    "print('Accuracy of sampled predictions on the test set: {:.4f}%'.format(\n",
    "    (test_Y == sampled_Y.float()).sum().item() / len(test_Y) * 100))\n",
    "print('Accuracy of argmax predictions on the test set: {:4f}%'.format(\n",
    "    (test_Y == argmax_Y.float()).sum().item() / len(test_Y) * 100))"
   ]
  }
 ],
 "metadata": {
  "kernelspec": {
   "display_name": "Python 3 (ipykernel)",
   "language": "python",
   "name": "python3"
  },
  "language_info": {
   "codemirror_mode": {
    "name": "ipython",
    "version": 3
   },
   "file_extension": ".py",
   "mimetype": "text/x-python",
   "name": "python",
   "nbconvert_exporter": "python",
   "pygments_lexer": "ipython3",
   "version": "3.7.12"
  }
 },
 "nbformat": 4,
 "nbformat_minor": 5
}
