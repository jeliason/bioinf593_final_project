{
 "cells": [
  {
   "cell_type": "code",
   "execution_count": 1,
   "metadata": {},
   "outputs": [],
   "source": [
    "import pandas as pd\n",
    "import pickle\n",
    "from sklearn.svm import LinearSVC "
   ]
  },
  {
   "cell_type": "code",
   "execution_count": 2,
   "metadata": {},
   "outputs": [],
   "source": [
    "group_data_path = \"group_final_res/b0f84ebd\""
   ]
  },
  {
   "cell_type": "code",
   "execution_count": 3,
   "metadata": {},
   "outputs": [],
   "source": [
    "group_train_path = \"{}/train_data.pkl\".format(group_data_path)\n",
    "group_val_path = \"{}/val_data.pkl\".format(group_data_path)"
   ]
  },
  {
   "cell_type": "code",
   "execution_count": 4,
   "metadata": {},
   "outputs": [
    {
     "name": "stderr",
     "output_type": "stream",
     "text": [
      "Using backend: pytorch\n"
     ]
    }
   ],
   "source": [
    "with open(group_train_path, 'rb') as f:\n",
    "    group_train = pickle.load(f)"
   ]
  },
  {
   "cell_type": "code",
   "execution_count": 5,
   "metadata": {},
   "outputs": [],
   "source": [
    "with open(group_val_path, 'rb') as f:\n",
    "    group_val = pickle.load(f)"
   ]
  },
  {
   "cell_type": "code",
   "execution_count": 6,
   "metadata": {},
   "outputs": [],
   "source": [
    "with open(\"{}/model-36.pkl\".format(group_data_path), 'rb') as f:\n",
    "    best_group_model = pickle.load(f)"
   ]
  },
  {
   "cell_type": "code",
   "execution_count": 7,
   "metadata": {},
   "outputs": [
    {
     "data": {
      "text/plain": [
       "0.9"
      ]
     },
     "execution_count": 7,
     "metadata": {},
     "output_type": "execute_result"
    }
   ],
   "source": [
    "best_group_model.test(group_val)"
   ]
  },
  {
   "cell_type": "code",
   "execution_count": 9,
   "metadata": {},
   "outputs": [
    {
     "data": {
      "text/plain": [
       "torch.Size([2375, 74])"
      ]
     },
     "execution_count": 9,
     "metadata": {},
     "output_type": "execute_result"
    }
   ],
   "source": [
    "group_train[0][0].ndata[\"feat\"].shape"
   ]
  },
  {
   "cell_type": "code",
   "execution_count": 10,
   "metadata": {},
   "outputs": [
    {
     "data": {
      "text/plain": [
       "1"
      ]
     },
     "execution_count": 10,
     "metadata": {},
     "output_type": "execute_result"
    }
   ],
   "source": [
    "group_train[0][1]"
   ]
  },
  {
   "cell_type": "code",
   "execution_count": 13,
   "metadata": {},
   "outputs": [],
   "source": [
    "import numpy as np\n",
    "import torch"
   ]
  },
  {
   "cell_type": "code",
   "execution_count": 16,
   "metadata": {},
   "outputs": [
    {
     "data": {
      "text/plain": [
       "array([ 2.8108296e-09,  4.0154706e-09, -6.0232064e-10, -4.4170179e-09,\n",
       "       -4.0154706e-09, -8.0309415e-10,  5.6216591e-09, -3.6139238e-09,\n",
       "       -1.6061883e-09,  6.4247532e-09,  4.0154707e-10,  1.6061883e-09,\n",
       "        2.8108296e-09,  1.8069619e-09, -4.4170179e-09, -8.0309412e-09,\n",
       "        8.0309415e-10,  8.0309415e-10, -1.7065751e-09, -7.2278477e-09,\n",
       "        1.2046413e-09,  1.4054148e-09,  8.8340357e-09,  8.0309415e-10,\n",
       "        6.4247532e-09, -2.8108296e-09,  0.0000000e+00, -2.4092826e-09,\n",
       "       -3.2123766e-09, -8.0309415e-10,  8.0309412e-09,  6.0232064e-10,\n",
       "       -4.8185651e-09,  2.4092826e-09,  8.0309415e-10,  8.0309412e-09,\n",
       "        8.0309415e-10,  0.0000000e+00, -8.0309415e-10, -4.0154706e-09,\n",
       "       -1.6061883e-09,  4.0154706e-09, -4.8185651e-09,  0.0000000e+00,\n",
       "        5.6216591e-09,  3.2123766e-09, -3.2123766e-09,  5.6216591e-09,\n",
       "        0.0000000e+00, -8.0309412e-09,  8.0309415e-10, -8.0309415e-10,\n",
       "       -5.2201119e-09, -1.6061883e-09, -6.4247532e-09, -8.0309415e-10,\n",
       "        4.4170179e-09, -3.2123766e-09,  4.0154706e-09,  1.2046413e-08,\n",
       "       -9.6371302e-09, -1.5861110e-08,  0.0000000e+00,  2.2888184e-08,\n",
       "        0.0000000e+00,  0.0000000e+00,  1.6061882e-08,  4.0154707e-10,\n",
       "        0.0000000e+00,  3.2123766e-09,  4.8185651e-09,  2.4092826e-09,\n",
       "        6.4247532e-09,  5.6216591e-09], dtype=float32)"
      ]
     },
     "execution_count": 16,
     "metadata": {},
     "output_type": "execute_result"
    }
   ],
   "source": [
    "torch.mean(group_train[0][0].ndata[\"feat\"], axis=0).numpy()"
   ]
  },
  {
   "cell_type": "code",
   "execution_count": 54,
   "metadata": {},
   "outputs": [],
   "source": [
    "svm_train_data_group = [[i[0].ndata[\"feat\"].numpy(), i[1]] for i in group_train]"
   ]
  },
  {
   "cell_type": "code",
   "execution_count": 55,
   "metadata": {},
   "outputs": [],
   "source": [
    "svm_val_data_group = [[i[0].ndata[\"feat\"].numpy(), i[1]] for i in group_val]"
   ]
  },
  {
   "cell_type": "code",
   "execution_count": 61,
   "metadata": {},
   "outputs": [],
   "source": [
    "svm_train_data_group = [[i[0].ndata[\"feat\"].numpy(), np.array([i[1]]*i[0].ndata['feat'].shape[0])] for i in group_train]"
   ]
  },
  {
   "cell_type": "code",
   "execution_count": 63,
   "metadata": {},
   "outputs": [],
   "source": [
    "X_train = np.concatenate([i[0] for i in svm_train_data_group])"
   ]
  },
  {
   "cell_type": "code",
   "execution_count": 64,
   "metadata": {},
   "outputs": [],
   "source": [
    "y_train = np.concatenate([i[1] for i in svm_train_data_group])"
   ]
  },
  {
   "cell_type": "code",
   "execution_count": 89,
   "metadata": {},
   "outputs": [],
   "source": [
    "from sklearn.ensemble import RandomForestClassifier\n",
    "model = RandomForestClassifier()\n"
   ]
  },
  {
   "cell_type": "code",
   "execution_count": 90,
   "metadata": {},
   "outputs": [
    {
     "data": {
      "text/plain": [
       "RandomForestClassifier()"
      ]
     },
     "execution_count": 90,
     "metadata": {},
     "output_type": "execute_result"
    }
   ],
   "source": [
    "model.fit(X_train, y_train)"
   ]
  },
  {
   "cell_type": "code",
   "execution_count": 91,
   "metadata": {},
   "outputs": [],
   "source": [
    "model_preds_raw_group = [model.predict(i[0]) for i in svm_val_data_group]"
   ]
  },
  {
   "cell_type": "code",
   "execution_count": 92,
   "metadata": {},
   "outputs": [
    {
     "data": {
      "text/plain": [
       "1"
      ]
     },
     "execution_count": 92,
     "metadata": {},
     "output_type": "execute_result"
    }
   ],
   "source": [
    "round(sum(model_preds_raw_group[0])/len(model_preds_raw_group[0]))"
   ]
  },
  {
   "cell_type": "code",
   "execution_count": 93,
   "metadata": {},
   "outputs": [],
   "source": [
    "group_maj_vote = [round(sum(i)/len(i)) for i in model_preds_raw_group]"
   ]
  },
  {
   "cell_type": "code",
   "execution_count": 95,
   "metadata": {},
   "outputs": [],
   "source": [
    "def accuracy(first, second):\n",
    "    assert(len(first) == len(second))\n",
    "    corr = 0\n",
    "    for i in range(len(first)):\n",
    "        if first[i] == second[i]:\n",
    "            corr+=1\n",
    "    return corr/len(first)"
   ]
  },
  {
   "cell_type": "code",
   "execution_count": 97,
   "metadata": {},
   "outputs": [
    {
     "data": {
      "text/plain": [
       "0.6428571428571429"
      ]
     },
     "execution_count": 97,
     "metadata": {},
     "output_type": "execute_result"
    }
   ],
   "source": [
    "accuracy(group_maj_vote, [i[1] for i in svm_val_data_group])"
   ]
  },
  {
   "cell_type": "code",
   "execution_count": 98,
   "metadata": {},
   "outputs": [],
   "source": [
    "stage_data_path = \"stage_final_res/fa73b31b\""
   ]
  },
  {
   "cell_type": "code",
   "execution_count": 99,
   "metadata": {},
   "outputs": [],
   "source": [
    "stage_train_path = \"{}/train_data.pkl\".format(stage_data_path)\n",
    "stage_val_path = \"{}/val_data.pkl\".format(stage_data_path)"
   ]
  },
  {
   "cell_type": "code",
   "execution_count": 100,
   "metadata": {},
   "outputs": [],
   "source": [
    "with open(stage_train_path, 'rb') as f:\n",
    "    stage_train = pickle.load(f)"
   ]
  },
  {
   "cell_type": "code",
   "execution_count": 101,
   "metadata": {},
   "outputs": [],
   "source": [
    "with open(stage_val_path, 'rb') as f:\n",
    "    stage_val = pickle.load(f)"
   ]
  },
  {
   "cell_type": "code",
   "execution_count": 102,
   "metadata": {},
   "outputs": [],
   "source": [
    "with open(\"{}/model-48.pkl\".format(stage_data_path), 'rb') as f:\n",
    "    best_stage_model = pickle.load(f)"
   ]
  },
  {
   "cell_type": "code",
   "execution_count": 103,
   "metadata": {},
   "outputs": [
    {
     "data": {
      "text/plain": [
       "0.83"
      ]
     },
     "execution_count": 103,
     "metadata": {},
     "output_type": "execute_result"
    }
   ],
   "source": [
    "best_stage_model.test(stage_val)"
   ]
  },
  {
   "cell_type": "code",
   "execution_count": 115,
   "metadata": {},
   "outputs": [],
   "source": [
    "model = RandomForestClassifier()"
   ]
  },
  {
   "cell_type": "code",
   "execution_count": 109,
   "metadata": {},
   "outputs": [],
   "source": [
    "svm_train_data_stage = [[i[0].ndata[\"feat\"].numpy(), np.array([i[1]]*i[0].ndata['feat'].shape[0])] for i in stage_train]"
   ]
  },
  {
   "cell_type": "code",
   "execution_count": 110,
   "metadata": {},
   "outputs": [],
   "source": [
    "svm_val_data_stage = [[i[0].ndata[\"feat\"].numpy(), i[1]] for i in stage_val]"
   ]
  },
  {
   "cell_type": "code",
   "execution_count": 111,
   "metadata": {},
   "outputs": [],
   "source": [
    "X_train = np.concatenate([i[0] for i in svm_train_data_stage])"
   ]
  },
  {
   "cell_type": "code",
   "execution_count": 112,
   "metadata": {},
   "outputs": [],
   "source": [
    "y_train = np.concatenate([i[1] for i in svm_train_data_stage])"
   ]
  },
  {
   "cell_type": "code",
   "execution_count": 116,
   "metadata": {},
   "outputs": [
    {
     "data": {
      "text/plain": [
       "RandomForestClassifier()"
      ]
     },
     "execution_count": 116,
     "metadata": {},
     "output_type": "execute_result"
    }
   ],
   "source": [
    "model.fit(X_train, y_train)"
   ]
  },
  {
   "cell_type": "code",
   "execution_count": 117,
   "metadata": {},
   "outputs": [],
   "source": [
    "model_preds_raw_stage = [model.predict(i[0]) for i in svm_val_data_stage]"
   ]
  },
  {
   "cell_type": "code",
   "execution_count": 118,
   "metadata": {},
   "outputs": [],
   "source": [
    "stage_maj_vote = [round(sum(i)/len(i)) for i in model_preds_raw_stage]"
   ]
  },
  {
   "cell_type": "code",
   "execution_count": 120,
   "metadata": {},
   "outputs": [
    {
     "data": {
      "text/plain": [
       "0.8095238095238095"
      ]
     },
     "execution_count": 120,
     "metadata": {},
     "output_type": "execute_result"
    }
   ],
   "source": [
    "accuracy(stage_maj_vote, [i[1] for i in svm_val_data_stage])"
   ]
  },
  {
   "cell_type": "code",
   "execution_count": 123,
   "metadata": {},
   "outputs": [],
   "source": [
    "stage_gnn_res = best_stage_model.infer([i[0] for i in stage_val])"
   ]
  },
  {
   "cell_type": "code",
   "execution_count": 126,
   "metadata": {},
   "outputs": [],
   "source": [
    "def precision(predicted, actual):\n",
    "    assert(len(predicted) == len(actual))\n",
    "    all_positive = 0\n",
    "    true_positive = 0\n",
    "    for i in range(len(predicted)):\n",
    "        if predicted[i] == 1:\n",
    "            all_positive+=1\n",
    "            if actual[i] == 1:\n",
    "                true_positive+=1\n",
    "    return true_positive/all_positive"
   ]
  },
  {
   "cell_type": "code",
   "execution_count": 127,
   "metadata": {},
   "outputs": [],
   "source": [
    "def recall(predicted, actual):\n",
    "    assert(len(predicted) == len(actual))\n",
    "    actual_positives = 0\n",
    "    retrived_positives = 0\n",
    "    for i in range(len(predicted)):\n",
    "        if actual[i] == 1:\n",
    "            actual_positives+=1\n",
    "            if predicted[i] == 1:\n",
    "                retrived_positives+=1\n",
    "    return retrived_positives/actual_positives"
   ]
  },
  {
   "cell_type": "code",
   "execution_count": 128,
   "metadata": {},
   "outputs": [
    {
     "data": {
      "text/plain": [
       "0.0"
      ]
     },
     "execution_count": 128,
     "metadata": {},
     "output_type": "execute_result"
    }
   ],
   "source": [
    "precision(stage_maj_vote, [i[1] for i in svm_val_data_stage])"
   ]
  },
  {
   "cell_type": "code",
   "execution_count": 129,
   "metadata": {},
   "outputs": [
    {
     "data": {
      "text/plain": [
       "0.5"
      ]
     },
     "execution_count": 129,
     "metadata": {},
     "output_type": "execute_result"
    }
   ],
   "source": [
    "precision(stage_gnn_res, [i[1] for i in svm_val_data_stage])"
   ]
  },
  {
   "cell_type": "code",
   "execution_count": 133,
   "metadata": {},
   "outputs": [
    {
     "data": {
      "text/plain": [
       "0.0"
      ]
     },
     "execution_count": 133,
     "metadata": {},
     "output_type": "execute_result"
    }
   ],
   "source": [
    "recall(stage_maj_vote, [i[1] for i in svm_val_data_stage])"
   ]
  },
  {
   "cell_type": "code",
   "execution_count": 134,
   "metadata": {},
   "outputs": [
    {
     "data": {
      "text/plain": [
       "0.5714285714285714"
      ]
     },
     "execution_count": 134,
     "metadata": {},
     "output_type": "execute_result"
    }
   ],
   "source": [
    "recall(stage_gnn_res, [i[1] for i in svm_val_data_stage])"
   ]
  },
  {
   "cell_type": "code",
   "execution_count": 135,
   "metadata": {},
   "outputs": [
    {
     "data": {
      "text/plain": [
       "7"
      ]
     },
     "execution_count": 135,
     "metadata": {},
     "output_type": "execute_result"
    }
   ],
   "source": [
    "sum([i[1] for i in svm_val_data_stage])"
   ]
  }
 ],
 "metadata": {
  "interpreter": {
   "hash": "f32023d3187841795697d47a9066836f1d96daf3799e179b4995fcdf98db168e"
  },
  "kernelspec": {
   "display_name": "Python 3.8.5 64-bit ('base': conda)",
   "language": "python",
   "name": "python3"
  },
  "language_info": {
   "codemirror_mode": {
    "name": "ipython",
    "version": 3
   },
   "file_extension": ".py",
   "mimetype": "text/x-python",
   "name": "python",
   "nbconvert_exporter": "python",
   "pygments_lexer": "ipython3",
   "version": "3.8.5"
  },
  "orig_nbformat": 4
 },
 "nbformat": 4,
 "nbformat_minor": 2
}
